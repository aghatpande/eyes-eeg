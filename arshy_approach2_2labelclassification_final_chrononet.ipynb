{
  "nbformat": 4,
  "nbformat_minor": 0,
  "metadata": {
    "colab": {
      "name": "arshy_approach2_2labelclassification_final_chrononet.ipynb",
      "provenance": [],
      "collapsed_sections": [
        "nYH5z89mrhtQ",
        "rvuP15DOsOJg"
      ]
    },
    "kernelspec": {
      "name": "python3",
      "display_name": "Python 3"
    },
    "language_info": {
      "name": "python"
    },
    "accelerator": "GPU"
  },
  "cells": [
    {
      "cell_type": "markdown",
      "source": [
        "in this notebook, we will use the preprocessed data using approach 2 to classify eyesopen, eyesclosed using the following method\n",
        "\n",
        "Method 1\n",
        "- classify using only the following channels [27, 28, 29, 30, 57, 58, 59 ,60] these are channels related to occipital\n",
        "\n",
        "Method 2\n",
        "- Use only the Oz channel\n",
        "\n",
        "Method 3\n",
        "- all occipital channels plus P3, P4"
      ],
      "metadata": {
        "id": "0Xu98LxxlBcI"
      }
    },
    {
      "cell_type": "code",
      "source": [
        "!pip install fastai timm -Uqq"
      ],
      "metadata": {
        "colab": {
          "base_uri": "https://localhost:8080/"
        },
        "id": "19wkXCRagdd-",
        "outputId": "cf5df975-0752-4740-b5af-c6184b4ee44e"
      },
      "execution_count": 1,
      "outputs": [
        {
          "output_type": "stream",
          "name": "stdout",
          "text": [
            "\u001b[K     |████████████████████████████████| 187 kB 5.5 MB/s \n",
            "\u001b[K     |████████████████████████████████| 431 kB 44.3 MB/s \n",
            "\u001b[K     |████████████████████████████████| 56 kB 2.1 MB/s \n",
            "\u001b[?25h"
          ]
        }
      ]
    },
    {
      "cell_type": "code",
      "execution_count": 2,
      "metadata": {
        "colab": {
          "base_uri": "https://localhost:8080/"
        },
        "id": "ag-mhfnYk6T1",
        "outputId": "5390de40-d1a2-462d-c996-517c0bae271c"
      },
      "outputs": [
        {
          "output_type": "stream",
          "name": "stdout",
          "text": [
            "Mounted at /content/drive\n"
          ]
        }
      ],
      "source": [
        "from google.colab import drive\n",
        "drive.mount('/content/drive') "
      ]
    },
    {
      "cell_type": "code",
      "source": [
        "%cd /content/drive/MyDrive/colab_notebooks/algovera/lynxhack"
      ],
      "metadata": {
        "colab": {
          "base_uri": "https://localhost:8080/"
        },
        "id": "jiB8kHxxn6Pd",
        "outputId": "b6d0afa8-f129-4775-d928-0e27d99494fe"
      },
      "execution_count": 3,
      "outputs": [
        {
          "output_type": "stream",
          "name": "stdout",
          "text": [
            "/content/drive/MyDrive/colab_notebooks/algovera/lynxhack\n"
          ]
        }
      ]
    },
    {
      "cell_type": "code",
      "source": [
        "import timm\n",
        "from timm import create_model\n",
        "from timm.models.efficientnet_blocks import DepthwiseSeparableConv\n",
        "from timm.models.layers import create_conv2d\n",
        "from fastai.vision.all import *\n",
        "\n",
        "import torch\n",
        "import torch.nn as nn\n",
        "\n",
        "import pandas as pd\n",
        "import numpy as np\n",
        "import pickle"
      ],
      "metadata": {
        "id": "x1AJacmIn_Ba"
      },
      "execution_count": 4,
      "outputs": []
    },
    {
      "cell_type": "code",
      "source": [
        "df = pd.read_csv('approach2infos.csv')"
      ],
      "metadata": {
        "id": "L8_7vQyxoHIq"
      },
      "execution_count": 5,
      "outputs": []
    },
    {
      "cell_type": "code",
      "source": [
        "df = df[df['label'].isin(['task-eyes closed', 'task-eyes open'])]"
      ],
      "metadata": {
        "id": "pnDZhJicoSlm"
      },
      "execution_count": 6,
      "outputs": []
    },
    {
      "cell_type": "code",
      "source": [
        "df_train = df[df['is_valid']==False]\n",
        "df_val = df[df['is_valid']==True]"
      ],
      "metadata": {
        "id": "ZEg0BK-toTKT"
      },
      "execution_count": 7,
      "outputs": []
    },
    {
      "cell_type": "code",
      "source": [
        "ss = pickle.load(open('ss_approach2.pkl', 'rb'))"
      ],
      "metadata": {
        "id": "63teCnkopjKz"
      },
      "execution_count": 8,
      "outputs": []
    },
    {
      "cell_type": "code",
      "source": [
        "class Block(nn.Module):\n",
        "  def __init__(self,inplace):\n",
        "      super().__init__()\n",
        "      self.conv1=nn.Conv1d(in_channels=inplace,out_channels=32,kernel_size=2,stride=2,padding=0)\n",
        "      self.conv2=nn.Conv1d(in_channels=inplace,out_channels=32,kernel_size=4,stride=2,padding=1)\n",
        "      self.conv3=nn.Conv1d(in_channels=inplace,out_channels=32,kernel_size=8,stride=2,padding=3)\n",
        "      self.relu=nn.ReLU()\n",
        "\n",
        "  def forward(self,x):\n",
        "      x1=self.relu(self.conv1(x))\n",
        "      x2=self.relu(self.conv2(x))\n",
        "      x3=self.relu(self.conv3(x))\n",
        "      x=torch.cat([x1,x3,x3],dim=1)\n",
        "      return x\n",
        "\n",
        "\n",
        "class ChronoNet(nn.Module):\n",
        "  def __init__(self,channel):\n",
        "      super().__init__()\n",
        "      self.block1=Block(channel)\n",
        "      self.block2=Block(96)\n",
        "      self.block3=Block(96)\n",
        "      self.gru1=nn.GRU(input_size=96,hidden_size=32,batch_first=True)\n",
        "      self.gru2=nn.GRU(input_size=32,hidden_size=32,batch_first=True)\n",
        "      self.gru3=nn.GRU(input_size=64,hidden_size=32,batch_first=True)\n",
        "      self.gru4=nn.GRU(input_size=96,hidden_size=32,batch_first=True)\n",
        "      self.gru_linear=nn.Linear(625,1)\n",
        "      self.flatten=nn.Flatten()\n",
        "      self.fc1=nn.Linear(32,2)\n",
        "      self.relu=nn.ReLU()\n",
        "\n",
        "  def forward(self,x):\n",
        "      x=self.block1(x)\n",
        "      x=self.block2(x)\n",
        "      x=self.block3(x)\n",
        "      x=x.permute(0,2,1)\n",
        "      gru_out1,_=self.gru1(x)\n",
        "      gru_out2,_=self.gru2(gru_out1)\n",
        "      gru_out=torch.cat([gru_out1,gru_out2],dim=2)\n",
        "      gru_out3,_=self.gru3(gru_out)\n",
        "      gru_out=torch.cat([gru_out1,gru_out2,gru_out3],dim=2)\n",
        "      #print('gru_out',gru_out.shape)\n",
        "      linear_out=self.relu(self.gru_linear(gru_out.permute(0,2,1)))\n",
        "      gru_out4,_=self.gru4(linear_out.permute(0,2,1))\n",
        "      x=self.flatten(gru_out4)\n",
        "      x=self.fc1(x)\n",
        "      return x"
      ],
      "metadata": {
        "id": "c-m3NOZRPav2"
      },
      "execution_count": 33,
      "outputs": []
    },
    {
      "cell_type": "markdown",
      "source": [
        "## Method 1 with ChronoNet"
      ],
      "metadata": {
        "id": "lDf6-TWCftQP"
      }
    },
    {
      "cell_type": "code",
      "source": [
        "include = [27, 28, 29, 30, 57, 58, 59 ,60] # only channels related to occipital\n",
        "\n",
        "def read_eeg(fn):\n",
        "    include = [27, 28, 29, 30, 57, 58, 59 ,60] # only channels related to occipital\n",
        "    x= np.load(fn)\n",
        "    x = ss.transform(x)\n",
        "    return x[include]\n",
        "    \n",
        "def EEGBlock():\n",
        "    return TransformBlock(type_tfms=read_eeg)"
      ],
      "metadata": {
        "id": "FAXssXWKgNcO"
      },
      "execution_count": 34,
      "outputs": []
    },
    {
      "cell_type": "code",
      "source": [
        "label_index = {\n",
        "    'task-eyes closed':0, \n",
        "    'task-eyes open':1,       \n",
        "}"
      ],
      "metadata": {
        "id": "cPHVP5wpgmPC"
      },
      "execution_count": 35,
      "outputs": []
    },
    {
      "cell_type": "code",
      "source": [
        "dblock = DataBlock(blocks=(EEGBlock, CategoryBlock),\n",
        "                   get_x=ColReader('fns'),\n",
        "                   get_y=ColReader('label'),\n",
        "                   splitter=ColSplitter())\n",
        "\n",
        "dls = dblock.dataloaders(df)"
      ],
      "metadata": {
        "id": "xQz93ptwgu31"
      },
      "execution_count": 36,
      "outputs": []
    },
    {
      "cell_type": "code",
      "source": [
        "x,y = dls.one_batch()"
      ],
      "metadata": {
        "id": "bnotoc8vhdn0"
      },
      "execution_count": 37,
      "outputs": []
    },
    {
      "cell_type": "code",
      "source": [
        "model = ChronoNet(8)   \n",
        "apply_init(model, nn.init.kaiming_normal_)"
      ],
      "metadata": {
        "id": "VfCA64cDhfOD"
      },
      "execution_count": 38,
      "outputs": []
    },
    {
      "cell_type": "code",
      "source": [
        "learn = Learner(dls, \n",
        "                model, \n",
        "                loss_func=LabelSmoothingCrossEntropyFlat(),\n",
        "                cbs=[GradientClip(),\n",
        "                    # EEGCallback(),\n",
        "                     SaveModelCallback(fname='chrononet')],\n",
        "                metrics=accuracy\n",
        "        ).to_fp16()"
      ],
      "metadata": {
        "id": "AwadPAPihzO-"
      },
      "execution_count": 39,
      "outputs": []
    },
    {
      "cell_type": "code",
      "source": [
        "learn.fit_one_cycle(20, 1e-2)"
      ],
      "metadata": {
        "colab": {
          "base_uri": "https://localhost:8080/",
          "height": 763
        },
        "id": "_5cYndmxh09t",
        "outputId": "9d4f84dc-2167-434b-d4af-63921d4304ae"
      },
      "execution_count": 40,
      "outputs": [
        {
          "output_type": "display_data",
          "data": {
            "text/plain": [
              "<IPython.core.display.HTML object>"
            ],
            "text/html": [
              "\n",
              "<style>\n",
              "    /* Turns off some styling */\n",
              "    progress {\n",
              "        /* gets rid of default border in Firefox and Opera. */\n",
              "        border: none;\n",
              "        /* Needs to be in here for Safari polyfill so background images work as expected. */\n",
              "        background-size: auto;\n",
              "    }\n",
              "    .progress-bar-interrupted, .progress-bar-interrupted::-webkit-progress-bar {\n",
              "        background: #F44336;\n",
              "    }\n",
              "</style>\n"
            ]
          },
          "metadata": {}
        },
        {
          "output_type": "display_data",
          "data": {
            "text/plain": [
              "<IPython.core.display.HTML object>"
            ],
            "text/html": [
              "<table border=\"1\" class=\"dataframe\">\n",
              "  <thead>\n",
              "    <tr style=\"text-align: left;\">\n",
              "      <th>epoch</th>\n",
              "      <th>train_loss</th>\n",
              "      <th>valid_loss</th>\n",
              "      <th>accuracy</th>\n",
              "      <th>time</th>\n",
              "    </tr>\n",
              "  </thead>\n",
              "  <tbody>\n",
              "    <tr>\n",
              "      <td>0</td>\n",
              "      <td>0.703452</td>\n",
              "      <td>0.688377</td>\n",
              "      <td>0.465517</td>\n",
              "      <td>00:26</td>\n",
              "    </tr>\n",
              "    <tr>\n",
              "      <td>1</td>\n",
              "      <td>0.693514</td>\n",
              "      <td>0.648676</td>\n",
              "      <td>0.775862</td>\n",
              "      <td>00:14</td>\n",
              "    </tr>\n",
              "    <tr>\n",
              "      <td>2</td>\n",
              "      <td>0.678733</td>\n",
              "      <td>0.580268</td>\n",
              "      <td>0.810345</td>\n",
              "      <td>00:14</td>\n",
              "    </tr>\n",
              "    <tr>\n",
              "      <td>3</td>\n",
              "      <td>0.652153</td>\n",
              "      <td>0.612029</td>\n",
              "      <td>0.603448</td>\n",
              "      <td>00:14</td>\n",
              "    </tr>\n",
              "    <tr>\n",
              "      <td>4</td>\n",
              "      <td>0.630647</td>\n",
              "      <td>0.485828</td>\n",
              "      <td>0.827586</td>\n",
              "      <td>00:14</td>\n",
              "    </tr>\n",
              "    <tr>\n",
              "      <td>5</td>\n",
              "      <td>0.597224</td>\n",
              "      <td>0.522725</td>\n",
              "      <td>0.741379</td>\n",
              "      <td>00:14</td>\n",
              "    </tr>\n",
              "    <tr>\n",
              "      <td>6</td>\n",
              "      <td>0.572119</td>\n",
              "      <td>0.536297</td>\n",
              "      <td>0.844828</td>\n",
              "      <td>00:14</td>\n",
              "    </tr>\n",
              "    <tr>\n",
              "      <td>7</td>\n",
              "      <td>0.556862</td>\n",
              "      <td>0.509785</td>\n",
              "      <td>0.775862</td>\n",
              "      <td>00:14</td>\n",
              "    </tr>\n",
              "    <tr>\n",
              "      <td>8</td>\n",
              "      <td>0.539805</td>\n",
              "      <td>0.495812</td>\n",
              "      <td>0.810345</td>\n",
              "      <td>00:14</td>\n",
              "    </tr>\n",
              "    <tr>\n",
              "      <td>9</td>\n",
              "      <td>0.515386</td>\n",
              "      <td>0.472514</td>\n",
              "      <td>0.810345</td>\n",
              "      <td>00:14</td>\n",
              "    </tr>\n",
              "    <tr>\n",
              "      <td>10</td>\n",
              "      <td>0.494797</td>\n",
              "      <td>0.577667</td>\n",
              "      <td>0.706897</td>\n",
              "      <td>00:14</td>\n",
              "    </tr>\n",
              "    <tr>\n",
              "      <td>11</td>\n",
              "      <td>0.472662</td>\n",
              "      <td>0.487111</td>\n",
              "      <td>0.810345</td>\n",
              "      <td>00:14</td>\n",
              "    </tr>\n",
              "    <tr>\n",
              "      <td>12</td>\n",
              "      <td>0.451789</td>\n",
              "      <td>0.583500</td>\n",
              "      <td>0.741379</td>\n",
              "      <td>00:14</td>\n",
              "    </tr>\n",
              "    <tr>\n",
              "      <td>13</td>\n",
              "      <td>0.431826</td>\n",
              "      <td>0.503707</td>\n",
              "      <td>0.827586</td>\n",
              "      <td>00:14</td>\n",
              "    </tr>\n",
              "    <tr>\n",
              "      <td>14</td>\n",
              "      <td>0.411465</td>\n",
              "      <td>0.559136</td>\n",
              "      <td>0.775862</td>\n",
              "      <td>00:14</td>\n",
              "    </tr>\n",
              "    <tr>\n",
              "      <td>15</td>\n",
              "      <td>0.391695</td>\n",
              "      <td>0.510978</td>\n",
              "      <td>0.844828</td>\n",
              "      <td>00:14</td>\n",
              "    </tr>\n",
              "    <tr>\n",
              "      <td>16</td>\n",
              "      <td>0.374628</td>\n",
              "      <td>0.516139</td>\n",
              "      <td>0.844828</td>\n",
              "      <td>00:14</td>\n",
              "    </tr>\n",
              "    <tr>\n",
              "      <td>17</td>\n",
              "      <td>0.358959</td>\n",
              "      <td>0.551890</td>\n",
              "      <td>0.810345</td>\n",
              "      <td>00:14</td>\n",
              "    </tr>\n",
              "    <tr>\n",
              "      <td>18</td>\n",
              "      <td>0.345230</td>\n",
              "      <td>0.562075</td>\n",
              "      <td>0.810345</td>\n",
              "      <td>00:14</td>\n",
              "    </tr>\n",
              "    <tr>\n",
              "      <td>19</td>\n",
              "      <td>0.332826</td>\n",
              "      <td>0.560869</td>\n",
              "      <td>0.810345</td>\n",
              "      <td>00:14</td>\n",
              "    </tr>\n",
              "  </tbody>\n",
              "</table>"
            ]
          },
          "metadata": {}
        },
        {
          "output_type": "stream",
          "name": "stdout",
          "text": [
            "Better model found at epoch 0 with valid_loss value: 0.6883774399757385.\n",
            "Better model found at epoch 1 with valid_loss value: 0.6486762762069702.\n",
            "Better model found at epoch 2 with valid_loss value: 0.5802682042121887.\n",
            "Better model found at epoch 4 with valid_loss value: 0.4858281910419464.\n",
            "Better model found at epoch 9 with valid_loss value: 0.4725140929222107.\n"
          ]
        }
      ]
    },
    {
      "cell_type": "markdown",
      "source": [
        "## Method 2 with ChronoNet"
      ],
      "metadata": {
        "id": "cUxkxTXlmRu-"
      }
    },
    {
      "cell_type": "code",
      "source": [
        "def read_eeg(fn):\n",
        "    include = [29] # only channels related to occipital\n",
        "    x= np.load(fn)\n",
        "    x = ss.transform(x)\n",
        "    return x[include]\n",
        "    \n",
        "def EEGBlock():\n",
        "    return TransformBlock(type_tfms=read_eeg)"
      ],
      "metadata": {
        "id": "TnSQJThUi4Vd"
      },
      "execution_count": 41,
      "outputs": []
    },
    {
      "cell_type": "code",
      "source": [
        "dblock = DataBlock(blocks=(EEGBlock, CategoryBlock),\n",
        "                   get_x=ColReader('fns'),\n",
        "                   get_y=ColReader('label'),\n",
        "                   splitter=ColSplitter())\n",
        "\n",
        "dls = dblock.dataloaders(df)"
      ],
      "metadata": {
        "id": "YT0DcirGmk2L"
      },
      "execution_count": 42,
      "outputs": []
    },
    {
      "cell_type": "code",
      "source": [
        "model = ChronoNet(1)   \n",
        "apply_init(model, nn.init.kaiming_normal_)"
      ],
      "metadata": {
        "id": "oV7FbSCemo7N"
      },
      "execution_count": 43,
      "outputs": []
    },
    {
      "cell_type": "code",
      "source": [
        "learn = Learner(dls, \n",
        "                model, \n",
        "                loss_func=LabelSmoothingCrossEntropyFlat(),\n",
        "                cbs=[GradientClip(),\n",
        "                    # EEGCallback(),\n",
        "                     SaveModelCallback(fname='chrononet_meth2')],\n",
        "                metrics=accuracy\n",
        "        ).to_fp16()"
      ],
      "metadata": {
        "id": "le3VFQW6mrti"
      },
      "execution_count": 44,
      "outputs": []
    },
    {
      "cell_type": "code",
      "source": [
        "learn.fit_one_cycle(20, 1e-2)"
      ],
      "metadata": {
        "colab": {
          "base_uri": "https://localhost:8080/",
          "height": 746
        },
        "id": "SJRYEAe9mxHi",
        "outputId": "dd95a4d9-7f75-48c5-eafd-f03c7a1c2d81"
      },
      "execution_count": 45,
      "outputs": [
        {
          "output_type": "display_data",
          "data": {
            "text/plain": [
              "<IPython.core.display.HTML object>"
            ],
            "text/html": [
              "\n",
              "<style>\n",
              "    /* Turns off some styling */\n",
              "    progress {\n",
              "        /* gets rid of default border in Firefox and Opera. */\n",
              "        border: none;\n",
              "        /* Needs to be in here for Safari polyfill so background images work as expected. */\n",
              "        background-size: auto;\n",
              "    }\n",
              "    .progress-bar-interrupted, .progress-bar-interrupted::-webkit-progress-bar {\n",
              "        background: #F44336;\n",
              "    }\n",
              "</style>\n"
            ]
          },
          "metadata": {}
        },
        {
          "output_type": "display_data",
          "data": {
            "text/plain": [
              "<IPython.core.display.HTML object>"
            ],
            "text/html": [
              "<table border=\"1\" class=\"dataframe\">\n",
              "  <thead>\n",
              "    <tr style=\"text-align: left;\">\n",
              "      <th>epoch</th>\n",
              "      <th>train_loss</th>\n",
              "      <th>valid_loss</th>\n",
              "      <th>accuracy</th>\n",
              "      <th>time</th>\n",
              "    </tr>\n",
              "  </thead>\n",
              "  <tbody>\n",
              "    <tr>\n",
              "      <td>0</td>\n",
              "      <td>0.680020</td>\n",
              "      <td>0.671048</td>\n",
              "      <td>0.620690</td>\n",
              "      <td>00:20</td>\n",
              "    </tr>\n",
              "    <tr>\n",
              "      <td>1</td>\n",
              "      <td>0.670655</td>\n",
              "      <td>0.646566</td>\n",
              "      <td>0.620690</td>\n",
              "      <td>00:14</td>\n",
              "    </tr>\n",
              "    <tr>\n",
              "      <td>2</td>\n",
              "      <td>0.652577</td>\n",
              "      <td>0.618888</td>\n",
              "      <td>0.603448</td>\n",
              "      <td>00:16</td>\n",
              "    </tr>\n",
              "    <tr>\n",
              "      <td>3</td>\n",
              "      <td>0.618533</td>\n",
              "      <td>0.800426</td>\n",
              "      <td>0.551724</td>\n",
              "      <td>00:16</td>\n",
              "    </tr>\n",
              "    <tr>\n",
              "      <td>4</td>\n",
              "      <td>0.611953</td>\n",
              "      <td>0.605689</td>\n",
              "      <td>0.706897</td>\n",
              "      <td>00:18</td>\n",
              "    </tr>\n",
              "    <tr>\n",
              "      <td>5</td>\n",
              "      <td>0.577467</td>\n",
              "      <td>0.609273</td>\n",
              "      <td>0.724138</td>\n",
              "      <td>00:14</td>\n",
              "    </tr>\n",
              "    <tr>\n",
              "      <td>6</td>\n",
              "      <td>0.545230</td>\n",
              "      <td>0.699221</td>\n",
              "      <td>0.655172</td>\n",
              "      <td>00:14</td>\n",
              "    </tr>\n",
              "    <tr>\n",
              "      <td>7</td>\n",
              "      <td>0.515455</td>\n",
              "      <td>0.671403</td>\n",
              "      <td>0.672414</td>\n",
              "      <td>00:15</td>\n",
              "    </tr>\n",
              "    <tr>\n",
              "      <td>8</td>\n",
              "      <td>0.484395</td>\n",
              "      <td>0.806448</td>\n",
              "      <td>0.603448</td>\n",
              "      <td>00:14</td>\n",
              "    </tr>\n",
              "    <tr>\n",
              "      <td>9</td>\n",
              "      <td>0.455614</td>\n",
              "      <td>0.690662</td>\n",
              "      <td>0.724138</td>\n",
              "      <td>00:14</td>\n",
              "    </tr>\n",
              "    <tr>\n",
              "      <td>10</td>\n",
              "      <td>0.429432</td>\n",
              "      <td>0.619014</td>\n",
              "      <td>0.775862</td>\n",
              "      <td>00:14</td>\n",
              "    </tr>\n",
              "    <tr>\n",
              "      <td>11</td>\n",
              "      <td>0.405664</td>\n",
              "      <td>0.628463</td>\n",
              "      <td>0.793103</td>\n",
              "      <td>00:15</td>\n",
              "    </tr>\n",
              "    <tr>\n",
              "      <td>12</td>\n",
              "      <td>0.385075</td>\n",
              "      <td>0.746214</td>\n",
              "      <td>0.706897</td>\n",
              "      <td>00:14</td>\n",
              "    </tr>\n",
              "    <tr>\n",
              "      <td>13</td>\n",
              "      <td>0.368383</td>\n",
              "      <td>0.683249</td>\n",
              "      <td>0.775862</td>\n",
              "      <td>00:14</td>\n",
              "    </tr>\n",
              "    <tr>\n",
              "      <td>14</td>\n",
              "      <td>0.351769</td>\n",
              "      <td>0.692090</td>\n",
              "      <td>0.741379</td>\n",
              "      <td>00:14</td>\n",
              "    </tr>\n",
              "    <tr>\n",
              "      <td>15</td>\n",
              "      <td>0.336938</td>\n",
              "      <td>0.627081</td>\n",
              "      <td>0.793103</td>\n",
              "      <td>00:14</td>\n",
              "    </tr>\n",
              "    <tr>\n",
              "      <td>16</td>\n",
              "      <td>0.323784</td>\n",
              "      <td>0.709991</td>\n",
              "      <td>0.724138</td>\n",
              "      <td>00:14</td>\n",
              "    </tr>\n",
              "    <tr>\n",
              "      <td>17</td>\n",
              "      <td>0.312018</td>\n",
              "      <td>0.681552</td>\n",
              "      <td>0.758621</td>\n",
              "      <td>00:14</td>\n",
              "    </tr>\n",
              "    <tr>\n",
              "      <td>18</td>\n",
              "      <td>0.301560</td>\n",
              "      <td>0.673120</td>\n",
              "      <td>0.775862</td>\n",
              "      <td>00:15</td>\n",
              "    </tr>\n",
              "    <tr>\n",
              "      <td>19</td>\n",
              "      <td>0.292264</td>\n",
              "      <td>0.673045</td>\n",
              "      <td>0.775862</td>\n",
              "      <td>00:14</td>\n",
              "    </tr>\n",
              "  </tbody>\n",
              "</table>"
            ]
          },
          "metadata": {}
        },
        {
          "output_type": "stream",
          "name": "stdout",
          "text": [
            "Better model found at epoch 0 with valid_loss value: 0.6710477471351624.\n",
            "Better model found at epoch 1 with valid_loss value: 0.6465663313865662.\n",
            "Better model found at epoch 2 with valid_loss value: 0.6188880205154419.\n",
            "Better model found at epoch 4 with valid_loss value: 0.6056885719299316.\n"
          ]
        }
      ]
    },
    {
      "cell_type": "markdown",
      "source": [
        "## Method 3 ChronoNet"
      ],
      "metadata": {
        "id": "3nfOSy2JnIav"
      }
    },
    {
      "cell_type": "code",
      "source": [
        "def read_eeg(fn):\n",
        "    include = [24, 27, 28, 29, 30, 54, 57, 58, 59 ,60] # only channels related to occipital\n",
        "    x= np.load(fn)\n",
        "    x = ss.transform(x)\n",
        "    return x[include]\n",
        "    \n",
        "def EEGBlock():\n",
        "    return TransformBlock(type_tfms=read_eeg)"
      ],
      "metadata": {
        "id": "WnrQcH6Bmyvd"
      },
      "execution_count": 49,
      "outputs": []
    },
    {
      "cell_type": "code",
      "source": [
        "dblock = DataBlock(blocks=(EEGBlock, CategoryBlock),\n",
        "                   get_x=ColReader('fns'),\n",
        "                   get_y=ColReader('label'),\n",
        "                   splitter=ColSplitter())\n",
        "\n",
        "dls = dblock.dataloaders(df)"
      ],
      "metadata": {
        "id": "FQpd38uXnbSn"
      },
      "execution_count": 50,
      "outputs": []
    },
    {
      "cell_type": "code",
      "source": [
        "model = ChronoNet(10)   \n",
        "apply_init(model, nn.init.kaiming_normal_)"
      ],
      "metadata": {
        "id": "yQyo-KG8ncCO"
      },
      "execution_count": 51,
      "outputs": []
    },
    {
      "cell_type": "code",
      "source": [
        "learn = Learner(dls, \n",
        "                model, \n",
        "                loss_func=LabelSmoothingCrossEntropyFlat(),\n",
        "                cbs=[GradientClip(),\n",
        "                    # EEGCallback(),\n",
        "                     SaveModelCallback(fname='chrono_meth3')],\n",
        "                metrics=accuracy\n",
        "        ).to_fp16()"
      ],
      "metadata": {
        "id": "9hgmonSLngEv"
      },
      "execution_count": 52,
      "outputs": []
    },
    {
      "cell_type": "code",
      "source": [
        "learn.fit_one_cycle(20, 1e-2)"
      ],
      "metadata": {
        "colab": {
          "base_uri": "https://localhost:8080/",
          "height": 746
        },
        "id": "DYK4mPeMnjOW",
        "outputId": "58aacd47-dd27-4f08-e752-d799216d9013"
      },
      "execution_count": 53,
      "outputs": [
        {
          "output_type": "display_data",
          "data": {
            "text/plain": [
              "<IPython.core.display.HTML object>"
            ],
            "text/html": [
              "\n",
              "<style>\n",
              "    /* Turns off some styling */\n",
              "    progress {\n",
              "        /* gets rid of default border in Firefox and Opera. */\n",
              "        border: none;\n",
              "        /* Needs to be in here for Safari polyfill so background images work as expected. */\n",
              "        background-size: auto;\n",
              "    }\n",
              "    .progress-bar-interrupted, .progress-bar-interrupted::-webkit-progress-bar {\n",
              "        background: #F44336;\n",
              "    }\n",
              "</style>\n"
            ]
          },
          "metadata": {}
        },
        {
          "output_type": "display_data",
          "data": {
            "text/plain": [
              "<IPython.core.display.HTML object>"
            ],
            "text/html": [
              "<table border=\"1\" class=\"dataframe\">\n",
              "  <thead>\n",
              "    <tr style=\"text-align: left;\">\n",
              "      <th>epoch</th>\n",
              "      <th>train_loss</th>\n",
              "      <th>valid_loss</th>\n",
              "      <th>accuracy</th>\n",
              "      <th>time</th>\n",
              "    </tr>\n",
              "  </thead>\n",
              "  <tbody>\n",
              "    <tr>\n",
              "      <td>0</td>\n",
              "      <td>0.685457</td>\n",
              "      <td>0.703899</td>\n",
              "      <td>0.431034</td>\n",
              "      <td>00:14</td>\n",
              "    </tr>\n",
              "    <tr>\n",
              "      <td>1</td>\n",
              "      <td>0.679473</td>\n",
              "      <td>0.674935</td>\n",
              "      <td>0.637931</td>\n",
              "      <td>00:14</td>\n",
              "    </tr>\n",
              "    <tr>\n",
              "      <td>2</td>\n",
              "      <td>0.662783</td>\n",
              "      <td>0.682724</td>\n",
              "      <td>0.655172</td>\n",
              "      <td>00:14</td>\n",
              "    </tr>\n",
              "    <tr>\n",
              "      <td>3</td>\n",
              "      <td>0.646158</td>\n",
              "      <td>0.643744</td>\n",
              "      <td>0.637931</td>\n",
              "      <td>00:14</td>\n",
              "    </tr>\n",
              "    <tr>\n",
              "      <td>4</td>\n",
              "      <td>0.611722</td>\n",
              "      <td>0.601592</td>\n",
              "      <td>0.758621</td>\n",
              "      <td>00:14</td>\n",
              "    </tr>\n",
              "    <tr>\n",
              "      <td>5</td>\n",
              "      <td>0.608195</td>\n",
              "      <td>0.659525</td>\n",
              "      <td>0.689655</td>\n",
              "      <td>00:14</td>\n",
              "    </tr>\n",
              "    <tr>\n",
              "      <td>6</td>\n",
              "      <td>0.587786</td>\n",
              "      <td>0.764326</td>\n",
              "      <td>0.603448</td>\n",
              "      <td>00:14</td>\n",
              "    </tr>\n",
              "    <tr>\n",
              "      <td>7</td>\n",
              "      <td>0.564289</td>\n",
              "      <td>0.601797</td>\n",
              "      <td>0.706897</td>\n",
              "      <td>00:14</td>\n",
              "    </tr>\n",
              "    <tr>\n",
              "      <td>8</td>\n",
              "      <td>0.528349</td>\n",
              "      <td>0.653812</td>\n",
              "      <td>0.706897</td>\n",
              "      <td>00:14</td>\n",
              "    </tr>\n",
              "    <tr>\n",
              "      <td>9</td>\n",
              "      <td>0.526265</td>\n",
              "      <td>1.267902</td>\n",
              "      <td>0.603448</td>\n",
              "      <td>00:14</td>\n",
              "    </tr>\n",
              "    <tr>\n",
              "      <td>10</td>\n",
              "      <td>0.520717</td>\n",
              "      <td>0.667645</td>\n",
              "      <td>0.741379</td>\n",
              "      <td>00:14</td>\n",
              "    </tr>\n",
              "    <tr>\n",
              "      <td>11</td>\n",
              "      <td>0.512810</td>\n",
              "      <td>1.026720</td>\n",
              "      <td>0.603448</td>\n",
              "      <td>00:14</td>\n",
              "    </tr>\n",
              "    <tr>\n",
              "      <td>12</td>\n",
              "      <td>0.493422</td>\n",
              "      <td>0.700940</td>\n",
              "      <td>0.758621</td>\n",
              "      <td>00:14</td>\n",
              "    </tr>\n",
              "    <tr>\n",
              "      <td>13</td>\n",
              "      <td>0.469483</td>\n",
              "      <td>0.828931</td>\n",
              "      <td>0.689655</td>\n",
              "      <td>00:14</td>\n",
              "    </tr>\n",
              "    <tr>\n",
              "      <td>14</td>\n",
              "      <td>0.445239</td>\n",
              "      <td>0.718564</td>\n",
              "      <td>0.706897</td>\n",
              "      <td>00:14</td>\n",
              "    </tr>\n",
              "    <tr>\n",
              "      <td>15</td>\n",
              "      <td>0.422369</td>\n",
              "      <td>0.735299</td>\n",
              "      <td>0.689655</td>\n",
              "      <td>00:14</td>\n",
              "    </tr>\n",
              "    <tr>\n",
              "      <td>16</td>\n",
              "      <td>0.401658</td>\n",
              "      <td>0.747018</td>\n",
              "      <td>0.672414</td>\n",
              "      <td>00:14</td>\n",
              "    </tr>\n",
              "    <tr>\n",
              "      <td>17</td>\n",
              "      <td>0.383242</td>\n",
              "      <td>0.726723</td>\n",
              "      <td>0.689655</td>\n",
              "      <td>00:14</td>\n",
              "    </tr>\n",
              "    <tr>\n",
              "      <td>18</td>\n",
              "      <td>0.366881</td>\n",
              "      <td>0.726128</td>\n",
              "      <td>0.689655</td>\n",
              "      <td>00:14</td>\n",
              "    </tr>\n",
              "    <tr>\n",
              "      <td>19</td>\n",
              "      <td>0.352362</td>\n",
              "      <td>0.726647</td>\n",
              "      <td>0.689655</td>\n",
              "      <td>00:14</td>\n",
              "    </tr>\n",
              "  </tbody>\n",
              "</table>"
            ]
          },
          "metadata": {}
        },
        {
          "output_type": "stream",
          "name": "stdout",
          "text": [
            "Better model found at epoch 0 with valid_loss value: 0.7038993835449219.\n",
            "Better model found at epoch 1 with valid_loss value: 0.6749347448348999.\n",
            "Better model found at epoch 3 with valid_loss value: 0.6437442302703857.\n",
            "Better model found at epoch 4 with valid_loss value: 0.6015917658805847.\n"
          ]
        }
      ]
    },
    {
      "cell_type": "markdown",
      "source": [
        "## Method 4 ChronoNet"
      ],
      "metadata": {
        "id": "Coqqudkmpf5p"
      }
    },
    {
      "cell_type": "code",
      "source": [
        "def read_eeg(fn):\n",
        "    # include = [24, 27, 28, 29, 30, 54, 57, 58, 59 ,60] # only channels related to occipital\n",
        "    x= np.load(fn)\n",
        "    x = ss.transform(x)\n",
        "    return x\n",
        "    \n",
        "def EEGBlock():\n",
        "    return TransformBlock(type_tfms=read_eeg)"
      ],
      "metadata": {
        "id": "QVQVGWgdoGs5"
      },
      "execution_count": 54,
      "outputs": []
    },
    {
      "cell_type": "code",
      "source": [
        "dblock = DataBlock(blocks=(EEGBlock, CategoryBlock),\n",
        "                   get_x=ColReader('fns'),\n",
        "                   get_y=ColReader('label'),\n",
        "                   splitter=ColSplitter())\n",
        "\n",
        "dls = dblock.dataloaders(df)"
      ],
      "metadata": {
        "id": "khIaqfq5pfYD"
      },
      "execution_count": 55,
      "outputs": []
    },
    {
      "cell_type": "code",
      "source": [
        "model = ChronoNet(61)   \n",
        "apply_init(model, nn.init.kaiming_normal_)"
      ],
      "metadata": {
        "id": "bsKOT4o2pjLe"
      },
      "execution_count": 56,
      "outputs": []
    },
    {
      "cell_type": "code",
      "source": [
        "learn = Learner(dls, \n",
        "                model, \n",
        "                loss_func=LabelSmoothingCrossEntropyFlat(),\n",
        "                cbs=[GradientClip(),\n",
        "                    # EEGCallback(),\n",
        "                     SaveModelCallback(fname='eeginception_meth3')],\n",
        "                metrics=accuracy\n",
        "        ).to_fp16()"
      ],
      "metadata": {
        "id": "AERzIzQEplzf"
      },
      "execution_count": 57,
      "outputs": []
    },
    {
      "cell_type": "code",
      "source": [
        "learn.fit_one_cycle(20, 1e-2)"
      ],
      "metadata": {
        "colab": {
          "base_uri": "https://localhost:8080/",
          "height": 746
        },
        "id": "USK1i2QXpnPM",
        "outputId": "fe18325d-e54f-49b8-8425-3d6ef0a407a9"
      },
      "execution_count": 58,
      "outputs": [
        {
          "output_type": "display_data",
          "data": {
            "text/plain": [
              "<IPython.core.display.HTML object>"
            ],
            "text/html": [
              "\n",
              "<style>\n",
              "    /* Turns off some styling */\n",
              "    progress {\n",
              "        /* gets rid of default border in Firefox and Opera. */\n",
              "        border: none;\n",
              "        /* Needs to be in here for Safari polyfill so background images work as expected. */\n",
              "        background-size: auto;\n",
              "    }\n",
              "    .progress-bar-interrupted, .progress-bar-interrupted::-webkit-progress-bar {\n",
              "        background: #F44336;\n",
              "    }\n",
              "</style>\n"
            ]
          },
          "metadata": {}
        },
        {
          "output_type": "display_data",
          "data": {
            "text/plain": [
              "<IPython.core.display.HTML object>"
            ],
            "text/html": [
              "<table border=\"1\" class=\"dataframe\">\n",
              "  <thead>\n",
              "    <tr style=\"text-align: left;\">\n",
              "      <th>epoch</th>\n",
              "      <th>train_loss</th>\n",
              "      <th>valid_loss</th>\n",
              "      <th>accuracy</th>\n",
              "      <th>time</th>\n",
              "    </tr>\n",
              "  </thead>\n",
              "  <tbody>\n",
              "    <tr>\n",
              "      <td>0</td>\n",
              "      <td>0.704838</td>\n",
              "      <td>0.690524</td>\n",
              "      <td>0.500000</td>\n",
              "      <td>00:14</td>\n",
              "    </tr>\n",
              "    <tr>\n",
              "      <td>1</td>\n",
              "      <td>0.704297</td>\n",
              "      <td>0.703395</td>\n",
              "      <td>0.465517</td>\n",
              "      <td>00:14</td>\n",
              "    </tr>\n",
              "    <tr>\n",
              "      <td>2</td>\n",
              "      <td>0.697747</td>\n",
              "      <td>0.704920</td>\n",
              "      <td>0.500000</td>\n",
              "      <td>00:14</td>\n",
              "    </tr>\n",
              "    <tr>\n",
              "      <td>3</td>\n",
              "      <td>0.681199</td>\n",
              "      <td>0.752216</td>\n",
              "      <td>0.500000</td>\n",
              "      <td>00:14</td>\n",
              "    </tr>\n",
              "    <tr>\n",
              "      <td>4</td>\n",
              "      <td>0.675649</td>\n",
              "      <td>0.647247</td>\n",
              "      <td>0.672414</td>\n",
              "      <td>00:14</td>\n",
              "    </tr>\n",
              "    <tr>\n",
              "      <td>5</td>\n",
              "      <td>0.653062</td>\n",
              "      <td>0.677516</td>\n",
              "      <td>0.620690</td>\n",
              "      <td>00:14</td>\n",
              "    </tr>\n",
              "    <tr>\n",
              "      <td>6</td>\n",
              "      <td>0.630138</td>\n",
              "      <td>0.659116</td>\n",
              "      <td>0.637931</td>\n",
              "      <td>00:14</td>\n",
              "    </tr>\n",
              "    <tr>\n",
              "      <td>7</td>\n",
              "      <td>0.603104</td>\n",
              "      <td>0.605272</td>\n",
              "      <td>0.672414</td>\n",
              "      <td>00:14</td>\n",
              "    </tr>\n",
              "    <tr>\n",
              "      <td>8</td>\n",
              "      <td>0.577909</td>\n",
              "      <td>0.590964</td>\n",
              "      <td>0.689655</td>\n",
              "      <td>00:14</td>\n",
              "    </tr>\n",
              "    <tr>\n",
              "      <td>9</td>\n",
              "      <td>0.550050</td>\n",
              "      <td>0.672755</td>\n",
              "      <td>0.706897</td>\n",
              "      <td>00:14</td>\n",
              "    </tr>\n",
              "    <tr>\n",
              "      <td>10</td>\n",
              "      <td>0.526812</td>\n",
              "      <td>0.667764</td>\n",
              "      <td>0.706897</td>\n",
              "      <td>00:14</td>\n",
              "    </tr>\n",
              "    <tr>\n",
              "      <td>11</td>\n",
              "      <td>0.509832</td>\n",
              "      <td>0.742104</td>\n",
              "      <td>0.672414</td>\n",
              "      <td>00:14</td>\n",
              "    </tr>\n",
              "    <tr>\n",
              "      <td>12</td>\n",
              "      <td>0.492544</td>\n",
              "      <td>0.709298</td>\n",
              "      <td>0.672414</td>\n",
              "      <td>00:14</td>\n",
              "    </tr>\n",
              "    <tr>\n",
              "      <td>13</td>\n",
              "      <td>0.471338</td>\n",
              "      <td>0.669077</td>\n",
              "      <td>0.724138</td>\n",
              "      <td>00:14</td>\n",
              "    </tr>\n",
              "    <tr>\n",
              "      <td>14</td>\n",
              "      <td>0.452937</td>\n",
              "      <td>0.635970</td>\n",
              "      <td>0.706897</td>\n",
              "      <td>00:14</td>\n",
              "    </tr>\n",
              "    <tr>\n",
              "      <td>15</td>\n",
              "      <td>0.436718</td>\n",
              "      <td>0.642902</td>\n",
              "      <td>0.706897</td>\n",
              "      <td>00:14</td>\n",
              "    </tr>\n",
              "    <tr>\n",
              "      <td>16</td>\n",
              "      <td>0.419912</td>\n",
              "      <td>0.616000</td>\n",
              "      <td>0.758621</td>\n",
              "      <td>00:14</td>\n",
              "    </tr>\n",
              "    <tr>\n",
              "      <td>17</td>\n",
              "      <td>0.404975</td>\n",
              "      <td>0.617315</td>\n",
              "      <td>0.741379</td>\n",
              "      <td>00:14</td>\n",
              "    </tr>\n",
              "    <tr>\n",
              "      <td>18</td>\n",
              "      <td>0.390825</td>\n",
              "      <td>0.613201</td>\n",
              "      <td>0.758621</td>\n",
              "      <td>00:14</td>\n",
              "    </tr>\n",
              "    <tr>\n",
              "      <td>19</td>\n",
              "      <td>0.378029</td>\n",
              "      <td>0.612367</td>\n",
              "      <td>0.758621</td>\n",
              "      <td>00:14</td>\n",
              "    </tr>\n",
              "  </tbody>\n",
              "</table>"
            ]
          },
          "metadata": {}
        },
        {
          "output_type": "stream",
          "name": "stdout",
          "text": [
            "Better model found at epoch 0 with valid_loss value: 0.6905242204666138.\n",
            "Better model found at epoch 4 with valid_loss value: 0.6472469568252563.\n",
            "Better model found at epoch 7 with valid_loss value: 0.6052717566490173.\n",
            "Better model found at epoch 8 with valid_loss value: 0.5909635424613953.\n"
          ]
        }
      ]
    },
    {
      "cell_type": "code",
      "source": [
        "interp = ClassificationInterpretation.from_learner(learn)"
      ],
      "metadata": {
        "colab": {
          "base_uri": "https://localhost:8080/",
          "height": 17
        },
        "id": "R1VjtOmwppBf",
        "outputId": "d96ab63f-d83b-451d-c1c1-b32e4c844258"
      },
      "execution_count": 59,
      "outputs": [
        {
          "output_type": "display_data",
          "data": {
            "text/plain": [
              "<IPython.core.display.HTML object>"
            ],
            "text/html": [
              "\n",
              "<style>\n",
              "    /* Turns off some styling */\n",
              "    progress {\n",
              "        /* gets rid of default border in Firefox and Opera. */\n",
              "        border: none;\n",
              "        /* Needs to be in here for Safari polyfill so background images work as expected. */\n",
              "        background-size: auto;\n",
              "    }\n",
              "    .progress-bar-interrupted, .progress-bar-interrupted::-webkit-progress-bar {\n",
              "        background: #F44336;\n",
              "    }\n",
              "</style>\n"
            ]
          },
          "metadata": {}
        },
        {
          "output_type": "display_data",
          "data": {
            "text/plain": [
              "<IPython.core.display.HTML object>"
            ],
            "text/html": [
              ""
            ]
          },
          "metadata": {}
        }
      ]
    },
    {
      "cell_type": "code",
      "source": [
        "interp.plot_confusion_matrix()"
      ],
      "metadata": {
        "colab": {
          "base_uri": "https://localhost:8080/",
          "height": 311
        },
        "id": "zaQsoALXrebu",
        "outputId": "99787f4e-685f-4a6f-ee0c-4c01cd69509b"
      },
      "execution_count": 60,
      "outputs": [
        {
          "output_type": "display_data",
          "data": {
            "text/plain": [
              "<IPython.core.display.HTML object>"
            ],
            "text/html": [
              "\n",
              "<style>\n",
              "    /* Turns off some styling */\n",
              "    progress {\n",
              "        /* gets rid of default border in Firefox and Opera. */\n",
              "        border: none;\n",
              "        /* Needs to be in here for Safari polyfill so background images work as expected. */\n",
              "        background-size: auto;\n",
              "    }\n",
              "    .progress-bar-interrupted, .progress-bar-interrupted::-webkit-progress-bar {\n",
              "        background: #F44336;\n",
              "    }\n",
              "</style>\n"
            ]
          },
          "metadata": {}
        },
        {
          "output_type": "display_data",
          "data": {
            "text/plain": [
              "<IPython.core.display.HTML object>"
            ],
            "text/html": [
              ""
            ]
          },
          "metadata": {}
        },
        {
          "output_type": "display_data",
          "data": {
            "text/plain": [
              "<Figure size 432x288 with 1 Axes>"
            ],
            "image/png": "[encoded data removed]"
          },
          "metadata": {
            "needs_background": "light"
          }
        }
      ]
    },
    {
      "cell_type": "code",
      "source": [
        ""
      ],
      "metadata": {
        "id": "tmZVAEntrpmB"
      },
      "execution_count": null,
      "outputs": []
    }
  ]
}