{
  "nbformat": 4,
  "nbformat_minor": 0,
  "metadata": {
    "colab": {
      "name": "arshy_approach2_2labelclassification_final.ipynb",
      "provenance": []
    },
    "kernelspec": {
      "name": "python3",
      "display_name": "Python 3"
    },
    "language_info": {
      "name": "python"
    }
  },
  "cells": [
    {
      "cell_type": "markdown",
      "source": [
        "in this notebook, we will use the preprocessed data using approach 2 to classify eyesopen, eyesclosed using the following method\n",
        "\n",
        "Method 1\n",
        "- classify using only the following channels [27, 28, 29, 30, 57, 58, 59 ,60] these are channels related to occipital\n",
        "\n",
        "Method 2\n",
        "- Use only the Oz channel\n",
        "\n",
        "Method 3\n",
        "- all occipital channels plus P3, P4"
      ],
      "metadata": {
        "id": "0Xu98LxxlBcI"
      }
    },
    {
      "cell_type": "code",
      "execution_count": 1,
      "metadata": {
        "colab": {
          "base_uri": "https://localhost:8080/"
        },
        "id": "ag-mhfnYk6T1",
        "outputId": "771f962d-564b-4db7-bee8-76e3849123f8"
      },
      "outputs": [
        {
          "output_type": "stream",
          "name": "stdout",
          "text": [
            "Mounted at /content/drive\n"
          ]
        }
      ],
      "source": [
        "from google.colab import drive\n",
        "drive.mount('/content/drive') "
      ]
    },
    {
      "cell_type": "code",
      "source": [
        "%cd /content/drive/MyDrive/colab_notebooks/algovera/lynxhack"
      ],
      "metadata": {
        "colab": {
          "base_uri": "https://localhost:8080/"
        },
        "id": "jiB8kHxxn6Pd",
        "outputId": "3a625090-3854-44b4-b557-df8d04739543"
      },
      "execution_count": 4,
      "outputs": [
        {
          "output_type": "stream",
          "name": "stdout",
          "text": [
            "/content/drive/MyDrive/colab_notebooks/algovera/lynxhack\n"
          ]
        }
      ]
    },
    {
      "cell_type": "code",
      "source": [
        "from sklearn.ensemble import RandomForestClassifier\n",
        "from sklearn.preprocessing import StandardScaler\n",
        "from sklearn.metrics import accuracy_score, confusion_matrix, plot_confusion_matrix\n",
        "import pandas as pd\n",
        "import numpy as np\n",
        "import pickle"
      ],
      "metadata": {
        "id": "x1AJacmIn_Ba"
      },
      "execution_count": 38,
      "outputs": []
    },
    {
      "cell_type": "code",
      "source": [
        "df = pd.read_csv('approach2infos.csv')"
      ],
      "metadata": {
        "id": "L8_7vQyxoHIq"
      },
      "execution_count": 9,
      "outputs": []
    },
    {
      "cell_type": "code",
      "source": [
        "df = df[df['label'].isin(['task-eyes closed', 'task-eyes open'])]"
      ],
      "metadata": {
        "id": "pnDZhJicoSlm"
      },
      "execution_count": 10,
      "outputs": []
    },
    {
      "cell_type": "code",
      "source": [
        "df_train = df[df['is_valid']==False]\n",
        "df_val = df[df['is_valid']==True]"
      ],
      "metadata": {
        "id": "ZEg0BK-toTKT"
      },
      "execution_count": 11,
      "outputs": []
    },
    {
      "cell_type": "code",
      "source": [
        "ss = pickle.load(open('ss_approach2.pkl', 'rb'))"
      ],
      "metadata": {
        "id": "63teCnkopjKz"
      },
      "execution_count": 20,
      "outputs": []
    },
    {
      "cell_type": "markdown",
      "source": [
        "## Method 1"
      ],
      "metadata": {
        "id": "nYH5z89mrhtQ"
      }
    },
    {
      "cell_type": "code",
      "source": [
        "include = [27, 28, 29, 30, 57, 58, 59 ,60] # only channels related to occipital\n",
        "train_f = []\n",
        "for fn in df_train.fns.values:\n",
        "    temp = np.load(fn)\n",
        "    temp = ss.transform(temp)\n",
        "    train_f.append(temp[include])\n",
        "\n",
        "val_f = []\n",
        "for fn in df_val.fns.values:\n",
        "    temp = np.load(fn)\n",
        "    temp = ss.transform(temp)\n",
        "    val_f.append(temp[include])"
      ],
      "metadata": {
        "id": "c11aLjs8oqBx"
      },
      "execution_count": 21,
      "outputs": []
    },
    {
      "cell_type": "code",
      "source": [
        "label_index = {\n",
        "    'task-eyes closed':0, \n",
        "    'task-eyes open':1,       \n",
        "}"
      ],
      "metadata": {
        "id": "ze2VP7Ozoroe"
      },
      "execution_count": 22,
      "outputs": []
    },
    {
      "cell_type": "code",
      "source": [
        "train_l = []\n",
        "for l in df_train.label.values:\n",
        "    train_l.append(label_index[l])\n",
        "\n",
        "val_l = []\n",
        "for l in df_val.label.values:\n",
        "    val_l.append(label_index[l])"
      ],
      "metadata": {
        "id": "GJeIshuRowfl"
      },
      "execution_count": 23,
      "outputs": []
    },
    {
      "cell_type": "code",
      "source": [
        "train_f2 = np.stack(train_f, 0)\n",
        "val_f2 = np.stack(val_f, 0)\n",
        "\n",
        "train_l2 = np.stack(train_l)\n",
        "val_l2 = np.stack(val_l)"
      ],
      "metadata": {
        "id": "z-WzRpnloyAS"
      },
      "execution_count": 24,
      "outputs": []
    },
    {
      "cell_type": "code",
      "source": [
        "rfc = RandomForestClassifier(\n",
        "    n_estimators=250\n",
        ")"
      ],
      "metadata": {
        "id": "qGW7Rn6epRcn"
      },
      "execution_count": 25,
      "outputs": []
    },
    {
      "cell_type": "code",
      "source": [
        "rfc.fit(train_f2.reshape(train_f2.shape[0], -1), train_l)"
      ],
      "metadata": {
        "colab": {
          "base_uri": "https://localhost:8080/"
        },
        "id": "TX2IREl6p0Mj",
        "outputId": "efe6e43f-0fcd-47d3-e74d-7512fc7b1182"
      },
      "execution_count": 29,
      "outputs": [
        {
          "output_type": "execute_result",
          "data": {
            "text/plain": [
              "RandomForestClassifier(n_estimators=250)"
            ]
          },
          "metadata": {},
          "execution_count": 29
        }
      ]
    },
    {
      "cell_type": "code",
      "source": [
        "preds = rfc.predict(val_f2.reshape(val_f2.shape[0], -1))"
      ],
      "metadata": {
        "id": "xJ0duG_Qp6tD"
      },
      "execution_count": 32,
      "outputs": []
    },
    {
      "cell_type": "code",
      "source": [
        "accuracy_score(val_l, preds)"
      ],
      "metadata": {
        "colab": {
          "base_uri": "https://localhost:8080/"
        },
        "id": "GKXRRF52qKiN",
        "outputId": "8215bfb4-bb36-48ef-f4f4-0a54229120a5"
      },
      "execution_count": 35,
      "outputs": [
        {
          "output_type": "execute_result",
          "data": {
            "text/plain": [
              "0.7241379310344828"
            ]
          },
          "metadata": {},
          "execution_count": 35
        }
      ]
    },
    {
      "cell_type": "code",
      "source": [
        "plot_confusion_matrix(rfc, \n",
        "                      val_f2.reshape(val_f2.shape[0], -1), \n",
        "                      val_l, \n",
        "                      display_labels=np.array(['eyes closed', 'eyes open']),\n",
        "                      cmap='Blues')"
      ],
      "metadata": {
        "colab": {
          "base_uri": "https://localhost:8080/",
          "height": 351
        },
        "id": "KEs6JVK8qXjj",
        "outputId": "fb82914b-afe4-43c0-9323-51be8222ffc6"
      },
      "execution_count": 42,
      "outputs": [
        {
          "output_type": "stream",
          "name": "stderr",
          "text": [
            "/usr/local/lib/python3.7/dist-packages/sklearn/utils/deprecation.py:87: FutureWarning: Function plot_confusion_matrix is deprecated; Function `plot_confusion_matrix` is deprecated in 1.0 and will be removed in 1.2. Use one of the class methods: ConfusionMatrixDisplay.from_predictions or ConfusionMatrixDisplay.from_estimator.\n",
            "  warnings.warn(msg, category=FutureWarning)\n"
          ]
        },
        {
          "output_type": "execute_result",
          "data": {
            "text/plain": [
              "<sklearn.metrics._plot.confusion_matrix.ConfusionMatrixDisplay at 0x7fbb5a8cf250>"
            ]
          },
          "metadata": {},
          "execution_count": 42
        },
        {
          "output_type": "display_data",
          "data": {
            "text/plain": [
              "<Figure size 432x288 with 2 Axes>"
            ],
            "image/png": "[encoded data removed]"
          },
          "metadata": {
            "needs_background": "light"
          }
        }
      ]
    },
    {
      "cell_type": "markdown",
      "source": [
        "## Method 2"
      ],
      "metadata": {
        "id": "7vK9MX91rjt5"
      }
    },
    {
      "cell_type": "code",
      "source": [
        "include = [29] # only the Oz channels\n",
        "train_f = []\n",
        "for fn in df_train.fns.values:\n",
        "    temp = np.load(fn)\n",
        "    temp = ss.transform(temp)\n",
        "    train_f.append(temp[include])\n",
        "\n",
        "val_f = []\n",
        "for fn in df_val.fns.values:\n",
        "    temp = np.load(fn)\n",
        "    temp = ss.transform(temp)\n",
        "    val_f.append(temp[include])"
      ],
      "metadata": {
        "id": "36F2ncIoq67m"
      },
      "execution_count": 43,
      "outputs": []
    },
    {
      "cell_type": "code",
      "source": [
        "train_l = []\n",
        "for l in df_train.label.values:\n",
        "    train_l.append(label_index[l])\n",
        "\n",
        "val_l = []\n",
        "for l in df_val.label.values:\n",
        "    val_l.append(label_index[l])"
      ],
      "metadata": {
        "id": "gn9PCefTr0kZ"
      },
      "execution_count": 44,
      "outputs": []
    },
    {
      "cell_type": "code",
      "source": [
        "train_f2 = np.stack(train_f, 0)\n",
        "val_f2 = np.stack(val_f, 0)\n",
        "\n",
        "train_l2 = np.stack(train_l)\n",
        "val_l2 = np.stack(val_l)"
      ],
      "metadata": {
        "id": "HIBwuOVar278"
      },
      "execution_count": 45,
      "outputs": []
    },
    {
      "cell_type": "code",
      "source": [
        "rfc_2 = RandomForestClassifier(\n",
        "    n_estimators=250\n",
        ")"
      ],
      "metadata": {
        "id": "3KtPu4Dyr5kz"
      },
      "execution_count": 46,
      "outputs": []
    },
    {
      "cell_type": "code",
      "source": [
        "rfc_2.fit(train_f2.reshape(train_f2.shape[0], -1), train_l)"
      ],
      "metadata": {
        "colab": {
          "base_uri": "https://localhost:8080/"
        },
        "id": "NLBy2iUhr7ue",
        "outputId": "825dbeca-62d9-4a7c-bc2c-58f30306f3c8"
      },
      "execution_count": 47,
      "outputs": [
        {
          "output_type": "execute_result",
          "data": {
            "text/plain": [
              "RandomForestClassifier(n_estimators=250)"
            ]
          },
          "metadata": {},
          "execution_count": 47
        }
      ]
    },
    {
      "cell_type": "code",
      "source": [
        "preds = rfc_2.predict(val_f2.reshape(val_f2.shape[0], -1))"
      ],
      "metadata": {
        "id": "ONpFsEYLr_D6"
      },
      "execution_count": 48,
      "outputs": []
    },
    {
      "cell_type": "code",
      "source": [
        "accuracy_score(val_l, preds)"
      ],
      "metadata": {
        "colab": {
          "base_uri": "https://localhost:8080/"
        },
        "id": "p7FmQqossCgO",
        "outputId": "affab62d-15d8-48b6-872d-f433fdb5f2f2"
      },
      "execution_count": 49,
      "outputs": [
        {
          "output_type": "execute_result",
          "data": {
            "text/plain": [
              "0.7413793103448276"
            ]
          },
          "metadata": {},
          "execution_count": 49
        }
      ]
    },
    {
      "cell_type": "code",
      "source": [
        "plot_confusion_matrix(rfc_2, \n",
        "                      val_f2.reshape(val_f2.shape[0], -1), \n",
        "                      val_l, \n",
        "                      display_labels=np.array(['eyes closed', 'eyes open']),\n",
        "                      cmap='Blues')"
      ],
      "metadata": {
        "colab": {
          "base_uri": "https://localhost:8080/",
          "height": 351
        },
        "id": "i3sC7mffsENC",
        "outputId": "b9d3d66f-1193-4f54-9dd6-1ca4943014a7"
      },
      "execution_count": 51,
      "outputs": [
        {
          "output_type": "stream",
          "name": "stderr",
          "text": [
            "/usr/local/lib/python3.7/dist-packages/sklearn/utils/deprecation.py:87: FutureWarning: Function plot_confusion_matrix is deprecated; Function `plot_confusion_matrix` is deprecated in 1.0 and will be removed in 1.2. Use one of the class methods: ConfusionMatrixDisplay.from_predictions or ConfusionMatrixDisplay.from_estimator.\n",
            "  warnings.warn(msg, category=FutureWarning)\n"
          ]
        },
        {
          "output_type": "execute_result",
          "data": {
            "text/plain": [
              "<sklearn.metrics._plot.confusion_matrix.ConfusionMatrixDisplay at 0x7fbb5a08e550>"
            ]
          },
          "metadata": {},
          "execution_count": 51
        },
        {
          "output_type": "display_data",
          "data": {
            "text/plain": [
              "<Figure size 432x288 with 2 Axes>"
            ],
            "image/png": "[encoded data removed]"
          },
          "metadata": {
            "needs_background": "light"
          }
        }
      ]
    },
    {
      "cell_type": "markdown",
      "source": [
        "## Method 3"
      ],
      "metadata": {
        "id": "rvuP15DOsOJg"
      }
    },
    {
      "cell_type": "code",
      "source": [
        "include = [24, 27, 28, 29, 30, 54, 57, 58, 59 ,60] # only channels related to occipital\n",
        "train_f = []\n",
        "for fn in df_train.fns.values:\n",
        "    temp = np.load(fn)\n",
        "    temp = ss.transform(temp)\n",
        "    train_f.append(temp[include])\n",
        "\n",
        "val_f = []\n",
        "for fn in df_val.fns.values:\n",
        "    temp = np.load(fn)\n",
        "    temp = ss.transform(temp)\n",
        "    val_f.append(temp[include])"
      ],
      "metadata": {
        "id": "iLf05CR2sGsx"
      },
      "execution_count": 52,
      "outputs": []
    },
    {
      "cell_type": "code",
      "source": [
        "label_index = {\n",
        "    'task-eyes closed':0, \n",
        "    'task-eyes open':1,       \n",
        "}"
      ],
      "metadata": {
        "id": "mWNv3GLespX9"
      },
      "execution_count": 53,
      "outputs": []
    },
    {
      "cell_type": "code",
      "source": [
        "train_l = []\n",
        "for l in df_train.label.values:\n",
        "    train_l.append(label_index[l])\n",
        "\n",
        "val_l = []\n",
        "for l in df_val.label.values:\n",
        "    val_l.append(label_index[l])"
      ],
      "metadata": {
        "id": "2rYzh4Nusrux"
      },
      "execution_count": 54,
      "outputs": []
    },
    {
      "cell_type": "code",
      "source": [
        "train_f2 = np.stack(train_f, 0)\n",
        "val_f2 = np.stack(val_f, 0)\n",
        "\n",
        "train_l2 = np.stack(train_l)\n",
        "val_l2 = np.stack(val_l)"
      ],
      "metadata": {
        "id": "RvhqAYxesuUR"
      },
      "execution_count": 55,
      "outputs": []
    },
    {
      "cell_type": "code",
      "source": [
        "rfc_3 = RandomForestClassifier(\n",
        "    n_estimators=250\n",
        ")"
      ],
      "metadata": {
        "id": "itRnoO3Xswv7"
      },
      "execution_count": 56,
      "outputs": []
    },
    {
      "cell_type": "code",
      "source": [
        "rfc_3.fit(train_f2.reshape(train_f2.shape[0], -1), train_l)"
      ],
      "metadata": {
        "colab": {
          "base_uri": "https://localhost:8080/"
        },
        "id": "-vsLNYHjsycB",
        "outputId": "bdeab0f1-1161-4bc4-cfae-9effddb2e194"
      },
      "execution_count": 57,
      "outputs": [
        {
          "output_type": "execute_result",
          "data": {
            "text/plain": [
              "RandomForestClassifier(n_estimators=250)"
            ]
          },
          "metadata": {},
          "execution_count": 57
        }
      ]
    },
    {
      "cell_type": "code",
      "source": [
        "preds = rfc_3.predict(val_f2.reshape(val_f2.shape[0], -1))"
      ],
      "metadata": {
        "id": "wW3DFIsts0yE"
      },
      "execution_count": 58,
      "outputs": []
    },
    {
      "cell_type": "code",
      "source": [
        "accuracy_score(val_l, preds)"
      ],
      "metadata": {
        "colab": {
          "base_uri": "https://localhost:8080/"
        },
        "id": "bcRkiP-Us7Yd",
        "outputId": "38eef47b-a5f8-4d0d-8741-24e3846a6ec2"
      },
      "execution_count": 59,
      "outputs": [
        {
          "output_type": "execute_result",
          "data": {
            "text/plain": [
              "0.7241379310344828"
            ]
          },
          "metadata": {},
          "execution_count": 59
        }
      ]
    },
    {
      "cell_type": "code",
      "source": [
        "plot_confusion_matrix(rfc_3, \n",
        "                      val_f2.reshape(val_f2.shape[0], -1), \n",
        "                      val_l, \n",
        "                      display_labels=np.array(['eyes closed', 'eyes open']),\n",
        "                      cmap='Blues')"
      ],
      "metadata": {
        "colab": {
          "base_uri": "https://localhost:8080/",
          "height": 351
        },
        "id": "cKru-x38s9fk",
        "outputId": "cac59500-aa3c-449a-bf09-e276e65e9501"
      },
      "execution_count": 60,
      "outputs": [
        {
          "output_type": "stream",
          "name": "stderr",
          "text": [
            "/usr/local/lib/python3.7/dist-packages/sklearn/utils/deprecation.py:87: FutureWarning: Function plot_confusion_matrix is deprecated; Function `plot_confusion_matrix` is deprecated in 1.0 and will be removed in 1.2. Use one of the class methods: ConfusionMatrixDisplay.from_predictions or ConfusionMatrixDisplay.from_estimator.\n",
            "  warnings.warn(msg, category=FutureWarning)\n"
          ]
        },
        {
          "output_type": "execute_result",
          "data": {
            "text/plain": [
              "<sklearn.metrics._plot.confusion_matrix.ConfusionMatrixDisplay at 0x7fbb5a198f90>"
            ]
          },
          "metadata": {},
          "execution_count": 60
        },
        {
          "output_type": "display_data",
          "data": {
            "text/plain": [
              "<Figure size 432x288 with 2 Axes>"
            ],
            "image/png": "[encoded data removed]"
          },
          "metadata": {
            "needs_background": "light"
          }
        }
      ]
    }
  ]
}