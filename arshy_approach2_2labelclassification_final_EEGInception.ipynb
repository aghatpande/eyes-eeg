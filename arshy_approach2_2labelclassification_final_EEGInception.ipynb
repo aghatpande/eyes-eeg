{
  "nbformat": 4,
  "nbformat_minor": 0,
  "metadata": {
    "colab": {
      "name": "arshy_approach2_2labelclassification_final_EEGInception.ipynb",
      "provenance": [],
      "collapsed_sections": []
    },
    "kernelspec": {
      "name": "python3",
      "display_name": "Python 3"
    },
    "language_info": {
      "name": "python"
    },
    "accelerator": "GPU"
  },
  "cells": [
    {
      "cell_type": "markdown",
      "source": [
        "in this notebook, we will use the preprocessed data using approach 2 to classify eyesopen, eyesclosed using the following method\n",
        "\n",
        "Method 1\n",
        "- classify using only the following channels [27, 28, 29, 30, 57, 58, 59 ,60] these are channels related to occipital\n",
        "\n",
        "Method 2\n",
        "- Use only the Oz channel\n",
        "\n",
        "Method 3\n",
        "- all occipital channels plus P3, P4\n",
        "\n",
        "Method 4\n",
        "- all 61 channels"
      ],
      "metadata": {
        "id": "0Xu98LxxlBcI"
      }
    },
    {
      "cell_type": "code",
      "source": [
        "!pip install fastai timm -Uqq"
      ],
      "metadata": {
        "colab": {
          "base_uri": "https://localhost:8080/"
        },
        "id": "19wkXCRagdd-",
        "outputId": "20ed7e1e-64d2-4c4c-c58b-af51f51f372e"
      },
      "execution_count": null,
      "outputs": [
        {
          "output_type": "stream",
          "name": "stdout",
          "text": [
            "\u001b[?25l\r\u001b[K     |█▊                              | 10 kB 21.7 MB/s eta 0:00:01\r\u001b[K     |███▌                            | 20 kB 27.0 MB/s eta 0:00:01\r\u001b[K     |█████▎                          | 30 kB 29.5 MB/s eta 0:00:01\r\u001b[K     |███████                         | 40 kB 32.1 MB/s eta 0:00:01\r\u001b[K     |████████▊                       | 51 kB 5.6 MB/s eta 0:00:01\r\u001b[K     |██████████▌                     | 61 kB 6.6 MB/s eta 0:00:01\r\u001b[K     |████████████▎                   | 71 kB 7.5 MB/s eta 0:00:01\r\u001b[K     |██████████████                  | 81 kB 4.3 MB/s eta 0:00:01\r\u001b[K     |███████████████▊                | 92 kB 4.8 MB/s eta 0:00:01\r\u001b[K     |█████████████████▌              | 102 kB 5.3 MB/s eta 0:00:01\r\u001b[K     |███████████████████▏            | 112 kB 5.3 MB/s eta 0:00:01\r\u001b[K     |█████████████████████           | 122 kB 5.3 MB/s eta 0:00:01\r\u001b[K     |██████████████████████▊         | 133 kB 5.3 MB/s eta 0:00:01\r\u001b[K     |████████████████████████▌       | 143 kB 5.3 MB/s eta 0:00:01\r\u001b[K     |██████████████████████████▏     | 153 kB 5.3 MB/s eta 0:00:01\r\u001b[K     |████████████████████████████    | 163 kB 5.3 MB/s eta 0:00:01\r\u001b[K     |█████████████████████████████▊  | 174 kB 5.3 MB/s eta 0:00:01\r\u001b[K     |███████████████████████████████▌| 184 kB 5.3 MB/s eta 0:00:01\r\u001b[K     |████████████████████████████████| 187 kB 5.3 MB/s \n",
            "\u001b[K     |████████████████████████████████| 431 kB 45.6 MB/s \n",
            "\u001b[K     |████████████████████████████████| 56 kB 4.5 MB/s \n",
            "\u001b[?25h"
          ]
        }
      ]
    },
    {
      "cell_type": "code",
      "execution_count": null,
      "metadata": {
        "colab": {
          "base_uri": "https://localhost:8080/"
        },
        "id": "ag-mhfnYk6T1",
        "outputId": "bc13e016-6052-4eb4-9245-14cdba7597e1"
      },
      "outputs": [
        {
          "output_type": "stream",
          "name": "stdout",
          "text": [
            "Mounted at /content/drive\n"
          ]
        }
      ],
      "source": [
        "from google.colab import drive\n",
        "drive.mount('/content/drive') "
      ]
    },
    {
      "cell_type": "code",
      "source": [
        "%cd /content/drive/MyDrive/colab_notebooks/algovera/lynxhack"
      ],
      "metadata": {
        "colab": {
          "base_uri": "https://localhost:8080/"
        },
        "id": "jiB8kHxxn6Pd",
        "outputId": "d9bd4f1e-1521-4c05-de4c-e7815dd95549"
      },
      "execution_count": null,
      "outputs": [
        {
          "output_type": "stream",
          "name": "stdout",
          "text": [
            "/content/drive/MyDrive/colab_notebooks/algovera/lynxhack\n"
          ]
        }
      ]
    },
    {
      "cell_type": "code",
      "source": [
        "from sklearn.ensemble import RandomForestClassifier\n",
        "from sklearn.preprocessing import StandardScaler\n",
        "from sklearn.metrics import accuracy_score, confusion_matrix, plot_confusion_matrix\n",
        "from sklearn.model_selection import GridSearchCV\n",
        "from sklearn.pipeline import Pipeline\n",
        "\n",
        "import timm\n",
        "from timm import create_model\n",
        "from timm.models.efficientnet_blocks import DepthwiseSeparableConv\n",
        "from timm.models.layers import create_conv2d\n",
        "from fastai.vision.all import *\n",
        "\n",
        "import torch\n",
        "import torch.nn as nn\n",
        "\n",
        "import pandas as pd\n",
        "import numpy as np\n",
        "import pickle"
      ],
      "metadata": {
        "id": "x1AJacmIn_Ba"
      },
      "execution_count": null,
      "outputs": []
    },
    {
      "cell_type": "code",
      "source": [
        "df = pd.read_csv('approach2infos.csv')"
      ],
      "metadata": {
        "id": "L8_7vQyxoHIq"
      },
      "execution_count": null,
      "outputs": []
    },
    {
      "cell_type": "code",
      "source": [
        "df = df[df['label'].isin(['task-eyes closed', 'task-eyes open'])]"
      ],
      "metadata": {
        "id": "pnDZhJicoSlm"
      },
      "execution_count": null,
      "outputs": []
    },
    {
      "cell_type": "code",
      "source": [
        "df_train = df[df['is_valid']==False]\n",
        "df_val = df[df['is_valid']==True]"
      ],
      "metadata": {
        "id": "ZEg0BK-toTKT"
      },
      "execution_count": null,
      "outputs": []
    },
    {
      "cell_type": "code",
      "source": [
        "ss = pickle.load(open('ss_approach2.pkl', 'rb'))"
      ],
      "metadata": {
        "id": "63teCnkopjKz"
      },
      "execution_count": null,
      "outputs": []
    },
    {
      "cell_type": "code",
      "source": [
        "class InceptionBlock(nn.Module):\n",
        "    def __init__(self,\n",
        "        in_chs,\n",
        "        out_chs,\n",
        "        kernel_size,\n",
        "        dropout_rate,\n",
        "        activation,\n",
        "        depth_multiplier=2\n",
        "    ):\n",
        "        super().__init__()\n",
        "        \n",
        "        self.conv = nn.Conv2d(in_chs,\n",
        "                              out_chs,\n",
        "                              kernel_size=kernel_size,\n",
        "                              padding='same')\n",
        "\n",
        "        self.bn = nn.BatchNorm2d(out_chs)\n",
        "        self.act = activation()\n",
        "        self.dp = nn.Dropout2d(dropout_rate)\n",
        "        self.dconv = DepthwiseSeparableConv(in_chs=out_chs,\n",
        "                                            out_chs=out_chs*depth_multiplier)\n",
        "        self.bn2 = nn.BatchNorm2d(out_chs*depth_multiplier)\n",
        "        self.act2 = activation()\n",
        "        self.dp2 = nn.Dropout2d(dropout_rate)\n",
        "\n",
        "    def forward(self, x):\n",
        "\n",
        "        x = self.conv(x)\n",
        "        x = self.bn(x)\n",
        "        x = self.act(x)\n",
        "        x = self.dp(x)\n",
        "        x = self.dconv(x)\n",
        "        x = self.bn2(x)\n",
        "        x = self.act2(x)\n",
        "        x = self.dp2(x)\n",
        "\n",
        "        return x\n",
        "\n",
        "\n",
        "class EEGInception(nn.Module):\n",
        "    def __init__(self,\n",
        "        n_channels=61, # Num channels\n",
        "        input_time=5000, # Input time\n",
        "        fs=100,         # Frequence\n",
        "        scales_time=(500, 250, 125), \n",
        "        dropout_rate=0.25,\n",
        "        activation=nn.ELU,\n",
        "        num_filters=16, \n",
        "        n_classes=5,\n",
        "        block_depth_multiplier=2\n",
        "    ):\n",
        "\n",
        "        super().__init__()\n",
        "        self.scales_samples = [int(s * fs / 1000) for s in scales_time]\n",
        "        self.num_channels = n_channels\n",
        "        self.dropout_rate = dropout_rate\n",
        "\n",
        "        self.blocks1 = nn.ModuleList()\n",
        "        for i in range(len(scales_time)):\n",
        "            self.blocks1.append(InceptionBlock(\n",
        "                                        in_chs=self.num_channels,\n",
        "                                        out_chs=num_filters,\n",
        "                                        kernel_size=(scales_time[i], 1),\n",
        "                                        dropout_rate=self.dropout_rate,\n",
        "                                        activation=activation,\n",
        "                                        depth_multiplier=block_depth_multiplier\n",
        "                                    ))\n",
        "\n",
        "        self.avgpooling = nn.AvgPool2d(kernel_size=(4,1))\n",
        "\n",
        "        block2_nin = num_filters*block_depth_multiplier*3\n",
        "        self.blocks2 = nn.ModuleList()\n",
        "        for i in range(len(scales_time)):\n",
        "            self.blocks2.append(InceptionBlock(\n",
        "                                        in_chs=block2_nin,\n",
        "                                        out_chs=num_filters*2,\n",
        "                                        kernel_size=(scales_time[i], 1),\n",
        "                                        dropout_rate=self.dropout_rate,\n",
        "                                        activation=activation,\n",
        "                                        depth_multiplier=block_depth_multiplier\n",
        "                                    ))\n",
        "\n",
        "        self.avgpooling2 = nn.AvgPool2d(kernel_size=(4,1))\n",
        "\n",
        "        self.conv1 = nn.Conv2d(num_filters*2*block_depth_multiplier*3, \n",
        "                               int(num_filters*len(self.scales_samples)/2),\n",
        "                               kernel_size=(8, 1),\n",
        "                               padding='same')\n",
        "        self.bn1 = nn.BatchNorm2d(int(num_filters*len(self.scales_samples)/2))\n",
        "        self.act1 = nn.ELU()\n",
        "        self.avgpooling3 = nn.AvgPool2d(kernel_size=(8,1))\n",
        "        self.dp1 = nn.Dropout2d(dropout_rate)\n",
        "\n",
        "        self.conv2 = nn.Conv2d(int(num_filters*len(self.scales_samples)/2),\n",
        "                               int(num_filters*len(self.scales_samples)/4),\n",
        "                              kernel_size=(4, 1),\n",
        "                              padding='same')\n",
        "        self.bn2 = nn.BatchNorm2d(int(num_filters*len(self.scales_samples)/4))\n",
        "        self.act2 = nn.ELU()\n",
        "        self.avgpooling4 = nn.AvgPool2d(kernel_size=(2,1))\n",
        "        self.dp2 = nn.Dropout2d(dropout_rate)\n",
        "\n",
        "        self.flatten = nn.Flatten()\n",
        "        self.final = nn.Linear(228, 5)\n",
        "\n",
        "\n",
        "    def forward(self, x):\n",
        "        \n",
        "        block1_outs = []\n",
        "        for block in self.blocks1:\n",
        "            block1_outs.append(block(x))\n",
        "        x = torch.cat(block1_outs, 1)\n",
        "        x = self.avgpooling(x)\n",
        "\n",
        "        block2_outs = []\n",
        "        for block in self.blocks2:\n",
        "            block2_outs.append(block(x))\n",
        "        x = torch.cat(block2_outs, 1)\n",
        "        x = self.avgpooling2(x)\n",
        "        \n",
        "        x = self.conv1(x)\n",
        "        x = self.bn1(x)\n",
        "        x = self.act1(x)\n",
        "        x = self.avgpooling3(x)\n",
        "        x = self.dp1(x)\n",
        "        \n",
        "        x = self.conv2(x)\n",
        "        x = self.bn2(x)\n",
        "        x = self.act2(x)\n",
        "        x = self.avgpooling4(x)\n",
        "        x = self.dp2(x)\n",
        "\n",
        "        x = self.flatten(x)\n",
        "        x = self.final(x)\n",
        "        return x"
      ],
      "metadata": {
        "id": "02yIzgLuRZrC"
      },
      "execution_count": null,
      "outputs": []
    },
    {
      "cell_type": "markdown",
      "source": [
        "## Method 1 with EEGInception"
      ],
      "metadata": {
        "id": "lDf6-TWCftQP"
      }
    },
    {
      "cell_type": "code",
      "source": [
        "include = [27, 28, 29, 30, 57, 58, 59 ,60] # only channels related to occipital\n",
        "\n",
        "def read_eeg(fn):\n",
        "    include = [27, 28, 29, 30, 57, 58, 59 ,60] # only channels related to occipital\n",
        "    x= np.load(fn)\n",
        "    x = ss.transform(x)\n",
        "    return np.expand_dims(x[include], -1)\n",
        "    \n",
        "def EEGBlock():\n",
        "    return TransformBlock(type_tfms=read_eeg)"
      ],
      "metadata": {
        "id": "FAXssXWKgNcO"
      },
      "execution_count": null,
      "outputs": []
    },
    {
      "cell_type": "code",
      "source": [
        "label_index = {\n",
        "    'task-eyes closed':0, \n",
        "    'task-eyes open':1,       \n",
        "}"
      ],
      "metadata": {
        "id": "cPHVP5wpgmPC"
      },
      "execution_count": null,
      "outputs": []
    },
    {
      "cell_type": "code",
      "source": [
        "dblock = DataBlock(blocks=(EEGBlock, CategoryBlock),\n",
        "                   get_x=ColReader('fns'),\n",
        "                   get_y=ColReader('label'),\n",
        "                   splitter=ColSplitter())\n",
        "\n",
        "dls = dblock.dataloaders(df)"
      ],
      "metadata": {
        "id": "xQz93ptwgu31"
      },
      "execution_count": null,
      "outputs": []
    },
    {
      "cell_type": "code",
      "source": [
        "x,y = dls.one_batch()"
      ],
      "metadata": {
        "id": "bnotoc8vhdn0"
      },
      "execution_count": null,
      "outputs": []
    },
    {
      "cell_type": "code",
      "source": [
        "model = EEGInception(8)   \n",
        "apply_init(model, nn.init.kaiming_normal_)"
      ],
      "metadata": {
        "id": "VfCA64cDhfOD"
      },
      "execution_count": null,
      "outputs": []
    },
    {
      "cell_type": "code",
      "source": [
        "learn = Learner(dls, \n",
        "                model, \n",
        "                loss_func=LabelSmoothingCrossEntropyFlat(),\n",
        "                cbs=[GradientClip(),\n",
        "                    # EEGCallback(),\n",
        "                     SaveModelCallback(fname='chrononet')],\n",
        "                metrics=accuracy\n",
        "        ).to_fp16()"
      ],
      "metadata": {
        "id": "AwadPAPihzO-"
      },
      "execution_count": null,
      "outputs": []
    },
    {
      "cell_type": "code",
      "source": [
        "learn.fit_one_cycle(20, 1e-2)"
      ],
      "metadata": {
        "colab": {
          "base_uri": "https://localhost:8080/",
          "height": 922
        },
        "id": "_5cYndmxh09t",
        "outputId": "76d31c2c-9069-4240-9f48-343b47a53580"
      },
      "execution_count": null,
      "outputs": [
        {
          "output_type": "display_data",
          "data": {
            "text/plain": [
              "<IPython.core.display.HTML object>"
            ],
            "text/html": [
              "\n",
              "<style>\n",
              "    /* Turns off some styling */\n",
              "    progress {\n",
              "        /* gets rid of default border in Firefox and Opera. */\n",
              "        border: none;\n",
              "        /* Needs to be in here for Safari polyfill so background images work as expected. */\n",
              "        background-size: auto;\n",
              "    }\n",
              "    .progress-bar-interrupted, .progress-bar-interrupted::-webkit-progress-bar {\n",
              "        background: #F44336;\n",
              "    }\n",
              "</style>\n"
            ]
          },
          "metadata": {}
        },
        {
          "output_type": "display_data",
          "data": {
            "text/plain": [
              "<IPython.core.display.HTML object>"
            ],
            "text/html": [
              "<table border=\"1\" class=\"dataframe\">\n",
              "  <thead>\n",
              "    <tr style=\"text-align: left;\">\n",
              "      <th>epoch</th>\n",
              "      <th>train_loss</th>\n",
              "      <th>valid_loss</th>\n",
              "      <th>accuracy</th>\n",
              "      <th>time</th>\n",
              "    </tr>\n",
              "  </thead>\n",
              "  <tbody>\n",
              "    <tr>\n",
              "      <td>0</td>\n",
              "      <td>1.753972</td>\n",
              "      <td>5.358462</td>\n",
              "      <td>0.500000</td>\n",
              "      <td>00:59</td>\n",
              "    </tr>\n",
              "    <tr>\n",
              "      <td>1</td>\n",
              "      <td>1.453449</td>\n",
              "      <td>5.126885</td>\n",
              "      <td>0.586207</td>\n",
              "      <td>00:16</td>\n",
              "    </tr>\n",
              "    <tr>\n",
              "      <td>2</td>\n",
              "      <td>1.291452</td>\n",
              "      <td>3.181444</td>\n",
              "      <td>0.568965</td>\n",
              "      <td>00:16</td>\n",
              "    </tr>\n",
              "    <tr>\n",
              "      <td>3</td>\n",
              "      <td>1.147027</td>\n",
              "      <td>2.396010</td>\n",
              "      <td>0.586207</td>\n",
              "      <td>00:16</td>\n",
              "    </tr>\n",
              "    <tr>\n",
              "      <td>4</td>\n",
              "      <td>1.074930</td>\n",
              "      <td>1.523465</td>\n",
              "      <td>0.620690</td>\n",
              "      <td>00:16</td>\n",
              "    </tr>\n",
              "    <tr>\n",
              "      <td>5</td>\n",
              "      <td>1.005084</td>\n",
              "      <td>1.600876</td>\n",
              "      <td>0.655172</td>\n",
              "      <td>00:16</td>\n",
              "    </tr>\n",
              "    <tr>\n",
              "      <td>6</td>\n",
              "      <td>0.954265</td>\n",
              "      <td>1.010112</td>\n",
              "      <td>0.775862</td>\n",
              "      <td>00:16</td>\n",
              "    </tr>\n",
              "    <tr>\n",
              "      <td>7</td>\n",
              "      <td>0.906348</td>\n",
              "      <td>0.991995</td>\n",
              "      <td>0.775862</td>\n",
              "      <td>00:16</td>\n",
              "    </tr>\n",
              "    <tr>\n",
              "      <td>8</td>\n",
              "      <td>0.881848</td>\n",
              "      <td>0.880825</td>\n",
              "      <td>0.793103</td>\n",
              "      <td>00:16</td>\n",
              "    </tr>\n",
              "    <tr>\n",
              "      <td>9</td>\n",
              "      <td>0.850695</td>\n",
              "      <td>0.912089</td>\n",
              "      <td>0.810345</td>\n",
              "      <td>00:16</td>\n",
              "    </tr>\n",
              "    <tr>\n",
              "      <td>10</td>\n",
              "      <td>0.819953</td>\n",
              "      <td>0.823137</td>\n",
              "      <td>0.827586</td>\n",
              "      <td>00:16</td>\n",
              "    </tr>\n",
              "    <tr>\n",
              "      <td>11</td>\n",
              "      <td>0.799918</td>\n",
              "      <td>0.797019</td>\n",
              "      <td>0.810345</td>\n",
              "      <td>00:16</td>\n",
              "    </tr>\n",
              "    <tr>\n",
              "      <td>12</td>\n",
              "      <td>0.777356</td>\n",
              "      <td>0.796556</td>\n",
              "      <td>0.810345</td>\n",
              "      <td>00:16</td>\n",
              "    </tr>\n",
              "    <tr>\n",
              "      <td>13</td>\n",
              "      <td>0.754329</td>\n",
              "      <td>0.818843</td>\n",
              "      <td>0.793103</td>\n",
              "      <td>00:16</td>\n",
              "    </tr>\n",
              "    <tr>\n",
              "      <td>14</td>\n",
              "      <td>0.737518</td>\n",
              "      <td>0.837894</td>\n",
              "      <td>0.793103</td>\n",
              "      <td>00:16</td>\n",
              "    </tr>\n",
              "    <tr>\n",
              "      <td>15</td>\n",
              "      <td>0.721305</td>\n",
              "      <td>0.834422</td>\n",
              "      <td>0.793103</td>\n",
              "      <td>00:16</td>\n",
              "    </tr>\n",
              "    <tr>\n",
              "      <td>16</td>\n",
              "      <td>0.703164</td>\n",
              "      <td>0.833407</td>\n",
              "      <td>0.793103</td>\n",
              "      <td>00:16</td>\n",
              "    </tr>\n",
              "    <tr>\n",
              "      <td>17</td>\n",
              "      <td>0.690966</td>\n",
              "      <td>0.840751</td>\n",
              "      <td>0.793103</td>\n",
              "      <td>00:16</td>\n",
              "    </tr>\n",
              "    <tr>\n",
              "      <td>18</td>\n",
              "      <td>0.677277</td>\n",
              "      <td>0.843847</td>\n",
              "      <td>0.793103</td>\n",
              "      <td>00:16</td>\n",
              "    </tr>\n",
              "    <tr>\n",
              "      <td>19</td>\n",
              "      <td>0.665505</td>\n",
              "      <td>0.847770</td>\n",
              "      <td>0.793103</td>\n",
              "      <td>00:16</td>\n",
              "    </tr>\n",
              "  </tbody>\n",
              "</table>"
            ]
          },
          "metadata": {}
        },
        {
          "output_type": "stream",
          "name": "stderr",
          "text": [
            "/usr/local/lib/python3.7/dist-packages/torch/nn/modules/conv.py:443: UserWarning: Using padding='same' with even kernel lengths and odd dilation may require a zero-padded copy of the input be created (Triggered internally at  ../aten/src/ATen/native/Convolution.cpp:647.)\n",
            "  self.padding, self.dilation, self.groups)\n"
          ]
        },
        {
          "output_type": "stream",
          "name": "stdout",
          "text": [
            "Better model found at epoch 0 with valid_loss value: 5.358462333679199.\n",
            "Better model found at epoch 1 with valid_loss value: 5.126885414123535.\n",
            "Better model found at epoch 2 with valid_loss value: 3.181443691253662.\n",
            "Better model found at epoch 3 with valid_loss value: 2.396009922027588.\n",
            "Better model found at epoch 4 with valid_loss value: 1.5234650373458862.\n",
            "Better model found at epoch 6 with valid_loss value: 1.0101120471954346.\n",
            "Better model found at epoch 7 with valid_loss value: 0.9919948577880859.\n",
            "Better model found at epoch 8 with valid_loss value: 0.8808249831199646.\n",
            "Better model found at epoch 10 with valid_loss value: 0.823137104511261.\n",
            "Better model found at epoch 11 with valid_loss value: 0.7970190644264221.\n",
            "Better model found at epoch 12 with valid_loss value: 0.7965559959411621.\n"
          ]
        }
      ]
    },
    {
      "cell_type": "markdown",
      "source": [
        "## Method 2 with EEGInception"
      ],
      "metadata": {
        "id": "cUxkxTXlmRu-"
      }
    },
    {
      "cell_type": "code",
      "source": [
        "def read_eeg(fn):\n",
        "    include = [29] # only channels related to occipital\n",
        "    x= np.load(fn)\n",
        "    x = ss.transform(x)\n",
        "    return np.expand_dims(x[include], -1)\n",
        "    \n",
        "def EEGBlock():\n",
        "    return TransformBlock(type_tfms=read_eeg)"
      ],
      "metadata": {
        "id": "TnSQJThUi4Vd"
      },
      "execution_count": null,
      "outputs": []
    },
    {
      "cell_type": "code",
      "source": [
        "dblock = DataBlock(blocks=(EEGBlock, CategoryBlock),\n",
        "                   get_x=ColReader('fns'),\n",
        "                   get_y=ColReader('label'),\n",
        "                   splitter=ColSplitter())\n",
        "\n",
        "dls = dblock.dataloaders(df)"
      ],
      "metadata": {
        "id": "YT0DcirGmk2L"
      },
      "execution_count": null,
      "outputs": []
    },
    {
      "cell_type": "code",
      "source": [
        "model = EEGInception(1)   \n",
        "apply_init(model, nn.init.kaiming_normal_)"
      ],
      "metadata": {
        "id": "oV7FbSCemo7N"
      },
      "execution_count": null,
      "outputs": []
    },
    {
      "cell_type": "code",
      "source": [
        "learn = Learner(dls, \n",
        "                model, \n",
        "                loss_func=LabelSmoothingCrossEntropyFlat(),\n",
        "                cbs=[GradientClip(),\n",
        "                    # EEGCallback(),\n",
        "                     SaveModelCallback(fname='eeginception_meth2')],\n",
        "                metrics=accuracy\n",
        "        ).to_fp16()"
      ],
      "metadata": {
        "id": "le3VFQW6mrti"
      },
      "execution_count": null,
      "outputs": []
    },
    {
      "cell_type": "code",
      "source": [
        "learn.fit_one_cycle(20, 1e-2)"
      ],
      "metadata": {
        "colab": {
          "base_uri": "https://localhost:8080/",
          "height": 746
        },
        "id": "SJRYEAe9mxHi",
        "outputId": "5646ff34-ae57-4e30-bd9c-92e5c457d4af"
      },
      "execution_count": null,
      "outputs": [
        {
          "output_type": "display_data",
          "data": {
            "text/plain": [
              "<IPython.core.display.HTML object>"
            ],
            "text/html": [
              "\n",
              "<style>\n",
              "    /* Turns off some styling */\n",
              "    progress {\n",
              "        /* gets rid of default border in Firefox and Opera. */\n",
              "        border: none;\n",
              "        /* Needs to be in here for Safari polyfill so background images work as expected. */\n",
              "        background-size: auto;\n",
              "    }\n",
              "    .progress-bar-interrupted, .progress-bar-interrupted::-webkit-progress-bar {\n",
              "        background: #F44336;\n",
              "    }\n",
              "</style>\n"
            ]
          },
          "metadata": {}
        },
        {
          "output_type": "display_data",
          "data": {
            "text/plain": [
              "<IPython.core.display.HTML object>"
            ],
            "text/html": [
              "<table border=\"1\" class=\"dataframe\">\n",
              "  <thead>\n",
              "    <tr style=\"text-align: left;\">\n",
              "      <th>epoch</th>\n",
              "      <th>train_loss</th>\n",
              "      <th>valid_loss</th>\n",
              "      <th>accuracy</th>\n",
              "      <th>time</th>\n",
              "    </tr>\n",
              "  </thead>\n",
              "  <tbody>\n",
              "    <tr>\n",
              "      <td>0</td>\n",
              "      <td>2.090497</td>\n",
              "      <td>2.896761</td>\n",
              "      <td>0.344828</td>\n",
              "      <td>00:19</td>\n",
              "    </tr>\n",
              "    <tr>\n",
              "      <td>1</td>\n",
              "      <td>1.759229</td>\n",
              "      <td>1.534052</td>\n",
              "      <td>0.551724</td>\n",
              "      <td>00:15</td>\n",
              "    </tr>\n",
              "    <tr>\n",
              "      <td>2</td>\n",
              "      <td>1.482758</td>\n",
              "      <td>0.899769</td>\n",
              "      <td>0.758621</td>\n",
              "      <td>00:15</td>\n",
              "    </tr>\n",
              "    <tr>\n",
              "      <td>3</td>\n",
              "      <td>1.316211</td>\n",
              "      <td>1.277419</td>\n",
              "      <td>0.551724</td>\n",
              "      <td>00:15</td>\n",
              "    </tr>\n",
              "    <tr>\n",
              "      <td>4</td>\n",
              "      <td>1.203846</td>\n",
              "      <td>1.617678</td>\n",
              "      <td>0.586207</td>\n",
              "      <td>00:15</td>\n",
              "    </tr>\n",
              "    <tr>\n",
              "      <td>5</td>\n",
              "      <td>1.118489</td>\n",
              "      <td>1.075763</td>\n",
              "      <td>0.775862</td>\n",
              "      <td>00:17</td>\n",
              "    </tr>\n",
              "    <tr>\n",
              "      <td>6</td>\n",
              "      <td>1.064762</td>\n",
              "      <td>0.927562</td>\n",
              "      <td>0.724138</td>\n",
              "      <td>00:17</td>\n",
              "    </tr>\n",
              "    <tr>\n",
              "      <td>7</td>\n",
              "      <td>1.017873</td>\n",
              "      <td>1.113739</td>\n",
              "      <td>0.655172</td>\n",
              "      <td>00:16</td>\n",
              "    </tr>\n",
              "    <tr>\n",
              "      <td>8</td>\n",
              "      <td>0.969006</td>\n",
              "      <td>0.927955</td>\n",
              "      <td>0.758621</td>\n",
              "      <td>00:18</td>\n",
              "    </tr>\n",
              "    <tr>\n",
              "      <td>9</td>\n",
              "      <td>0.924333</td>\n",
              "      <td>0.787865</td>\n",
              "      <td>0.827586</td>\n",
              "      <td>00:20</td>\n",
              "    </tr>\n",
              "    <tr>\n",
              "      <td>10</td>\n",
              "      <td>0.885111</td>\n",
              "      <td>0.955129</td>\n",
              "      <td>0.706897</td>\n",
              "      <td>00:21</td>\n",
              "    </tr>\n",
              "    <tr>\n",
              "      <td>11</td>\n",
              "      <td>0.849524</td>\n",
              "      <td>0.938842</td>\n",
              "      <td>0.689655</td>\n",
              "      <td>00:17</td>\n",
              "    </tr>\n",
              "    <tr>\n",
              "      <td>12</td>\n",
              "      <td>0.818631</td>\n",
              "      <td>0.861149</td>\n",
              "      <td>0.741379</td>\n",
              "      <td>00:15</td>\n",
              "    </tr>\n",
              "    <tr>\n",
              "      <td>13</td>\n",
              "      <td>0.789580</td>\n",
              "      <td>0.832751</td>\n",
              "      <td>0.758621</td>\n",
              "      <td>00:15</td>\n",
              "    </tr>\n",
              "    <tr>\n",
              "      <td>14</td>\n",
              "      <td>0.763418</td>\n",
              "      <td>0.830746</td>\n",
              "      <td>0.775862</td>\n",
              "      <td>00:15</td>\n",
              "    </tr>\n",
              "    <tr>\n",
              "      <td>15</td>\n",
              "      <td>0.739092</td>\n",
              "      <td>0.836647</td>\n",
              "      <td>0.758621</td>\n",
              "      <td>00:15</td>\n",
              "    </tr>\n",
              "    <tr>\n",
              "      <td>16</td>\n",
              "      <td>0.715670</td>\n",
              "      <td>0.844537</td>\n",
              "      <td>0.741379</td>\n",
              "      <td>00:15</td>\n",
              "    </tr>\n",
              "    <tr>\n",
              "      <td>17</td>\n",
              "      <td>0.694541</td>\n",
              "      <td>0.859208</td>\n",
              "      <td>0.724138</td>\n",
              "      <td>00:15</td>\n",
              "    </tr>\n",
              "    <tr>\n",
              "      <td>18</td>\n",
              "      <td>0.676676</td>\n",
              "      <td>0.860794</td>\n",
              "      <td>0.741379</td>\n",
              "      <td>00:15</td>\n",
              "    </tr>\n",
              "    <tr>\n",
              "      <td>19</td>\n",
              "      <td>0.661625</td>\n",
              "      <td>0.860810</td>\n",
              "      <td>0.724138</td>\n",
              "      <td>00:15</td>\n",
              "    </tr>\n",
              "  </tbody>\n",
              "</table>"
            ]
          },
          "metadata": {}
        },
        {
          "output_type": "stream",
          "name": "stdout",
          "text": [
            "Better model found at epoch 0 with valid_loss value: 2.896761178970337.\n",
            "Better model found at epoch 1 with valid_loss value: 1.534051775932312.\n",
            "Better model found at epoch 2 with valid_loss value: 0.8997693061828613.\n",
            "Better model found at epoch 9 with valid_loss value: 0.787865400314331.\n"
          ]
        }
      ]
    },
    {
      "cell_type": "markdown",
      "source": [
        "## Method 3 EEGInception"
      ],
      "metadata": {
        "id": "3nfOSy2JnIav"
      }
    },
    {
      "cell_type": "code",
      "source": [
        "def read_eeg(fn):\n",
        "    include = [24, 27, 28, 29, 30, 54, 57, 58, 59 ,60] # only channels related to occipital\n",
        "    x= np.load(fn)\n",
        "    x = ss.transform(x)\n",
        "    return np.expand_dims(x[include], -1)\n",
        "    \n",
        "def EEGBlock():\n",
        "    return TransformBlock(type_tfms=read_eeg)"
      ],
      "metadata": {
        "id": "WnrQcH6Bmyvd"
      },
      "execution_count": null,
      "outputs": []
    },
    {
      "cell_type": "code",
      "source": [
        "dblock = DataBlock(blocks=(EEGBlock, CategoryBlock),\n",
        "                   get_x=ColReader('fns'),\n",
        "                   get_y=ColReader('label'),\n",
        "                   splitter=ColSplitter())\n",
        "\n",
        "dls = dblock.dataloaders(df)"
      ],
      "metadata": {
        "id": "FQpd38uXnbSn"
      },
      "execution_count": null,
      "outputs": []
    },
    {
      "cell_type": "code",
      "source": [
        "model = EEGInception(10)   \n",
        "apply_init(model, nn.init.kaiming_normal_)"
      ],
      "metadata": {
        "id": "yQyo-KG8ncCO"
      },
      "execution_count": null,
      "outputs": []
    },
    {
      "cell_type": "code",
      "source": [
        "learn = Learner(dls, \n",
        "                model, \n",
        "                loss_func=LabelSmoothingCrossEntropyFlat(),\n",
        "                cbs=[GradientClip(),\n",
        "                    # EEGCallback(),\n",
        "                     SaveModelCallback(fname='eeginception_meth3')],\n",
        "                metrics=accuracy\n",
        "        ).to_fp16()"
      ],
      "metadata": {
        "id": "9hgmonSLngEv"
      },
      "execution_count": null,
      "outputs": []
    },
    {
      "cell_type": "code",
      "source": [
        "learn.fit_one_cycle(20, 1e-2)"
      ],
      "metadata": {
        "colab": {
          "base_uri": "https://localhost:8080/",
          "height": 815
        },
        "id": "DYK4mPeMnjOW",
        "outputId": "0f6cb7e2-f477-4690-c85b-b5cf4136fddd"
      },
      "execution_count": null,
      "outputs": [
        {
          "output_type": "display_data",
          "data": {
            "text/plain": [
              "<IPython.core.display.HTML object>"
            ],
            "text/html": [
              "\n",
              "<style>\n",
              "    /* Turns off some styling */\n",
              "    progress {\n",
              "        /* gets rid of default border in Firefox and Opera. */\n",
              "        border: none;\n",
              "        /* Needs to be in here for Safari polyfill so background images work as expected. */\n",
              "        background-size: auto;\n",
              "    }\n",
              "    .progress-bar-interrupted, .progress-bar-interrupted::-webkit-progress-bar {\n",
              "        background: #F44336;\n",
              "    }\n",
              "</style>\n"
            ]
          },
          "metadata": {}
        },
        {
          "output_type": "display_data",
          "data": {
            "text/plain": [
              "<IPython.core.display.HTML object>"
            ],
            "text/html": [
              "<table border=\"1\" class=\"dataframe\">\n",
              "  <thead>\n",
              "    <tr style=\"text-align: left;\">\n",
              "      <th>epoch</th>\n",
              "      <th>train_loss</th>\n",
              "      <th>valid_loss</th>\n",
              "      <th>accuracy</th>\n",
              "      <th>time</th>\n",
              "    </tr>\n",
              "  </thead>\n",
              "  <tbody>\n",
              "    <tr>\n",
              "      <td>0</td>\n",
              "      <td>1.626332</td>\n",
              "      <td>3.096744</td>\n",
              "      <td>0.500000</td>\n",
              "      <td>00:22</td>\n",
              "    </tr>\n",
              "    <tr>\n",
              "      <td>1</td>\n",
              "      <td>1.392290</td>\n",
              "      <td>2.458457</td>\n",
              "      <td>0.551724</td>\n",
              "      <td>00:16</td>\n",
              "    </tr>\n",
              "    <tr>\n",
              "      <td>2</td>\n",
              "      <td>1.194509</td>\n",
              "      <td>1.754278</td>\n",
              "      <td>0.551724</td>\n",
              "      <td>00:17</td>\n",
              "    </tr>\n",
              "    <tr>\n",
              "      <td>3</td>\n",
              "      <td>1.102253</td>\n",
              "      <td>1.792937</td>\n",
              "      <td>0.586207</td>\n",
              "      <td>00:16</td>\n",
              "    </tr>\n",
              "    <tr>\n",
              "      <td>4</td>\n",
              "      <td>1.031644</td>\n",
              "      <td>1.703764</td>\n",
              "      <td>0.603448</td>\n",
              "      <td>00:16</td>\n",
              "    </tr>\n",
              "    <tr>\n",
              "      <td>5</td>\n",
              "      <td>0.974299</td>\n",
              "      <td>1.655615</td>\n",
              "      <td>0.672414</td>\n",
              "      <td>00:16</td>\n",
              "    </tr>\n",
              "    <tr>\n",
              "      <td>6</td>\n",
              "      <td>0.933340</td>\n",
              "      <td>0.875700</td>\n",
              "      <td>0.810345</td>\n",
              "      <td>00:16</td>\n",
              "    </tr>\n",
              "    <tr>\n",
              "      <td>7</td>\n",
              "      <td>0.900451</td>\n",
              "      <td>0.950514</td>\n",
              "      <td>0.844828</td>\n",
              "      <td>00:16</td>\n",
              "    </tr>\n",
              "    <tr>\n",
              "      <td>8</td>\n",
              "      <td>0.869191</td>\n",
              "      <td>0.757754</td>\n",
              "      <td>0.844828</td>\n",
              "      <td>00:16</td>\n",
              "    </tr>\n",
              "    <tr>\n",
              "      <td>9</td>\n",
              "      <td>0.838504</td>\n",
              "      <td>0.769086</td>\n",
              "      <td>0.879310</td>\n",
              "      <td>00:18</td>\n",
              "    </tr>\n",
              "    <tr>\n",
              "      <td>10</td>\n",
              "      <td>0.818996</td>\n",
              "      <td>0.736207</td>\n",
              "      <td>0.896552</td>\n",
              "      <td>00:16</td>\n",
              "    </tr>\n",
              "    <tr>\n",
              "      <td>11</td>\n",
              "      <td>0.798226</td>\n",
              "      <td>0.772735</td>\n",
              "      <td>0.827586</td>\n",
              "      <td>00:16</td>\n",
              "    </tr>\n",
              "    <tr>\n",
              "      <td>12</td>\n",
              "      <td>0.775411</td>\n",
              "      <td>0.766860</td>\n",
              "      <td>0.827586</td>\n",
              "      <td>00:16</td>\n",
              "    </tr>\n",
              "    <tr>\n",
              "      <td>13</td>\n",
              "      <td>0.752717</td>\n",
              "      <td>0.759580</td>\n",
              "      <td>0.844828</td>\n",
              "      <td>00:16</td>\n",
              "    </tr>\n",
              "    <tr>\n",
              "      <td>14</td>\n",
              "      <td>0.731865</td>\n",
              "      <td>0.760346</td>\n",
              "      <td>0.827586</td>\n",
              "      <td>00:16</td>\n",
              "    </tr>\n",
              "    <tr>\n",
              "      <td>15</td>\n",
              "      <td>0.716000</td>\n",
              "      <td>0.757553</td>\n",
              "      <td>0.827586</td>\n",
              "      <td>00:16</td>\n",
              "    </tr>\n",
              "    <tr>\n",
              "      <td>16</td>\n",
              "      <td>0.702774</td>\n",
              "      <td>0.746148</td>\n",
              "      <td>0.827586</td>\n",
              "      <td>00:16</td>\n",
              "    </tr>\n",
              "    <tr>\n",
              "      <td>17</td>\n",
              "      <td>0.690017</td>\n",
              "      <td>0.746220</td>\n",
              "      <td>0.827586</td>\n",
              "      <td>00:16</td>\n",
              "    </tr>\n",
              "    <tr>\n",
              "      <td>18</td>\n",
              "      <td>0.677275</td>\n",
              "      <td>0.748730</td>\n",
              "      <td>0.827586</td>\n",
              "      <td>00:16</td>\n",
              "    </tr>\n",
              "    <tr>\n",
              "      <td>19</td>\n",
              "      <td>0.665525</td>\n",
              "      <td>0.750779</td>\n",
              "      <td>0.827586</td>\n",
              "      <td>00:16</td>\n",
              "    </tr>\n",
              "  </tbody>\n",
              "</table>"
            ]
          },
          "metadata": {}
        },
        {
          "output_type": "stream",
          "name": "stdout",
          "text": [
            "Better model found at epoch 0 with valid_loss value: 3.0967438220977783.\n",
            "Better model found at epoch 1 with valid_loss value: 2.458456516265869.\n",
            "Better model found at epoch 2 with valid_loss value: 1.7542784214019775.\n",
            "Better model found at epoch 4 with valid_loss value: 1.7037644386291504.\n",
            "Better model found at epoch 5 with valid_loss value: 1.6556146144866943.\n",
            "Better model found at epoch 6 with valid_loss value: 0.8757004737854004.\n",
            "Better model found at epoch 8 with valid_loss value: 0.757753849029541.\n",
            "Better model found at epoch 10 with valid_loss value: 0.7362073659896851.\n"
          ]
        }
      ]
    },
    {
      "cell_type": "markdown",
      "source": [
        "## Method 4 EEGInception"
      ],
      "metadata": {
        "id": "Coqqudkmpf5p"
      }
    },
    {
      "cell_type": "code",
      "source": [
        "def read_eeg(fn):\n",
        "    # include = [24, 27, 28, 29, 30, 54, 57, 58, 59 ,60] # only channels related to occipital\n",
        "    x= np.load(fn)\n",
        "    x = ss.transform(x)\n",
        "    return np.expand_dims(x, -1)\n",
        "    \n",
        "def EEGBlock():\n",
        "    return TransformBlock(type_tfms=read_eeg)"
      ],
      "metadata": {
        "id": "QVQVGWgdoGs5"
      },
      "execution_count": null,
      "outputs": []
    },
    {
      "cell_type": "code",
      "source": [
        "dblock = DataBlock(blocks=(EEGBlock, CategoryBlock),\n",
        "                   get_x=ColReader('fns'),\n",
        "                   get_y=ColReader('label'),\n",
        "                   splitter=ColSplitter())\n",
        "\n",
        "dls = dblock.dataloaders(df)"
      ],
      "metadata": {
        "id": "khIaqfq5pfYD"
      },
      "execution_count": null,
      "outputs": []
    },
    {
      "cell_type": "code",
      "source": [
        "model = EEGInception(61)   \n",
        "apply_init(model, nn.init.kaiming_normal_)"
      ],
      "metadata": {
        "id": "bsKOT4o2pjLe"
      },
      "execution_count": null,
      "outputs": []
    },
    {
      "cell_type": "code",
      "source": [
        "learn = Learner(dls, \n",
        "                model, \n",
        "                loss_func=LabelSmoothingCrossEntropyFlat(),\n",
        "                cbs=[GradientClip(),\n",
        "                    # EEGCallback(),\n",
        "                     SaveModelCallback(fname='eeginception_meth3')],\n",
        "                metrics=accuracy\n",
        "        ).to_fp16()"
      ],
      "metadata": {
        "id": "AERzIzQEplzf"
      },
      "execution_count": null,
      "outputs": []
    },
    {
      "cell_type": "code",
      "source": [
        "learn.fit_one_cycle(20, 1e-2)"
      ],
      "metadata": {
        "colab": {
          "base_uri": "https://localhost:8080/",
          "height": 954
        },
        "id": "USK1i2QXpnPM",
        "outputId": "67a81ead-d18f-46ec-c6df-db23ba203193"
      },
      "execution_count": null,
      "outputs": [
        {
          "output_type": "display_data",
          "data": {
            "text/plain": [
              "<IPython.core.display.HTML object>"
            ],
            "text/html": [
              "\n",
              "<style>\n",
              "    /* Turns off some styling */\n",
              "    progress {\n",
              "        /* gets rid of default border in Firefox and Opera. */\n",
              "        border: none;\n",
              "        /* Needs to be in here for Safari polyfill so background images work as expected. */\n",
              "        background-size: auto;\n",
              "    }\n",
              "    .progress-bar-interrupted, .progress-bar-interrupted::-webkit-progress-bar {\n",
              "        background: #F44336;\n",
              "    }\n",
              "</style>\n"
            ]
          },
          "metadata": {}
        },
        {
          "output_type": "display_data",
          "data": {
            "text/plain": [
              "<IPython.core.display.HTML object>"
            ],
            "text/html": [
              "<table border=\"1\" class=\"dataframe\">\n",
              "  <thead>\n",
              "    <tr style=\"text-align: left;\">\n",
              "      <th>epoch</th>\n",
              "      <th>train_loss</th>\n",
              "      <th>valid_loss</th>\n",
              "      <th>accuracy</th>\n",
              "      <th>time</th>\n",
              "    </tr>\n",
              "  </thead>\n",
              "  <tbody>\n",
              "    <tr>\n",
              "      <td>0</td>\n",
              "      <td>1.738346</td>\n",
              "      <td>4.672930</td>\n",
              "      <td>0.137931</td>\n",
              "      <td>00:45</td>\n",
              "    </tr>\n",
              "    <tr>\n",
              "      <td>1</td>\n",
              "      <td>1.469388</td>\n",
              "      <td>3.338705</td>\n",
              "      <td>0.500000</td>\n",
              "      <td>00:21</td>\n",
              "    </tr>\n",
              "    <tr>\n",
              "      <td>2</td>\n",
              "      <td>1.272768</td>\n",
              "      <td>1.978365</td>\n",
              "      <td>0.568965</td>\n",
              "      <td>00:21</td>\n",
              "    </tr>\n",
              "    <tr>\n",
              "      <td>3</td>\n",
              "      <td>1.138555</td>\n",
              "      <td>2.331358</td>\n",
              "      <td>0.568965</td>\n",
              "      <td>00:21</td>\n",
              "    </tr>\n",
              "    <tr>\n",
              "      <td>4</td>\n",
              "      <td>1.061482</td>\n",
              "      <td>1.022390</td>\n",
              "      <td>0.689655</td>\n",
              "      <td>00:21</td>\n",
              "    </tr>\n",
              "    <tr>\n",
              "      <td>5</td>\n",
              "      <td>1.006782</td>\n",
              "      <td>1.430091</td>\n",
              "      <td>0.672414</td>\n",
              "      <td>00:21</td>\n",
              "    </tr>\n",
              "    <tr>\n",
              "      <td>6</td>\n",
              "      <td>0.958861</td>\n",
              "      <td>0.938964</td>\n",
              "      <td>0.758621</td>\n",
              "      <td>00:21</td>\n",
              "    </tr>\n",
              "    <tr>\n",
              "      <td>7</td>\n",
              "      <td>0.910447</td>\n",
              "      <td>0.820292</td>\n",
              "      <td>0.827586</td>\n",
              "      <td>00:21</td>\n",
              "    </tr>\n",
              "    <tr>\n",
              "      <td>8</td>\n",
              "      <td>0.867615</td>\n",
              "      <td>0.808784</td>\n",
              "      <td>0.827586</td>\n",
              "      <td>00:21</td>\n",
              "    </tr>\n",
              "    <tr>\n",
              "      <td>9</td>\n",
              "      <td>0.826475</td>\n",
              "      <td>0.800829</td>\n",
              "      <td>0.810345</td>\n",
              "      <td>00:21</td>\n",
              "    </tr>\n",
              "    <tr>\n",
              "      <td>10</td>\n",
              "      <td>0.791858</td>\n",
              "      <td>0.795330</td>\n",
              "      <td>0.810345</td>\n",
              "      <td>00:21</td>\n",
              "    </tr>\n",
              "    <tr>\n",
              "      <td>11</td>\n",
              "      <td>0.757831</td>\n",
              "      <td>0.778349</td>\n",
              "      <td>0.810345</td>\n",
              "      <td>00:21</td>\n",
              "    </tr>\n",
              "    <tr>\n",
              "      <td>12</td>\n",
              "      <td>0.728732</td>\n",
              "      <td>0.778136</td>\n",
              "      <td>0.810345</td>\n",
              "      <td>00:21</td>\n",
              "    </tr>\n",
              "    <tr>\n",
              "      <td>13</td>\n",
              "      <td>0.701640</td>\n",
              "      <td>0.762367</td>\n",
              "      <td>0.827586</td>\n",
              "      <td>00:21</td>\n",
              "    </tr>\n",
              "    <tr>\n",
              "      <td>14</td>\n",
              "      <td>0.678565</td>\n",
              "      <td>0.750279</td>\n",
              "      <td>0.844828</td>\n",
              "      <td>00:21</td>\n",
              "    </tr>\n",
              "    <tr>\n",
              "      <td>15</td>\n",
              "      <td>0.658180</td>\n",
              "      <td>0.754740</td>\n",
              "      <td>0.844828</td>\n",
              "      <td>00:21</td>\n",
              "    </tr>\n",
              "    <tr>\n",
              "      <td>16</td>\n",
              "      <td>0.640062</td>\n",
              "      <td>0.750716</td>\n",
              "      <td>0.862069</td>\n",
              "      <td>00:21</td>\n",
              "    </tr>\n",
              "    <tr>\n",
              "      <td>17</td>\n",
              "      <td>0.622996</td>\n",
              "      <td>0.745332</td>\n",
              "      <td>0.862069</td>\n",
              "      <td>00:21</td>\n",
              "    </tr>\n",
              "    <tr>\n",
              "      <td>18</td>\n",
              "      <td>0.608717</td>\n",
              "      <td>0.742445</td>\n",
              "      <td>0.862069</td>\n",
              "      <td>00:21</td>\n",
              "    </tr>\n",
              "    <tr>\n",
              "      <td>19</td>\n",
              "      <td>0.595256</td>\n",
              "      <td>0.739768</td>\n",
              "      <td>0.862069</td>\n",
              "      <td>00:21</td>\n",
              "    </tr>\n",
              "  </tbody>\n",
              "</table>"
            ]
          },
          "metadata": {}
        },
        {
          "output_type": "stream",
          "name": "stdout",
          "text": [
            "Better model found at epoch 0 with valid_loss value: 4.672929763793945.\n",
            "Better model found at epoch 1 with valid_loss value: 3.338704824447632.\n",
            "Better model found at epoch 2 with valid_loss value: 1.9783648252487183.\n",
            "Better model found at epoch 4 with valid_loss value: 1.0223897695541382.\n",
            "Better model found at epoch 6 with valid_loss value: 0.9389635324478149.\n",
            "Better model found at epoch 7 with valid_loss value: 0.8202921152114868.\n",
            "Better model found at epoch 8 with valid_loss value: 0.8087839484214783.\n",
            "Better model found at epoch 9 with valid_loss value: 0.8008286952972412.\n",
            "Better model found at epoch 10 with valid_loss value: 0.7953299283981323.\n",
            "Better model found at epoch 11 with valid_loss value: 0.7783486843109131.\n",
            "Better model found at epoch 12 with valid_loss value: 0.7781359553337097.\n",
            "Better model found at epoch 13 with valid_loss value: 0.7623668909072876.\n",
            "Better model found at epoch 14 with valid_loss value: 0.7502792477607727.\n",
            "Better model found at epoch 17 with valid_loss value: 0.7453320622444153.\n",
            "Better model found at epoch 18 with valid_loss value: 0.742445170879364.\n",
            "Better model found at epoch 19 with valid_loss value: 0.7397677898406982.\n"
          ]
        }
      ]
    },
    {
      "cell_type": "code",
      "source": [
        "interp = ClassificationInterpretation.from_learner(learn)"
      ],
      "metadata": {
        "colab": {
          "base_uri": "https://localhost:8080/",
          "height": 17
        },
        "id": "R1VjtOmwppBf",
        "outputId": "86a4231a-9c40-4431-a8ab-f311143d2763"
      },
      "execution_count": null,
      "outputs": [
        {
          "output_type": "display_data",
          "data": {
            "text/plain": [
              "<IPython.core.display.HTML object>"
            ],
            "text/html": [
              "\n",
              "<style>\n",
              "    /* Turns off some styling */\n",
              "    progress {\n",
              "        /* gets rid of default border in Firefox and Opera. */\n",
              "        border: none;\n",
              "        /* Needs to be in here for Safari polyfill so background images work as expected. */\n",
              "        background-size: auto;\n",
              "    }\n",
              "    .progress-bar-interrupted, .progress-bar-interrupted::-webkit-progress-bar {\n",
              "        background: #F44336;\n",
              "    }\n",
              "</style>\n"
            ]
          },
          "metadata": {}
        },
        {
          "output_type": "display_data",
          "data": {
            "text/plain": [
              "<IPython.core.display.HTML object>"
            ],
            "text/html": [
              ""
            ]
          },
          "metadata": {}
        }
      ]
    },
    {
      "cell_type": "code",
      "source": [
        "interp.plot_confusion_matrix()"
      ],
      "metadata": {
        "colab": {
          "base_uri": "https://localhost:8080/",
          "height": 311
        },
        "id": "zaQsoALXrebu",
        "outputId": "e59ff053-18b8-4e35-c2c9-c87921c5caf0"
      },
      "execution_count": null,
      "outputs": [
        {
          "output_type": "display_data",
          "data": {
            "text/plain": [
              "<IPython.core.display.HTML object>"
            ],
            "text/html": [
              "\n",
              "<style>\n",
              "    /* Turns off some styling */\n",
              "    progress {\n",
              "        /* gets rid of default border in Firefox and Opera. */\n",
              "        border: none;\n",
              "        /* Needs to be in here for Safari polyfill so background images work as expected. */\n",
              "        background-size: auto;\n",
              "    }\n",
              "    .progress-bar-interrupted, .progress-bar-interrupted::-webkit-progress-bar {\n",
              "        background: #F44336;\n",
              "    }\n",
              "</style>\n"
            ]
          },
          "metadata": {}
        },
        {
          "output_type": "display_data",
          "data": {
            "text/plain": [
              "<IPython.core.display.HTML object>"
            ],
            "text/html": [
              ""
            ]
          },
          "metadata": {}
        },
        {
          "output_type": "display_data",
          "data": {
            "text/plain": [
              "<Figure size 432x288 with 1 Axes>"
            ],
            "image/png": "[encoded data removed]"
          },
          "metadata": {
            "needs_background": "light"
          }
        }
      ]
    },
    {
      "cell_type": "code",
      "source": [
        ""
      ],
      "metadata": {
        "id": "tmZVAEntrpmB"
      },
      "execution_count": null,
      "outputs": []
    }
  ]
}