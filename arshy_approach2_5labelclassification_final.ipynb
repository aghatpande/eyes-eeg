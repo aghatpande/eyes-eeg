{
  "nbformat": 4,
  "nbformat_minor": 0,
  "metadata": {
    "colab": {
      "name": "arshy_approach2_5labelclassification_final.ipynb",
      "provenance": [],
      "collapsed_sections": [
        "nYH5z89mrhtQ",
        "rvuP15DOsOJg"
      ]
    },
    "kernelspec": {
      "name": "python3",
      "display_name": "Python 3"
    },
    "language_info": {
      "name": "python"
    },
    "accelerator": "GPU"
  },
  "cells": [
    {
      "cell_type": "markdown",
      "source": [
        "in this notebook, we will use the preprocessed data using approach 2 to classify eyesopen, eyesclosed using the following method\n",
        "\n",
        "Method 1\n",
        "- classify using only the following channels [27, 28, 29, 30, 57, 58, 59 ,60] these are channels related to occipital\n",
        "\n",
        "Method 2\n",
        "- Use only the Oz channel\n",
        "\n",
        "Method 3\n",
        "- all occipital channels plus P3, P4"
      ],
      "metadata": {
        "id": "0Xu98LxxlBcI"
      }
    },
    {
      "cell_type": "code",
      "source": [
        "!pip install fastai timm -Uqq"
      ],
      "metadata": {
        "id": "19wkXCRagdd-"
      },
      "execution_count": 1,
      "outputs": []
    },
    {
      "cell_type": "code",
      "execution_count": 2,
      "metadata": {
        "colab": {
          "base_uri": "https://localhost:8080/"
        },
        "id": "ag-mhfnYk6T1",
        "outputId": "d955bce0-9140-4020-9f3f-83d89517b087"
      },
      "outputs": [
        {
          "output_type": "stream",
          "name": "stdout",
          "text": [
            "Mounted at /content/drive\n"
          ]
        }
      ],
      "source": [
        "from google.colab import drive\n",
        "drive.mount('/content/drive') "
      ]
    },
    {
      "cell_type": "code",
      "source": [
        "%cd /content/drive/MyDrive/colab_notebooks/algovera/lynxhack"
      ],
      "metadata": {
        "colab": {
          "base_uri": "https://localhost:8080/"
        },
        "id": "jiB8kHxxn6Pd",
        "outputId": "10a95849-d420-4731-e4ee-d97edcc1d8ca"
      },
      "execution_count": 15,
      "outputs": [
        {
          "output_type": "stream",
          "name": "stdout",
          "text": [
            "/content/drive/MyDrive/colab_notebooks/algovera/lynxhack\n"
          ]
        }
      ]
    },
    {
      "cell_type": "code",
      "source": [
        "import timm\n",
        "from timm import create_model\n",
        "from timm.models.efficientnet_blocks import DepthwiseSeparableConv\n",
        "from timm.models.layers import create_conv2d\n",
        "from fastai.vision.all import *\n",
        "\n",
        "import torch\n",
        "import torch.nn as nn\n",
        "\n",
        "import pandas as pd\n",
        "import numpy as np\n",
        "import pickle"
      ],
      "metadata": {
        "id": "x1AJacmIn_Ba"
      },
      "execution_count": 16,
      "outputs": []
    },
    {
      "cell_type": "code",
      "source": [
        "df = pd.read_csv('approach2infos.csv')"
      ],
      "metadata": {
        "id": "L8_7vQyxoHIq"
      },
      "execution_count": 17,
      "outputs": []
    },
    {
      "cell_type": "code",
      "source": [
        "ss = pickle.load(open('ss_approach2.pkl', 'rb'))"
      ],
      "metadata": {
        "id": "63teCnkopjKz"
      },
      "execution_count": 18,
      "outputs": []
    },
    {
      "cell_type": "markdown",
      "source": [
        "# 5 Label classification"
      ],
      "metadata": {
        "id": "An29uT9z8bW7"
      }
    },
    {
      "cell_type": "markdown",
      "source": [
        "## Method 1 with EEGInception"
      ],
      "metadata": {
        "id": "lDf6-TWCftQP"
      }
    },
    {
      "cell_type": "code",
      "source": [
        "class InceptionBlock(nn.Module):\n",
        "    def __init__(self,\n",
        "        in_chs,\n",
        "        out_chs,\n",
        "        kernel_size,\n",
        "        dropout_rate,\n",
        "        activation,\n",
        "        depth_multiplier=2\n",
        "    ):\n",
        "        super().__init__()\n",
        "        \n",
        "        self.conv = nn.Conv2d(in_chs,\n",
        "                              out_chs,\n",
        "                              kernel_size=kernel_size,\n",
        "                              padding='same')\n",
        "\n",
        "        self.bn = nn.BatchNorm2d(out_chs)\n",
        "        self.act = activation()\n",
        "        self.dp = nn.Dropout2d(dropout_rate)\n",
        "        self.dconv = DepthwiseSeparableConv(in_chs=out_chs,\n",
        "                                            out_chs=out_chs*depth_multiplier)\n",
        "        self.bn2 = nn.BatchNorm2d(out_chs*depth_multiplier)\n",
        "        self.act2 = activation()\n",
        "        self.dp2 = nn.Dropout2d(dropout_rate)\n",
        "\n",
        "    def forward(self, x):\n",
        "\n",
        "        x = self.conv(x)\n",
        "        x = self.bn(x)\n",
        "        x = self.act(x)\n",
        "        x = self.dp(x)\n",
        "        x = self.dconv(x)\n",
        "        x = self.bn2(x)\n",
        "        x = self.act2(x)\n",
        "        x = self.dp2(x)\n",
        "\n",
        "        return x\n",
        "\n",
        "\n",
        "class EEGInception(nn.Module):\n",
        "    def __init__(self,\n",
        "        n_channels=61, # Num channels\n",
        "        input_time=5000, # Input time\n",
        "        fs=100,         # Frequence\n",
        "        scales_time=(500, 250, 125), \n",
        "        dropout_rate=0.25,\n",
        "        activation=nn.ELU,\n",
        "        num_filters=16, \n",
        "        n_classes=5,\n",
        "        block_depth_multiplier=2\n",
        "    ):\n",
        "\n",
        "        super().__init__()\n",
        "        self.scales_samples = [int(s * fs / 1000) for s in scales_time]\n",
        "        self.num_channels = n_channels\n",
        "        self.dropout_rate = dropout_rate\n",
        "\n",
        "        self.blocks1 = nn.ModuleList()\n",
        "        for i in range(len(scales_time)):\n",
        "            self.blocks1.append(InceptionBlock(\n",
        "                                        in_chs=self.num_channels,\n",
        "                                        out_chs=num_filters,\n",
        "                                        kernel_size=(scales_time[i], 1),\n",
        "                                        dropout_rate=self.dropout_rate,\n",
        "                                        activation=activation,\n",
        "                                        depth_multiplier=block_depth_multiplier\n",
        "                                    ))\n",
        "\n",
        "        self.avgpooling = nn.AvgPool2d(kernel_size=(4,1))\n",
        "\n",
        "        block2_nin = num_filters*block_depth_multiplier*3\n",
        "        self.blocks2 = nn.ModuleList()\n",
        "        for i in range(len(scales_time)):\n",
        "            self.blocks2.append(InceptionBlock(\n",
        "                                        in_chs=block2_nin,\n",
        "                                        out_chs=num_filters*2,\n",
        "                                        kernel_size=(scales_time[i], 1),\n",
        "                                        dropout_rate=self.dropout_rate,\n",
        "                                        activation=activation,\n",
        "                                        depth_multiplier=block_depth_multiplier\n",
        "                                    ))\n",
        "\n",
        "        self.avgpooling2 = nn.AvgPool2d(kernel_size=(4,1))\n",
        "\n",
        "        self.conv1 = nn.Conv2d(num_filters*2*block_depth_multiplier*3, \n",
        "                               int(num_filters*len(self.scales_samples)/2),\n",
        "                               kernel_size=(8, 1),\n",
        "                               padding='same')\n",
        "        self.bn1 = nn.BatchNorm2d(int(num_filters*len(self.scales_samples)/2))\n",
        "        self.act1 = nn.ELU()\n",
        "        self.avgpooling3 = nn.AvgPool2d(kernel_size=(8,1))\n",
        "        self.dp1 = nn.Dropout2d(dropout_rate)\n",
        "\n",
        "        self.conv2 = nn.Conv2d(int(num_filters*len(self.scales_samples)/2),\n",
        "                               int(num_filters*len(self.scales_samples)/4),\n",
        "                              kernel_size=(4, 1),\n",
        "                              padding='same')\n",
        "        self.bn2 = nn.BatchNorm2d(int(num_filters*len(self.scales_samples)/4))\n",
        "        self.act2 = nn.ELU()\n",
        "        self.avgpooling4 = nn.AvgPool2d(kernel_size=(2,1))\n",
        "        self.dp2 = nn.Dropout2d(dropout_rate)\n",
        "\n",
        "        self.flatten = nn.Flatten()\n",
        "        self.final = nn.Linear(228, 5)\n",
        "\n",
        "\n",
        "    def forward(self, x):\n",
        "        \n",
        "        block1_outs = []\n",
        "        for block in self.blocks1:\n",
        "            block1_outs.append(block(x))\n",
        "        x = torch.cat(block1_outs, 1)\n",
        "        x = self.avgpooling(x)\n",
        "\n",
        "        block2_outs = []\n",
        "        for block in self.blocks2:\n",
        "            block2_outs.append(block(x))\n",
        "        x = torch.cat(block2_outs, 1)\n",
        "        x = self.avgpooling2(x)\n",
        "        \n",
        "        x = self.conv1(x)\n",
        "        x = self.bn1(x)\n",
        "        x = self.act1(x)\n",
        "        x = self.avgpooling3(x)\n",
        "        x = self.dp1(x)\n",
        "        \n",
        "        x = self.conv2(x)\n",
        "        x = self.bn2(x)\n",
        "        x = self.act2(x)\n",
        "        x = self.avgpooling4(x)\n",
        "        x = self.dp2(x)\n",
        "\n",
        "        x = self.flatten(x)\n",
        "        x = self.final(x)\n",
        "        return x"
      ],
      "metadata": {
        "id": "cpiXCo68ak_D"
      },
      "execution_count": null,
      "outputs": []
    },
    {
      "cell_type": "code",
      "source": [
        "include = [27, 28, 29, 30, 57, 58, 59 ,60] # only channels related to occipital\n",
        "\n",
        "def read_eeg(fn):\n",
        "    include = [27, 28, 29, 30, 57, 58, 59 ,60] # only channels related to occipital\n",
        "    x= np.load(fn)\n",
        "    x = ss.transform(x)\n",
        "    return np.expand_dims(x[include], -1)\n",
        "    \n",
        "def EEGBlock():\n",
        "    return TransformBlock(type_tfms=read_eeg)"
      ],
      "metadata": {
        "id": "FAXssXWKgNcO"
      },
      "execution_count": null,
      "outputs": []
    },
    {
      "cell_type": "code",
      "source": [
        "label_index = {\n",
        "    'task-eyes closed':0, \n",
        "    'task-eyes open':1,       \n",
        "}"
      ],
      "metadata": {
        "id": "cPHVP5wpgmPC"
      },
      "execution_count": null,
      "outputs": []
    },
    {
      "cell_type": "code",
      "source": [
        "dblock = DataBlock(blocks=(EEGBlock, CategoryBlock),\n",
        "                   get_x=ColReader('fns'),\n",
        "                   get_y=ColReader('label'),\n",
        "                   splitter=ColSplitter())\n",
        "\n",
        "dls = dblock.dataloaders(df)"
      ],
      "metadata": {
        "id": "xQz93ptwgu31"
      },
      "execution_count": null,
      "outputs": []
    },
    {
      "cell_type": "code",
      "source": [
        "x,y = dls.one_batch()"
      ],
      "metadata": {
        "id": "bnotoc8vhdn0"
      },
      "execution_count": null,
      "outputs": []
    },
    {
      "cell_type": "code",
      "source": [
        "model = EEGInception(8)   \n",
        "apply_init(model, nn.init.kaiming_normal_)"
      ],
      "metadata": {
        "id": "VfCA64cDhfOD"
      },
      "execution_count": null,
      "outputs": []
    },
    {
      "cell_type": "code",
      "source": [
        "learn = Learner(dls, \n",
        "                model, \n",
        "                loss_func=LabelSmoothingCrossEntropyFlat(),\n",
        "                cbs=[GradientClip(),\n",
        "                    # EEGCallback(),\n",
        "                     SaveModelCallback(fname='chrononet')],\n",
        "                metrics=accuracy\n",
        "        ).to_fp16()"
      ],
      "metadata": {
        "id": "AwadPAPihzO-"
      },
      "execution_count": null,
      "outputs": []
    },
    {
      "cell_type": "code",
      "source": [
        "learn.fit_one_cycle(20, 1e-2)"
      ],
      "metadata": {
        "colab": {
          "base_uri": "https://localhost:8080/",
          "height": 922
        },
        "id": "_5cYndmxh09t",
        "outputId": "76d31c2c-9069-4240-9f48-343b47a53580"
      },
      "execution_count": null,
      "outputs": [
        {
          "output_type": "display_data",
          "data": {
            "text/plain": [
              "<IPython.core.display.HTML object>"
            ],
            "text/html": [
              "\n",
              "<style>\n",
              "    /* Turns off some styling */\n",
              "    progress {\n",
              "        /* gets rid of default border in Firefox and Opera. */\n",
              "        border: none;\n",
              "        /* Needs to be in here for Safari polyfill so background images work as expected. */\n",
              "        background-size: auto;\n",
              "    }\n",
              "    .progress-bar-interrupted, .progress-bar-interrupted::-webkit-progress-bar {\n",
              "        background: #F44336;\n",
              "    }\n",
              "</style>\n"
            ]
          },
          "metadata": {}
        },
        {
          "output_type": "display_data",
          "data": {
            "text/plain": [
              "<IPython.core.display.HTML object>"
            ],
            "text/html": [
              "<table border=\"1\" class=\"dataframe\">\n",
              "  <thead>\n",
              "    <tr style=\"text-align: left;\">\n",
              "      <th>epoch</th>\n",
              "      <th>train_loss</th>\n",
              "      <th>valid_loss</th>\n",
              "      <th>accuracy</th>\n",
              "      <th>time</th>\n",
              "    </tr>\n",
              "  </thead>\n",
              "  <tbody>\n",
              "    <tr>\n",
              "      <td>0</td>\n",
              "      <td>1.753972</td>\n",
              "      <td>5.358462</td>\n",
              "      <td>0.500000</td>\n",
              "      <td>00:59</td>\n",
              "    </tr>\n",
              "    <tr>\n",
              "      <td>1</td>\n",
              "      <td>1.453449</td>\n",
              "      <td>5.126885</td>\n",
              "      <td>0.586207</td>\n",
              "      <td>00:16</td>\n",
              "    </tr>\n",
              "    <tr>\n",
              "      <td>2</td>\n",
              "      <td>1.291452</td>\n",
              "      <td>3.181444</td>\n",
              "      <td>0.568965</td>\n",
              "      <td>00:16</td>\n",
              "    </tr>\n",
              "    <tr>\n",
              "      <td>3</td>\n",
              "      <td>1.147027</td>\n",
              "      <td>2.396010</td>\n",
              "      <td>0.586207</td>\n",
              "      <td>00:16</td>\n",
              "    </tr>\n",
              "    <tr>\n",
              "      <td>4</td>\n",
              "      <td>1.074930</td>\n",
              "      <td>1.523465</td>\n",
              "      <td>0.620690</td>\n",
              "      <td>00:16</td>\n",
              "    </tr>\n",
              "    <tr>\n",
              "      <td>5</td>\n",
              "      <td>1.005084</td>\n",
              "      <td>1.600876</td>\n",
              "      <td>0.655172</td>\n",
              "      <td>00:16</td>\n",
              "    </tr>\n",
              "    <tr>\n",
              "      <td>6</td>\n",
              "      <td>0.954265</td>\n",
              "      <td>1.010112</td>\n",
              "      <td>0.775862</td>\n",
              "      <td>00:16</td>\n",
              "    </tr>\n",
              "    <tr>\n",
              "      <td>7</td>\n",
              "      <td>0.906348</td>\n",
              "      <td>0.991995</td>\n",
              "      <td>0.775862</td>\n",
              "      <td>00:16</td>\n",
              "    </tr>\n",
              "    <tr>\n",
              "      <td>8</td>\n",
              "      <td>0.881848</td>\n",
              "      <td>0.880825</td>\n",
              "      <td>0.793103</td>\n",
              "      <td>00:16</td>\n",
              "    </tr>\n",
              "    <tr>\n",
              "      <td>9</td>\n",
              "      <td>0.850695</td>\n",
              "      <td>0.912089</td>\n",
              "      <td>0.810345</td>\n",
              "      <td>00:16</td>\n",
              "    </tr>\n",
              "    <tr>\n",
              "      <td>10</td>\n",
              "      <td>0.819953</td>\n",
              "      <td>0.823137</td>\n",
              "      <td>0.827586</td>\n",
              "      <td>00:16</td>\n",
              "    </tr>\n",
              "    <tr>\n",
              "      <td>11</td>\n",
              "      <td>0.799918</td>\n",
              "      <td>0.797019</td>\n",
              "      <td>0.810345</td>\n",
              "      <td>00:16</td>\n",
              "    </tr>\n",
              "    <tr>\n",
              "      <td>12</td>\n",
              "      <td>0.777356</td>\n",
              "      <td>0.796556</td>\n",
              "      <td>0.810345</td>\n",
              "      <td>00:16</td>\n",
              "    </tr>\n",
              "    <tr>\n",
              "      <td>13</td>\n",
              "      <td>0.754329</td>\n",
              "      <td>0.818843</td>\n",
              "      <td>0.793103</td>\n",
              "      <td>00:16</td>\n",
              "    </tr>\n",
              "    <tr>\n",
              "      <td>14</td>\n",
              "      <td>0.737518</td>\n",
              "      <td>0.837894</td>\n",
              "      <td>0.793103</td>\n",
              "      <td>00:16</td>\n",
              "    </tr>\n",
              "    <tr>\n",
              "      <td>15</td>\n",
              "      <td>0.721305</td>\n",
              "      <td>0.834422</td>\n",
              "      <td>0.793103</td>\n",
              "      <td>00:16</td>\n",
              "    </tr>\n",
              "    <tr>\n",
              "      <td>16</td>\n",
              "      <td>0.703164</td>\n",
              "      <td>0.833407</td>\n",
              "      <td>0.793103</td>\n",
              "      <td>00:16</td>\n",
              "    </tr>\n",
              "    <tr>\n",
              "      <td>17</td>\n",
              "      <td>0.690966</td>\n",
              "      <td>0.840751</td>\n",
              "      <td>0.793103</td>\n",
              "      <td>00:16</td>\n",
              "    </tr>\n",
              "    <tr>\n",
              "      <td>18</td>\n",
              "      <td>0.677277</td>\n",
              "      <td>0.843847</td>\n",
              "      <td>0.793103</td>\n",
              "      <td>00:16</td>\n",
              "    </tr>\n",
              "    <tr>\n",
              "      <td>19</td>\n",
              "      <td>0.665505</td>\n",
              "      <td>0.847770</td>\n",
              "      <td>0.793103</td>\n",
              "      <td>00:16</td>\n",
              "    </tr>\n",
              "  </tbody>\n",
              "</table>"
            ]
          },
          "metadata": {}
        },
        {
          "output_type": "stream",
          "name": "stderr",
          "text": [
            "/usr/local/lib/python3.7/dist-packages/torch/nn/modules/conv.py:443: UserWarning: Using padding='same' with even kernel lengths and odd dilation may require a zero-padded copy of the input be created (Triggered internally at  ../aten/src/ATen/native/Convolution.cpp:647.)\n",
            "  self.padding, self.dilation, self.groups)\n"
          ]
        },
        {
          "output_type": "stream",
          "name": "stdout",
          "text": [
            "Better model found at epoch 0 with valid_loss value: 5.358462333679199.\n",
            "Better model found at epoch 1 with valid_loss value: 5.126885414123535.\n",
            "Better model found at epoch 2 with valid_loss value: 3.181443691253662.\n",
            "Better model found at epoch 3 with valid_loss value: 2.396009922027588.\n",
            "Better model found at epoch 4 with valid_loss value: 1.5234650373458862.\n",
            "Better model found at epoch 6 with valid_loss value: 1.0101120471954346.\n",
            "Better model found at epoch 7 with valid_loss value: 0.9919948577880859.\n",
            "Better model found at epoch 8 with valid_loss value: 0.8808249831199646.\n",
            "Better model found at epoch 10 with valid_loss value: 0.823137104511261.\n",
            "Better model found at epoch 11 with valid_loss value: 0.7970190644264221.\n",
            "Better model found at epoch 12 with valid_loss value: 0.7965559959411621.\n"
          ]
        }
      ]
    },
    {
      "cell_type": "markdown",
      "source": [
        "## Method 2 with EEGInception"
      ],
      "metadata": {
        "id": "cUxkxTXlmRu-"
      }
    },
    {
      "cell_type": "code",
      "source": [
        "def read_eeg(fn):\n",
        "    include = [29] # only channels related to occipital\n",
        "    x= np.load(fn)\n",
        "    x = ss.transform(x)\n",
        "    return np.expand_dims(x[include], -1)\n",
        "    \n",
        "def EEGBlock():\n",
        "    return TransformBlock(type_tfms=read_eeg)"
      ],
      "metadata": {
        "id": "TnSQJThUi4Vd"
      },
      "execution_count": null,
      "outputs": []
    },
    {
      "cell_type": "code",
      "source": [
        "dblock = DataBlock(blocks=(EEGBlock, CategoryBlock),\n",
        "                   get_x=ColReader('fns'),\n",
        "                   get_y=ColReader('label'),\n",
        "                   splitter=ColSplitter())\n",
        "\n",
        "dls = dblock.dataloaders(df)"
      ],
      "metadata": {
        "id": "YT0DcirGmk2L"
      },
      "execution_count": null,
      "outputs": []
    },
    {
      "cell_type": "code",
      "source": [
        "model = EEGInception(1)   \n",
        "apply_init(model, nn.init.kaiming_normal_)"
      ],
      "metadata": {
        "id": "oV7FbSCemo7N"
      },
      "execution_count": null,
      "outputs": []
    },
    {
      "cell_type": "code",
      "source": [
        "learn = Learner(dls, \n",
        "                model, \n",
        "                loss_func=LabelSmoothingCrossEntropyFlat(),\n",
        "                cbs=[GradientClip(),\n",
        "                    # EEGCallback(),\n",
        "                     SaveModelCallback(fname='eeginception_meth2')],\n",
        "                metrics=accuracy\n",
        "        ).to_fp16()"
      ],
      "metadata": {
        "id": "le3VFQW6mrti"
      },
      "execution_count": null,
      "outputs": []
    },
    {
      "cell_type": "code",
      "source": [
        "learn.fit_one_cycle(20, 1e-2)"
      ],
      "metadata": {
        "colab": {
          "base_uri": "https://localhost:8080/",
          "height": 746
        },
        "id": "SJRYEAe9mxHi",
        "outputId": "5646ff34-ae57-4e30-bd9c-92e5c457d4af"
      },
      "execution_count": null,
      "outputs": [
        {
          "output_type": "display_data",
          "data": {
            "text/plain": [
              "<IPython.core.display.HTML object>"
            ],
            "text/html": [
              "\n",
              "<style>\n",
              "    /* Turns off some styling */\n",
              "    progress {\n",
              "        /* gets rid of default border in Firefox and Opera. */\n",
              "        border: none;\n",
              "        /* Needs to be in here for Safari polyfill so background images work as expected. */\n",
              "        background-size: auto;\n",
              "    }\n",
              "    .progress-bar-interrupted, .progress-bar-interrupted::-webkit-progress-bar {\n",
              "        background: #F44336;\n",
              "    }\n",
              "</style>\n"
            ]
          },
          "metadata": {}
        },
        {
          "output_type": "display_data",
          "data": {
            "text/plain": [
              "<IPython.core.display.HTML object>"
            ],
            "text/html": [
              "<table border=\"1\" class=\"dataframe\">\n",
              "  <thead>\n",
              "    <tr style=\"text-align: left;\">\n",
              "      <th>epoch</th>\n",
              "      <th>train_loss</th>\n",
              "      <th>valid_loss</th>\n",
              "      <th>accuracy</th>\n",
              "      <th>time</th>\n",
              "    </tr>\n",
              "  </thead>\n",
              "  <tbody>\n",
              "    <tr>\n",
              "      <td>0</td>\n",
              "      <td>2.090497</td>\n",
              "      <td>2.896761</td>\n",
              "      <td>0.344828</td>\n",
              "      <td>00:19</td>\n",
              "    </tr>\n",
              "    <tr>\n",
              "      <td>1</td>\n",
              "      <td>1.759229</td>\n",
              "      <td>1.534052</td>\n",
              "      <td>0.551724</td>\n",
              "      <td>00:15</td>\n",
              "    </tr>\n",
              "    <tr>\n",
              "      <td>2</td>\n",
              "      <td>1.482758</td>\n",
              "      <td>0.899769</td>\n",
              "      <td>0.758621</td>\n",
              "      <td>00:15</td>\n",
              "    </tr>\n",
              "    <tr>\n",
              "      <td>3</td>\n",
              "      <td>1.316211</td>\n",
              "      <td>1.277419</td>\n",
              "      <td>0.551724</td>\n",
              "      <td>00:15</td>\n",
              "    </tr>\n",
              "    <tr>\n",
              "      <td>4</td>\n",
              "      <td>1.203846</td>\n",
              "      <td>1.617678</td>\n",
              "      <td>0.586207</td>\n",
              "      <td>00:15</td>\n",
              "    </tr>\n",
              "    <tr>\n",
              "      <td>5</td>\n",
              "      <td>1.118489</td>\n",
              "      <td>1.075763</td>\n",
              "      <td>0.775862</td>\n",
              "      <td>00:17</td>\n",
              "    </tr>\n",
              "    <tr>\n",
              "      <td>6</td>\n",
              "      <td>1.064762</td>\n",
              "      <td>0.927562</td>\n",
              "      <td>0.724138</td>\n",
              "      <td>00:17</td>\n",
              "    </tr>\n",
              "    <tr>\n",
              "      <td>7</td>\n",
              "      <td>1.017873</td>\n",
              "      <td>1.113739</td>\n",
              "      <td>0.655172</td>\n",
              "      <td>00:16</td>\n",
              "    </tr>\n",
              "    <tr>\n",
              "      <td>8</td>\n",
              "      <td>0.969006</td>\n",
              "      <td>0.927955</td>\n",
              "      <td>0.758621</td>\n",
              "      <td>00:18</td>\n",
              "    </tr>\n",
              "    <tr>\n",
              "      <td>9</td>\n",
              "      <td>0.924333</td>\n",
              "      <td>0.787865</td>\n",
              "      <td>0.827586</td>\n",
              "      <td>00:20</td>\n",
              "    </tr>\n",
              "    <tr>\n",
              "      <td>10</td>\n",
              "      <td>0.885111</td>\n",
              "      <td>0.955129</td>\n",
              "      <td>0.706897</td>\n",
              "      <td>00:21</td>\n",
              "    </tr>\n",
              "    <tr>\n",
              "      <td>11</td>\n",
              "      <td>0.849524</td>\n",
              "      <td>0.938842</td>\n",
              "      <td>0.689655</td>\n",
              "      <td>00:17</td>\n",
              "    </tr>\n",
              "    <tr>\n",
              "      <td>12</td>\n",
              "      <td>0.818631</td>\n",
              "      <td>0.861149</td>\n",
              "      <td>0.741379</td>\n",
              "      <td>00:15</td>\n",
              "    </tr>\n",
              "    <tr>\n",
              "      <td>13</td>\n",
              "      <td>0.789580</td>\n",
              "      <td>0.832751</td>\n",
              "      <td>0.758621</td>\n",
              "      <td>00:15</td>\n",
              "    </tr>\n",
              "    <tr>\n",
              "      <td>14</td>\n",
              "      <td>0.763418</td>\n",
              "      <td>0.830746</td>\n",
              "      <td>0.775862</td>\n",
              "      <td>00:15</td>\n",
              "    </tr>\n",
              "    <tr>\n",
              "      <td>15</td>\n",
              "      <td>0.739092</td>\n",
              "      <td>0.836647</td>\n",
              "      <td>0.758621</td>\n",
              "      <td>00:15</td>\n",
              "    </tr>\n",
              "    <tr>\n",
              "      <td>16</td>\n",
              "      <td>0.715670</td>\n",
              "      <td>0.844537</td>\n",
              "      <td>0.741379</td>\n",
              "      <td>00:15</td>\n",
              "    </tr>\n",
              "    <tr>\n",
              "      <td>17</td>\n",
              "      <td>0.694541</td>\n",
              "      <td>0.859208</td>\n",
              "      <td>0.724138</td>\n",
              "      <td>00:15</td>\n",
              "    </tr>\n",
              "    <tr>\n",
              "      <td>18</td>\n",
              "      <td>0.676676</td>\n",
              "      <td>0.860794</td>\n",
              "      <td>0.741379</td>\n",
              "      <td>00:15</td>\n",
              "    </tr>\n",
              "    <tr>\n",
              "      <td>19</td>\n",
              "      <td>0.661625</td>\n",
              "      <td>0.860810</td>\n",
              "      <td>0.724138</td>\n",
              "      <td>00:15</td>\n",
              "    </tr>\n",
              "  </tbody>\n",
              "</table>"
            ]
          },
          "metadata": {}
        },
        {
          "output_type": "stream",
          "name": "stdout",
          "text": [
            "Better model found at epoch 0 with valid_loss value: 2.896761178970337.\n",
            "Better model found at epoch 1 with valid_loss value: 1.534051775932312.\n",
            "Better model found at epoch 2 with valid_loss value: 0.8997693061828613.\n",
            "Better model found at epoch 9 with valid_loss value: 0.787865400314331.\n"
          ]
        }
      ]
    },
    {
      "cell_type": "markdown",
      "source": [
        "## Method 3 EEGInception"
      ],
      "metadata": {
        "id": "3nfOSy2JnIav"
      }
    },
    {
      "cell_type": "code",
      "source": [
        "def read_eeg(fn):\n",
        "    include = [24, 27, 28, 29, 30, 54, 57, 58, 59 ,60] # only channels related to occipital\n",
        "    x= np.load(fn)\n",
        "    x = ss.transform(x)\n",
        "    return np.expand_dims(x[include], -1)\n",
        "    \n",
        "def EEGBlock():\n",
        "    return TransformBlock(type_tfms=read_eeg)"
      ],
      "metadata": {
        "id": "WnrQcH6Bmyvd"
      },
      "execution_count": null,
      "outputs": []
    },
    {
      "cell_type": "code",
      "source": [
        "dblock = DataBlock(blocks=(EEGBlock, CategoryBlock),\n",
        "                   get_x=ColReader('fns'),\n",
        "                   get_y=ColReader('label'),\n",
        "                   splitter=ColSplitter())\n",
        "\n",
        "dls = dblock.dataloaders(df)"
      ],
      "metadata": {
        "id": "FQpd38uXnbSn"
      },
      "execution_count": null,
      "outputs": []
    },
    {
      "cell_type": "code",
      "source": [
        "model = EEGInception(10)   \n",
        "apply_init(model, nn.init.kaiming_normal_)"
      ],
      "metadata": {
        "id": "yQyo-KG8ncCO"
      },
      "execution_count": null,
      "outputs": []
    },
    {
      "cell_type": "code",
      "source": [
        "learn = Learner(dls, \n",
        "                model, \n",
        "                loss_func=LabelSmoothingCrossEntropyFlat(),\n",
        "                cbs=[GradientClip(),\n",
        "                    # EEGCallback(),\n",
        "                     SaveModelCallback(fname='eeginception_meth3')],\n",
        "                metrics=accuracy\n",
        "        ).to_fp16()"
      ],
      "metadata": {
        "id": "9hgmonSLngEv"
      },
      "execution_count": null,
      "outputs": []
    },
    {
      "cell_type": "code",
      "source": [
        "learn.fit_one_cycle(20, 1e-2)"
      ],
      "metadata": {
        "colab": {
          "base_uri": "https://localhost:8080/",
          "height": 815
        },
        "id": "DYK4mPeMnjOW",
        "outputId": "0f6cb7e2-f477-4690-c85b-b5cf4136fddd"
      },
      "execution_count": null,
      "outputs": [
        {
          "output_type": "display_data",
          "data": {
            "text/plain": [
              "<IPython.core.display.HTML object>"
            ],
            "text/html": [
              "\n",
              "<style>\n",
              "    /* Turns off some styling */\n",
              "    progress {\n",
              "        /* gets rid of default border in Firefox and Opera. */\n",
              "        border: none;\n",
              "        /* Needs to be in here for Safari polyfill so background images work as expected. */\n",
              "        background-size: auto;\n",
              "    }\n",
              "    .progress-bar-interrupted, .progress-bar-interrupted::-webkit-progress-bar {\n",
              "        background: #F44336;\n",
              "    }\n",
              "</style>\n"
            ]
          },
          "metadata": {}
        },
        {
          "output_type": "display_data",
          "data": {
            "text/plain": [
              "<IPython.core.display.HTML object>"
            ],
            "text/html": [
              "<table border=\"1\" class=\"dataframe\">\n",
              "  <thead>\n",
              "    <tr style=\"text-align: left;\">\n",
              "      <th>epoch</th>\n",
              "      <th>train_loss</th>\n",
              "      <th>valid_loss</th>\n",
              "      <th>accuracy</th>\n",
              "      <th>time</th>\n",
              "    </tr>\n",
              "  </thead>\n",
              "  <tbody>\n",
              "    <tr>\n",
              "      <td>0</td>\n",
              "      <td>1.626332</td>\n",
              "      <td>3.096744</td>\n",
              "      <td>0.500000</td>\n",
              "      <td>00:22</td>\n",
              "    </tr>\n",
              "    <tr>\n",
              "      <td>1</td>\n",
              "      <td>1.392290</td>\n",
              "      <td>2.458457</td>\n",
              "      <td>0.551724</td>\n",
              "      <td>00:16</td>\n",
              "    </tr>\n",
              "    <tr>\n",
              "      <td>2</td>\n",
              "      <td>1.194509</td>\n",
              "      <td>1.754278</td>\n",
              "      <td>0.551724</td>\n",
              "      <td>00:17</td>\n",
              "    </tr>\n",
              "    <tr>\n",
              "      <td>3</td>\n",
              "      <td>1.102253</td>\n",
              "      <td>1.792937</td>\n",
              "      <td>0.586207</td>\n",
              "      <td>00:16</td>\n",
              "    </tr>\n",
              "    <tr>\n",
              "      <td>4</td>\n",
              "      <td>1.031644</td>\n",
              "      <td>1.703764</td>\n",
              "      <td>0.603448</td>\n",
              "      <td>00:16</td>\n",
              "    </tr>\n",
              "    <tr>\n",
              "      <td>5</td>\n",
              "      <td>0.974299</td>\n",
              "      <td>1.655615</td>\n",
              "      <td>0.672414</td>\n",
              "      <td>00:16</td>\n",
              "    </tr>\n",
              "    <tr>\n",
              "      <td>6</td>\n",
              "      <td>0.933340</td>\n",
              "      <td>0.875700</td>\n",
              "      <td>0.810345</td>\n",
              "      <td>00:16</td>\n",
              "    </tr>\n",
              "    <tr>\n",
              "      <td>7</td>\n",
              "      <td>0.900451</td>\n",
              "      <td>0.950514</td>\n",
              "      <td>0.844828</td>\n",
              "      <td>00:16</td>\n",
              "    </tr>\n",
              "    <tr>\n",
              "      <td>8</td>\n",
              "      <td>0.869191</td>\n",
              "      <td>0.757754</td>\n",
              "      <td>0.844828</td>\n",
              "      <td>00:16</td>\n",
              "    </tr>\n",
              "    <tr>\n",
              "      <td>9</td>\n",
              "      <td>0.838504</td>\n",
              "      <td>0.769086</td>\n",
              "      <td>0.879310</td>\n",
              "      <td>00:18</td>\n",
              "    </tr>\n",
              "    <tr>\n",
              "      <td>10</td>\n",
              "      <td>0.818996</td>\n",
              "      <td>0.736207</td>\n",
              "      <td>0.896552</td>\n",
              "      <td>00:16</td>\n",
              "    </tr>\n",
              "    <tr>\n",
              "      <td>11</td>\n",
              "      <td>0.798226</td>\n",
              "      <td>0.772735</td>\n",
              "      <td>0.827586</td>\n",
              "      <td>00:16</td>\n",
              "    </tr>\n",
              "    <tr>\n",
              "      <td>12</td>\n",
              "      <td>0.775411</td>\n",
              "      <td>0.766860</td>\n",
              "      <td>0.827586</td>\n",
              "      <td>00:16</td>\n",
              "    </tr>\n",
              "    <tr>\n",
              "      <td>13</td>\n",
              "      <td>0.752717</td>\n",
              "      <td>0.759580</td>\n",
              "      <td>0.844828</td>\n",
              "      <td>00:16</td>\n",
              "    </tr>\n",
              "    <tr>\n",
              "      <td>14</td>\n",
              "      <td>0.731865</td>\n",
              "      <td>0.760346</td>\n",
              "      <td>0.827586</td>\n",
              "      <td>00:16</td>\n",
              "    </tr>\n",
              "    <tr>\n",
              "      <td>15</td>\n",
              "      <td>0.716000</td>\n",
              "      <td>0.757553</td>\n",
              "      <td>0.827586</td>\n",
              "      <td>00:16</td>\n",
              "    </tr>\n",
              "    <tr>\n",
              "      <td>16</td>\n",
              "      <td>0.702774</td>\n",
              "      <td>0.746148</td>\n",
              "      <td>0.827586</td>\n",
              "      <td>00:16</td>\n",
              "    </tr>\n",
              "    <tr>\n",
              "      <td>17</td>\n",
              "      <td>0.690017</td>\n",
              "      <td>0.746220</td>\n",
              "      <td>0.827586</td>\n",
              "      <td>00:16</td>\n",
              "    </tr>\n",
              "    <tr>\n",
              "      <td>18</td>\n",
              "      <td>0.677275</td>\n",
              "      <td>0.748730</td>\n",
              "      <td>0.827586</td>\n",
              "      <td>00:16</td>\n",
              "    </tr>\n",
              "    <tr>\n",
              "      <td>19</td>\n",
              "      <td>0.665525</td>\n",
              "      <td>0.750779</td>\n",
              "      <td>0.827586</td>\n",
              "      <td>00:16</td>\n",
              "    </tr>\n",
              "  </tbody>\n",
              "</table>"
            ]
          },
          "metadata": {}
        },
        {
          "output_type": "stream",
          "name": "stdout",
          "text": [
            "Better model found at epoch 0 with valid_loss value: 3.0967438220977783.\n",
            "Better model found at epoch 1 with valid_loss value: 2.458456516265869.\n",
            "Better model found at epoch 2 with valid_loss value: 1.7542784214019775.\n",
            "Better model found at epoch 4 with valid_loss value: 1.7037644386291504.\n",
            "Better model found at epoch 5 with valid_loss value: 1.6556146144866943.\n",
            "Better model found at epoch 6 with valid_loss value: 0.8757004737854004.\n",
            "Better model found at epoch 8 with valid_loss value: 0.757753849029541.\n",
            "Better model found at epoch 10 with valid_loss value: 0.7362073659896851.\n"
          ]
        }
      ]
    },
    {
      "cell_type": "markdown",
      "source": [
        "## Method 4 EEGInception"
      ],
      "metadata": {
        "id": "Coqqudkmpf5p"
      }
    },
    {
      "cell_type": "code",
      "source": [
        "def read_eeg(fn):\n",
        "    # include = [24, 27, 28, 29, 30, 54, 57, 58, 59 ,60] # only channels related to occipital\n",
        "    x= np.load(fn)\n",
        "    x = ss.transform(x)\n",
        "    return np.expand_dims(x, -1)\n",
        "    \n",
        "def EEGBlock():\n",
        "    return TransformBlock(type_tfms=read_eeg)"
      ],
      "metadata": {
        "id": "QVQVGWgdoGs5"
      },
      "execution_count": null,
      "outputs": []
    },
    {
      "cell_type": "code",
      "source": [
        "dblock = DataBlock(blocks=(EEGBlock, CategoryBlock),\n",
        "                   get_x=ColReader('fns'),\n",
        "                   get_y=ColReader('label'),\n",
        "                   splitter=ColSplitter())\n",
        "\n",
        "dls = dblock.dataloaders(df)"
      ],
      "metadata": {
        "id": "khIaqfq5pfYD"
      },
      "execution_count": null,
      "outputs": []
    },
    {
      "cell_type": "code",
      "source": [
        "model = EEGInception(61)   \n",
        "apply_init(model, nn.init.kaiming_normal_)"
      ],
      "metadata": {
        "id": "bsKOT4o2pjLe"
      },
      "execution_count": null,
      "outputs": []
    },
    {
      "cell_type": "code",
      "source": [
        "learn = Learner(dls, \n",
        "                model, \n",
        "                loss_func=LabelSmoothingCrossEntropyFlat(),\n",
        "                cbs=[GradientClip(),\n",
        "                    # EEGCallback(),\n",
        "                     SaveModelCallback(fname='eeginception_meth3')],\n",
        "                metrics=accuracy\n",
        "        ).to_fp16()"
      ],
      "metadata": {
        "id": "AERzIzQEplzf"
      },
      "execution_count": null,
      "outputs": []
    },
    {
      "cell_type": "code",
      "source": [
        "learn.fit_one_cycle(20, 1e-2)"
      ],
      "metadata": {
        "colab": {
          "base_uri": "https://localhost:8080/",
          "height": 954
        },
        "id": "USK1i2QXpnPM",
        "outputId": "67a81ead-d18f-46ec-c6df-db23ba203193"
      },
      "execution_count": null,
      "outputs": [
        {
          "output_type": "display_data",
          "data": {
            "text/plain": [
              "<IPython.core.display.HTML object>"
            ],
            "text/html": [
              "\n",
              "<style>\n",
              "    /* Turns off some styling */\n",
              "    progress {\n",
              "        /* gets rid of default border in Firefox and Opera. */\n",
              "        border: none;\n",
              "        /* Needs to be in here for Safari polyfill so background images work as expected. */\n",
              "        background-size: auto;\n",
              "    }\n",
              "    .progress-bar-interrupted, .progress-bar-interrupted::-webkit-progress-bar {\n",
              "        background: #F44336;\n",
              "    }\n",
              "</style>\n"
            ]
          },
          "metadata": {}
        },
        {
          "output_type": "display_data",
          "data": {
            "text/plain": [
              "<IPython.core.display.HTML object>"
            ],
            "text/html": [
              "<table border=\"1\" class=\"dataframe\">\n",
              "  <thead>\n",
              "    <tr style=\"text-align: left;\">\n",
              "      <th>epoch</th>\n",
              "      <th>train_loss</th>\n",
              "      <th>valid_loss</th>\n",
              "      <th>accuracy</th>\n",
              "      <th>time</th>\n",
              "    </tr>\n",
              "  </thead>\n",
              "  <tbody>\n",
              "    <tr>\n",
              "      <td>0</td>\n",
              "      <td>1.738346</td>\n",
              "      <td>4.672930</td>\n",
              "      <td>0.137931</td>\n",
              "      <td>00:45</td>\n",
              "    </tr>\n",
              "    <tr>\n",
              "      <td>1</td>\n",
              "      <td>1.469388</td>\n",
              "      <td>3.338705</td>\n",
              "      <td>0.500000</td>\n",
              "      <td>00:21</td>\n",
              "    </tr>\n",
              "    <tr>\n",
              "      <td>2</td>\n",
              "      <td>1.272768</td>\n",
              "      <td>1.978365</td>\n",
              "      <td>0.568965</td>\n",
              "      <td>00:21</td>\n",
              "    </tr>\n",
              "    <tr>\n",
              "      <td>3</td>\n",
              "      <td>1.138555</td>\n",
              "      <td>2.331358</td>\n",
              "      <td>0.568965</td>\n",
              "      <td>00:21</td>\n",
              "    </tr>\n",
              "    <tr>\n",
              "      <td>4</td>\n",
              "      <td>1.061482</td>\n",
              "      <td>1.022390</td>\n",
              "      <td>0.689655</td>\n",
              "      <td>00:21</td>\n",
              "    </tr>\n",
              "    <tr>\n",
              "      <td>5</td>\n",
              "      <td>1.006782</td>\n",
              "      <td>1.430091</td>\n",
              "      <td>0.672414</td>\n",
              "      <td>00:21</td>\n",
              "    </tr>\n",
              "    <tr>\n",
              "      <td>6</td>\n",
              "      <td>0.958861</td>\n",
              "      <td>0.938964</td>\n",
              "      <td>0.758621</td>\n",
              "      <td>00:21</td>\n",
              "    </tr>\n",
              "    <tr>\n",
              "      <td>7</td>\n",
              "      <td>0.910447</td>\n",
              "      <td>0.820292</td>\n",
              "      <td>0.827586</td>\n",
              "      <td>00:21</td>\n",
              "    </tr>\n",
              "    <tr>\n",
              "      <td>8</td>\n",
              "      <td>0.867615</td>\n",
              "      <td>0.808784</td>\n",
              "      <td>0.827586</td>\n",
              "      <td>00:21</td>\n",
              "    </tr>\n",
              "    <tr>\n",
              "      <td>9</td>\n",
              "      <td>0.826475</td>\n",
              "      <td>0.800829</td>\n",
              "      <td>0.810345</td>\n",
              "      <td>00:21</td>\n",
              "    </tr>\n",
              "    <tr>\n",
              "      <td>10</td>\n",
              "      <td>0.791858</td>\n",
              "      <td>0.795330</td>\n",
              "      <td>0.810345</td>\n",
              "      <td>00:21</td>\n",
              "    </tr>\n",
              "    <tr>\n",
              "      <td>11</td>\n",
              "      <td>0.757831</td>\n",
              "      <td>0.778349</td>\n",
              "      <td>0.810345</td>\n",
              "      <td>00:21</td>\n",
              "    </tr>\n",
              "    <tr>\n",
              "      <td>12</td>\n",
              "      <td>0.728732</td>\n",
              "      <td>0.778136</td>\n",
              "      <td>0.810345</td>\n",
              "      <td>00:21</td>\n",
              "    </tr>\n",
              "    <tr>\n",
              "      <td>13</td>\n",
              "      <td>0.701640</td>\n",
              "      <td>0.762367</td>\n",
              "      <td>0.827586</td>\n",
              "      <td>00:21</td>\n",
              "    </tr>\n",
              "    <tr>\n",
              "      <td>14</td>\n",
              "      <td>0.678565</td>\n",
              "      <td>0.750279</td>\n",
              "      <td>0.844828</td>\n",
              "      <td>00:21</td>\n",
              "    </tr>\n",
              "    <tr>\n",
              "      <td>15</td>\n",
              "      <td>0.658180</td>\n",
              "      <td>0.754740</td>\n",
              "      <td>0.844828</td>\n",
              "      <td>00:21</td>\n",
              "    </tr>\n",
              "    <tr>\n",
              "      <td>16</td>\n",
              "      <td>0.640062</td>\n",
              "      <td>0.750716</td>\n",
              "      <td>0.862069</td>\n",
              "      <td>00:21</td>\n",
              "    </tr>\n",
              "    <tr>\n",
              "      <td>17</td>\n",
              "      <td>0.622996</td>\n",
              "      <td>0.745332</td>\n",
              "      <td>0.862069</td>\n",
              "      <td>00:21</td>\n",
              "    </tr>\n",
              "    <tr>\n",
              "      <td>18</td>\n",
              "      <td>0.608717</td>\n",
              "      <td>0.742445</td>\n",
              "      <td>0.862069</td>\n",
              "      <td>00:21</td>\n",
              "    </tr>\n",
              "    <tr>\n",
              "      <td>19</td>\n",
              "      <td>0.595256</td>\n",
              "      <td>0.739768</td>\n",
              "      <td>0.862069</td>\n",
              "      <td>00:21</td>\n",
              "    </tr>\n",
              "  </tbody>\n",
              "</table>"
            ]
          },
          "metadata": {}
        },
        {
          "output_type": "stream",
          "name": "stdout",
          "text": [
            "Better model found at epoch 0 with valid_loss value: 4.672929763793945.\n",
            "Better model found at epoch 1 with valid_loss value: 3.338704824447632.\n",
            "Better model found at epoch 2 with valid_loss value: 1.9783648252487183.\n",
            "Better model found at epoch 4 with valid_loss value: 1.0223897695541382.\n",
            "Better model found at epoch 6 with valid_loss value: 0.9389635324478149.\n",
            "Better model found at epoch 7 with valid_loss value: 0.8202921152114868.\n",
            "Better model found at epoch 8 with valid_loss value: 0.8087839484214783.\n",
            "Better model found at epoch 9 with valid_loss value: 0.8008286952972412.\n",
            "Better model found at epoch 10 with valid_loss value: 0.7953299283981323.\n",
            "Better model found at epoch 11 with valid_loss value: 0.7783486843109131.\n",
            "Better model found at epoch 12 with valid_loss value: 0.7781359553337097.\n",
            "Better model found at epoch 13 with valid_loss value: 0.7623668909072876.\n",
            "Better model found at epoch 14 with valid_loss value: 0.7502792477607727.\n",
            "Better model found at epoch 17 with valid_loss value: 0.7453320622444153.\n",
            "Better model found at epoch 18 with valid_loss value: 0.742445170879364.\n",
            "Better model found at epoch 19 with valid_loss value: 0.7397677898406982.\n"
          ]
        }
      ]
    },
    {
      "cell_type": "code",
      "source": [
        "interp = ClassificationInterpretation.from_learner(learn)"
      ],
      "metadata": {
        "colab": {
          "base_uri": "https://localhost:8080/",
          "height": 17
        },
        "id": "R1VjtOmwppBf",
        "outputId": "86a4231a-9c40-4431-a8ab-f311143d2763"
      },
      "execution_count": null,
      "outputs": [
        {
          "output_type": "display_data",
          "data": {
            "text/plain": [
              "<IPython.core.display.HTML object>"
            ],
            "text/html": [
              "\n",
              "<style>\n",
              "    /* Turns off some styling */\n",
              "    progress {\n",
              "        /* gets rid of default border in Firefox and Opera. */\n",
              "        border: none;\n",
              "        /* Needs to be in here for Safari polyfill so background images work as expected. */\n",
              "        background-size: auto;\n",
              "    }\n",
              "    .progress-bar-interrupted, .progress-bar-interrupted::-webkit-progress-bar {\n",
              "        background: #F44336;\n",
              "    }\n",
              "</style>\n"
            ]
          },
          "metadata": {}
        },
        {
          "output_type": "display_data",
          "data": {
            "text/plain": [
              "<IPython.core.display.HTML object>"
            ],
            "text/html": [
              ""
            ]
          },
          "metadata": {}
        }
      ]
    },
    {
      "cell_type": "code",
      "source": [
        "interp.plot_confusion_matrix()"
      ],
      "metadata": {
        "colab": {
          "base_uri": "https://localhost:8080/",
          "height": 311
        },
        "id": "zaQsoALXrebu",
        "outputId": "e59ff053-18b8-4e35-c2c9-c87921c5caf0"
      },
      "execution_count": null,
      "outputs": [
        {
          "output_type": "display_data",
          "data": {
            "text/plain": [
              "<IPython.core.display.HTML object>"
            ],
            "text/html": [
              "\n",
              "<style>\n",
              "    /* Turns off some styling */\n",
              "    progress {\n",
              "        /* gets rid of default border in Firefox and Opera. */\n",
              "        border: none;\n",
              "        /* Needs to be in here for Safari polyfill so background images work as expected. */\n",
              "        background-size: auto;\n",
              "    }\n",
              "    .progress-bar-interrupted, .progress-bar-interrupted::-webkit-progress-bar {\n",
              "        background: #F44336;\n",
              "    }\n",
              "</style>\n"
            ]
          },
          "metadata": {}
        },
        {
          "output_type": "display_data",
          "data": {
            "text/plain": [
              "<IPython.core.display.HTML object>"
            ],
            "text/html": [
              ""
            ]
          },
          "metadata": {}
        },
        {
          "output_type": "display_data",
          "data": {
            "text/plain": [
              "<Figure size 432x288 with 1 Axes>"
            ],
            "image/png": "[encoded data removed]"
          },
          "metadata": {
            "needs_background": "light"
          }
        }
      ]
    },
    {
      "cell_type": "code",
      "source": [
        ""
      ],
      "metadata": {
        "id": "tmZVAEntrpmB"
      },
      "execution_count": null,
      "outputs": []
    },
    {
      "cell_type": "markdown",
      "source": [
        "# 3-label classification with 61 channels"
      ],
      "metadata": {
        "id": "pc5UPYmI8niP"
      }
    },
    {
      "cell_type": "code",
      "source": [
        "class InceptionBlock(nn.Module):\n",
        "    def __init__(self,\n",
        "        in_chs,\n",
        "        out_chs,\n",
        "        kernel_size,\n",
        "        dropout_rate,\n",
        "        activation,\n",
        "        depth_multiplier=2\n",
        "    ):\n",
        "        super().__init__()\n",
        "        \n",
        "        self.conv = nn.Conv2d(in_chs,\n",
        "                              out_chs,\n",
        "                              kernel_size=kernel_size,\n",
        "                              padding='same')\n",
        "\n",
        "        self.bn = nn.BatchNorm2d(out_chs)\n",
        "        self.act = activation()\n",
        "        self.dp = nn.Dropout2d(dropout_rate)\n",
        "        self.dconv = DepthwiseSeparableConv(in_chs=out_chs,\n",
        "                                            out_chs=out_chs*depth_multiplier)\n",
        "        self.bn2 = nn.BatchNorm2d(out_chs*depth_multiplier)\n",
        "        self.act2 = activation()\n",
        "        self.dp2 = nn.Dropout2d(dropout_rate)\n",
        "\n",
        "    def forward(self, x):\n",
        "\n",
        "        x = self.conv(x)\n",
        "        x = self.bn(x)\n",
        "        x = self.act(x)\n",
        "        x = self.dp(x)\n",
        "        x = self.dconv(x)\n",
        "        x = self.bn2(x)\n",
        "        x = self.act2(x)\n",
        "        x = self.dp2(x)\n",
        "\n",
        "        return x\n",
        "\n",
        "\n",
        "class EEGInception(nn.Module):\n",
        "    def __init__(self,\n",
        "        n_channels=61, # Num channels\n",
        "        input_time=5000, # Input time\n",
        "        fs=100,         # Frequence\n",
        "        scales_time=(500, 250, 125), \n",
        "        dropout_rate=0.25,\n",
        "        activation=nn.ELU,\n",
        "        num_filters=16, \n",
        "        n_classes=5,\n",
        "        block_depth_multiplier=2\n",
        "    ):\n",
        "\n",
        "        super().__init__()\n",
        "        self.scales_samples = [int(s * fs / 1000) for s in scales_time]\n",
        "        self.num_channels = n_channels\n",
        "        self.dropout_rate = dropout_rate\n",
        "\n",
        "        self.blocks1 = nn.ModuleList()\n",
        "        for i in range(len(scales_time)):\n",
        "            self.blocks1.append(InceptionBlock(\n",
        "                                        in_chs=self.num_channels,\n",
        "                                        out_chs=num_filters,\n",
        "                                        kernel_size=(scales_time[i], 1),\n",
        "                                        dropout_rate=self.dropout_rate,\n",
        "                                        activation=activation,\n",
        "                                        depth_multiplier=block_depth_multiplier\n",
        "                                    ))\n",
        "\n",
        "        self.avgpooling = nn.AvgPool2d(kernel_size=(4,1))\n",
        "\n",
        "        block2_nin = num_filters*block_depth_multiplier*3\n",
        "        self.blocks2 = nn.ModuleList()\n",
        "        for i in range(len(scales_time)):\n",
        "            self.blocks2.append(InceptionBlock(\n",
        "                                        in_chs=block2_nin,\n",
        "                                        out_chs=num_filters*2,\n",
        "                                        kernel_size=(scales_time[i], 1),\n",
        "                                        dropout_rate=self.dropout_rate,\n",
        "                                        activation=activation,\n",
        "                                        depth_multiplier=block_depth_multiplier\n",
        "                                    ))\n",
        "\n",
        "        self.avgpooling2 = nn.AvgPool2d(kernel_size=(4,1))\n",
        "\n",
        "        self.conv1 = nn.Conv2d(num_filters*2*block_depth_multiplier*3, \n",
        "                               int(num_filters*len(self.scales_samples)/2),\n",
        "                               kernel_size=(8, 1),\n",
        "                               padding='same')\n",
        "        self.bn1 = nn.BatchNorm2d(int(num_filters*len(self.scales_samples)/2))\n",
        "        self.act1 = nn.ELU()\n",
        "        self.avgpooling3 = nn.AvgPool2d(kernel_size=(8,1))\n",
        "        self.dp1 = nn.Dropout2d(dropout_rate)\n",
        "\n",
        "        self.conv2 = nn.Conv2d(int(num_filters*len(self.scales_samples)/2),\n",
        "                               int(num_filters*len(self.scales_samples)/4),\n",
        "                              kernel_size=(4, 1),\n",
        "                              padding='same')\n",
        "        self.bn2 = nn.BatchNorm2d(int(num_filters*len(self.scales_samples)/4))\n",
        "        self.act2 = nn.ELU()\n",
        "        self.avgpooling4 = nn.AvgPool2d(kernel_size=(2,1))\n",
        "        self.dp2 = nn.Dropout2d(dropout_rate)\n",
        "\n",
        "        self.flatten = nn.Flatten()\n",
        "        self.final = nn.Linear(228, 5)\n",
        "\n",
        "\n",
        "    def forward(self, x):\n",
        "        \n",
        "        block1_outs = []\n",
        "        for block in self.blocks1:\n",
        "            block1_outs.append(block(x))\n",
        "        x = torch.cat(block1_outs, 1)\n",
        "        x = self.avgpooling(x)\n",
        "\n",
        "        block2_outs = []\n",
        "        for block in self.blocks2:\n",
        "            block2_outs.append(block(x))\n",
        "        x = torch.cat(block2_outs, 1)\n",
        "        x = self.avgpooling2(x)\n",
        "        \n",
        "        x = self.conv1(x)\n",
        "        x = self.bn1(x)\n",
        "        x = self.act1(x)\n",
        "        x = self.avgpooling3(x)\n",
        "        x = self.dp1(x)\n",
        "        \n",
        "        x = self.conv2(x)\n",
        "        x = self.bn2(x)\n",
        "        x = self.act2(x)\n",
        "        x = self.avgpooling4(x)\n",
        "        x = self.dp2(x)\n",
        "\n",
        "        x = self.flatten(x)\n",
        "        x = self.final(x)\n",
        "        return x"
      ],
      "metadata": {
        "id": "qlP8CKW78r6c"
      },
      "execution_count": 19,
      "outputs": []
    },
    {
      "cell_type": "code",
      "source": [
        "def read_eeg(fn):\n",
        "    x= np.load(fn)\n",
        "    x = ss.transform(x)\n",
        "    return np.expand_dims(x, -1)\n",
        "    \n",
        "def EEGBlock():\n",
        "    return TransformBlock(type_tfms=read_eeg)"
      ],
      "metadata": {
        "id": "J3Ysso6_8yAV"
      },
      "execution_count": 20,
      "outputs": []
    },
    {
      "cell_type": "code",
      "source": [
        "df = pd.read_csv('approach2infos.csv')\n",
        "df = df[df['label'].isin(['task-mathematic', 'task-memory', 'task-music'])]"
      ],
      "metadata": {
        "id": "y6nsFReR9P9f"
      },
      "execution_count": 21,
      "outputs": []
    },
    {
      "cell_type": "code",
      "source": [
        "dblock = DataBlock(blocks=(EEGBlock, CategoryBlock),\n",
        "                   get_x=ColReader('fns'),\n",
        "                   get_y=ColReader('label'),\n",
        "                   splitter=ColSplitter())\n",
        "\n",
        "dls = dblock.dataloaders(df)"
      ],
      "metadata": {
        "id": "NlkKqBzs9FHI"
      },
      "execution_count": 22,
      "outputs": []
    },
    {
      "cell_type": "code",
      "source": [
        "model = EEGInception(61)   \n",
        "apply_init(model, nn.init.kaiming_normal_)"
      ],
      "metadata": {
        "id": "yPRIEUVd9eRe"
      },
      "execution_count": 23,
      "outputs": []
    },
    {
      "cell_type": "code",
      "source": [
        "learn = Learner(dls, \n",
        "                model, \n",
        "                loss_func=LabelSmoothingCrossEntropyFlat(),\n",
        "                cbs=[GradientClip(),\n",
        "                    # EEGCallback(),\n",
        "                     SaveModelCallback(fname='chrononet')],\n",
        "                metrics=accuracy\n",
        "        ).to_fp16()"
      ],
      "metadata": {
        "id": "jsRJi51b9ivX"
      },
      "execution_count": 24,
      "outputs": []
    },
    {
      "cell_type": "code",
      "source": [
        "learn.fit_one_cycle(20, 1e-2)"
      ],
      "metadata": {
        "colab": {
          "base_uri": "https://localhost:8080/",
          "height": 769
        },
        "id": "T8jCRjlt9pRr",
        "outputId": "c025c11e-830c-428b-ca5d-38e10a89d06b"
      },
      "execution_count": 25,
      "outputs": [
        {
          "output_type": "display_data",
          "data": {
            "text/plain": [
              "<IPython.core.display.HTML object>"
            ],
            "text/html": [
              "\n",
              "<style>\n",
              "    /* Turns off some styling */\n",
              "    progress {\n",
              "        /* gets rid of default border in Firefox and Opera. */\n",
              "        border: none;\n",
              "        /* Needs to be in here for Safari polyfill so background images work as expected. */\n",
              "        background-size: auto;\n",
              "    }\n",
              "    .progress-bar-interrupted, .progress-bar-interrupted::-webkit-progress-bar {\n",
              "        background: #F44336;\n",
              "    }\n",
              "</style>\n"
            ]
          },
          "metadata": {}
        },
        {
          "output_type": "display_data",
          "data": {
            "text/plain": [
              "<IPython.core.display.HTML object>"
            ],
            "text/html": [
              "<table border=\"1\" class=\"dataframe\">\n",
              "  <thead>\n",
              "    <tr style=\"text-align: left;\">\n",
              "      <th>epoch</th>\n",
              "      <th>train_loss</th>\n",
              "      <th>valid_loss</th>\n",
              "      <th>accuracy</th>\n",
              "      <th>time</th>\n",
              "    </tr>\n",
              "  </thead>\n",
              "  <tbody>\n",
              "    <tr>\n",
              "      <td>0</td>\n",
              "      <td>2.059711</td>\n",
              "      <td>1.663051</td>\n",
              "      <td>0.314607</td>\n",
              "      <td>00:58</td>\n",
              "    </tr>\n",
              "    <tr>\n",
              "      <td>1</td>\n",
              "      <td>1.775550</td>\n",
              "      <td>1.746086</td>\n",
              "      <td>0.303371</td>\n",
              "      <td>00:31</td>\n",
              "    </tr>\n",
              "    <tr>\n",
              "      <td>2</td>\n",
              "      <td>1.606494</td>\n",
              "      <td>1.411218</td>\n",
              "      <td>0.370787</td>\n",
              "      <td>00:32</td>\n",
              "    </tr>\n",
              "    <tr>\n",
              "      <td>3</td>\n",
              "      <td>1.509845</td>\n",
              "      <td>1.424827</td>\n",
              "      <td>0.370787</td>\n",
              "      <td>00:32</td>\n",
              "    </tr>\n",
              "    <tr>\n",
              "      <td>4</td>\n",
              "      <td>1.445880</td>\n",
              "      <td>1.444121</td>\n",
              "      <td>0.370787</td>\n",
              "      <td>00:31</td>\n",
              "    </tr>\n",
              "    <tr>\n",
              "      <td>5</td>\n",
              "      <td>1.388424</td>\n",
              "      <td>1.551056</td>\n",
              "      <td>0.370787</td>\n",
              "      <td>00:31</td>\n",
              "    </tr>\n",
              "    <tr>\n",
              "      <td>6</td>\n",
              "      <td>1.341369</td>\n",
              "      <td>1.413678</td>\n",
              "      <td>0.382022</td>\n",
              "      <td>00:31</td>\n",
              "    </tr>\n",
              "    <tr>\n",
              "      <td>7</td>\n",
              "      <td>1.273926</td>\n",
              "      <td>1.515151</td>\n",
              "      <td>0.325843</td>\n",
              "      <td>00:31</td>\n",
              "    </tr>\n",
              "    <tr>\n",
              "      <td>8</td>\n",
              "      <td>1.197322</td>\n",
              "      <td>1.700479</td>\n",
              "      <td>0.314607</td>\n",
              "      <td>00:31</td>\n",
              "    </tr>\n",
              "    <tr>\n",
              "      <td>9</td>\n",
              "      <td>1.120433</td>\n",
              "      <td>1.988908</td>\n",
              "      <td>0.224719</td>\n",
              "      <td>00:31</td>\n",
              "    </tr>\n",
              "    <tr>\n",
              "      <td>10</td>\n",
              "      <td>1.043904</td>\n",
              "      <td>1.943494</td>\n",
              "      <td>0.280899</td>\n",
              "      <td>00:31</td>\n",
              "    </tr>\n",
              "    <tr>\n",
              "      <td>11</td>\n",
              "      <td>0.974453</td>\n",
              "      <td>2.054361</td>\n",
              "      <td>0.292135</td>\n",
              "      <td>00:31</td>\n",
              "    </tr>\n",
              "    <tr>\n",
              "      <td>12</td>\n",
              "      <td>0.913490</td>\n",
              "      <td>2.075231</td>\n",
              "      <td>0.303371</td>\n",
              "      <td>00:31</td>\n",
              "    </tr>\n",
              "    <tr>\n",
              "      <td>13</td>\n",
              "      <td>0.856763</td>\n",
              "      <td>1.984235</td>\n",
              "      <td>0.292135</td>\n",
              "      <td>00:31</td>\n",
              "    </tr>\n",
              "    <tr>\n",
              "      <td>14</td>\n",
              "      <td>0.805340</td>\n",
              "      <td>1.939423</td>\n",
              "      <td>0.314607</td>\n",
              "      <td>00:30</td>\n",
              "    </tr>\n",
              "    <tr>\n",
              "      <td>15</td>\n",
              "      <td>0.763549</td>\n",
              "      <td>1.909520</td>\n",
              "      <td>0.303371</td>\n",
              "      <td>00:30</td>\n",
              "    </tr>\n",
              "    <tr>\n",
              "      <td>16</td>\n",
              "      <td>0.727882</td>\n",
              "      <td>1.893558</td>\n",
              "      <td>0.325843</td>\n",
              "      <td>00:31</td>\n",
              "    </tr>\n",
              "    <tr>\n",
              "      <td>17</td>\n",
              "      <td>0.697696</td>\n",
              "      <td>1.897874</td>\n",
              "      <td>0.325843</td>\n",
              "      <td>00:31</td>\n",
              "    </tr>\n",
              "    <tr>\n",
              "      <td>18</td>\n",
              "      <td>0.670694</td>\n",
              "      <td>1.887291</td>\n",
              "      <td>0.314607</td>\n",
              "      <td>00:30</td>\n",
              "    </tr>\n",
              "    <tr>\n",
              "      <td>19</td>\n",
              "      <td>0.648041</td>\n",
              "      <td>1.885749</td>\n",
              "      <td>0.314607</td>\n",
              "      <td>00:30</td>\n",
              "    </tr>\n",
              "  </tbody>\n",
              "</table>"
            ]
          },
          "metadata": {}
        },
        {
          "output_type": "stream",
          "name": "stderr",
          "text": [
            "/usr/local/lib/python3.7/dist-packages/torch/nn/modules/conv.py:443: UserWarning: Using padding='same' with even kernel lengths and odd dilation may require a zero-padded copy of the input be created (Triggered internally at  ../aten/src/ATen/native/Convolution.cpp:647.)\n",
            "  self.padding, self.dilation, self.groups)\n"
          ]
        },
        {
          "output_type": "stream",
          "name": "stdout",
          "text": [
            "Better model found at epoch 0 with valid_loss value: 1.6630511283874512.\n",
            "Better model found at epoch 2 with valid_loss value: 1.4112181663513184.\n"
          ]
        }
      ]
    },
    {
      "cell_type": "code",
      "source": [
        "interp = ClassificationInterpretation.from_learner(learn)\n",
        "interp.plot_confusion_matrix()"
      ],
      "metadata": {
        "colab": {
          "base_uri": "https://localhost:8080/",
          "height": 311
        },
        "id": "-u-R6sk69uaC",
        "outputId": "466cd2a8-834a-47dd-eb92-b33039ea7777"
      },
      "execution_count": 26,
      "outputs": [
        {
          "output_type": "display_data",
          "data": {
            "text/plain": [
              "<IPython.core.display.HTML object>"
            ],
            "text/html": [
              "\n",
              "<style>\n",
              "    /* Turns off some styling */\n",
              "    progress {\n",
              "        /* gets rid of default border in Firefox and Opera. */\n",
              "        border: none;\n",
              "        /* Needs to be in here for Safari polyfill so background images work as expected. */\n",
              "        background-size: auto;\n",
              "    }\n",
              "    .progress-bar-interrupted, .progress-bar-interrupted::-webkit-progress-bar {\n",
              "        background: #F44336;\n",
              "    }\n",
              "</style>\n"
            ]
          },
          "metadata": {}
        },
        {
          "output_type": "display_data",
          "data": {
            "text/plain": [
              "<IPython.core.display.HTML object>"
            ],
            "text/html": [
              ""
            ]
          },
          "metadata": {}
        },
        {
          "output_type": "display_data",
          "data": {
            "text/plain": [
              "<IPython.core.display.HTML object>"
            ],
            "text/html": [
              "\n",
              "<style>\n",
              "    /* Turns off some styling */\n",
              "    progress {\n",
              "        /* gets rid of default border in Firefox and Opera. */\n",
              "        border: none;\n",
              "        /* Needs to be in here for Safari polyfill so background images work as expected. */\n",
              "        background-size: auto;\n",
              "    }\n",
              "    .progress-bar-interrupted, .progress-bar-interrupted::-webkit-progress-bar {\n",
              "        background: #F44336;\n",
              "    }\n",
              "</style>\n"
            ]
          },
          "metadata": {}
        },
        {
          "output_type": "display_data",
          "data": {
            "text/plain": [
              "<IPython.core.display.HTML object>"
            ],
            "text/html": [
              ""
            ]
          },
          "metadata": {}
        },
        {
          "output_type": "display_data",
          "data": {
            "text/plain": [
              "<Figure size 432x288 with 1 Axes>"
            ],
            "image/png": "[encoded data removed]"
          },
          "metadata": {
            "needs_background": "light"
          }
        }
      ]
    },
    {
      "cell_type": "markdown",
      "source": [
        "# 2-label classification"
      ],
      "metadata": {
        "id": "2xm0VEzc98GI"
      }
    },
    {
      "cell_type": "markdown",
      "source": [
        "## eyes-open vs mathematics"
      ],
      "metadata": {
        "id": "2sDN-atz9_pw"
      }
    },
    {
      "cell_type": "code",
      "source": [
        "df = pd.read_csv('approach2infos.csv')\n",
        "df = df[df['label'].isin(['task-eyes open', 'task-mathematic'])]\n",
        "dblock = DataBlock(blocks=(EEGBlock, CategoryBlock),\n",
        "                   get_x=ColReader('fns'),\n",
        "                   get_y=ColReader('label'),\n",
        "                   splitter=ColSplitter())\n",
        "\n",
        "dls = dblock.dataloaders(df)\n",
        "model = EEGInception(61)   \n",
        "apply_init(model, nn.init.kaiming_normal_)\n",
        "learn = Learner(dls, \n",
        "                model, \n",
        "                loss_func=LabelSmoothingCrossEntropyFlat(),\n",
        "                cbs=[GradientClip(),\n",
        "                    # EEGCallback(),\n",
        "                     SaveModelCallback(fname='chrononet')],\n",
        "                metrics=accuracy\n",
        "        ).to_fp16()"
      ],
      "metadata": {
        "id": "tBwTS5El-HcH"
      },
      "execution_count": 38,
      "outputs": []
    },
    {
      "cell_type": "code",
      "source": [
        "learn.fit_one_cycle(20, 1e-2)"
      ],
      "metadata": {
        "colab": {
          "base_uri": "https://localhost:8080/",
          "height": 840
        },
        "id": "YR0Y4G1WAss6",
        "outputId": "fc5c827f-36b6-425e-cc00-f0e9c926ecb4"
      },
      "execution_count": 39,
      "outputs": [
        {
          "output_type": "display_data",
          "data": {
            "text/plain": [
              "<IPython.core.display.HTML object>"
            ],
            "text/html": [
              "\n",
              "<style>\n",
              "    /* Turns off some styling */\n",
              "    progress {\n",
              "        /* gets rid of default border in Firefox and Opera. */\n",
              "        border: none;\n",
              "        /* Needs to be in here for Safari polyfill so background images work as expected. */\n",
              "        background-size: auto;\n",
              "    }\n",
              "    .progress-bar-interrupted, .progress-bar-interrupted::-webkit-progress-bar {\n",
              "        background: #F44336;\n",
              "    }\n",
              "</style>\n"
            ]
          },
          "metadata": {}
        },
        {
          "output_type": "display_data",
          "data": {
            "text/plain": [
              "<IPython.core.display.HTML object>"
            ],
            "text/html": [
              "<table border=\"1\" class=\"dataframe\">\n",
              "  <thead>\n",
              "    <tr style=\"text-align: left;\">\n",
              "      <th>epoch</th>\n",
              "      <th>train_loss</th>\n",
              "      <th>valid_loss</th>\n",
              "      <th>accuracy</th>\n",
              "      <th>time</th>\n",
              "    </tr>\n",
              "  </thead>\n",
              "  <tbody>\n",
              "    <tr>\n",
              "      <td>0</td>\n",
              "      <td>1.858983</td>\n",
              "      <td>5.386378</td>\n",
              "      <td>0.050847</td>\n",
              "      <td>00:21</td>\n",
              "    </tr>\n",
              "    <tr>\n",
              "      <td>1</td>\n",
              "      <td>1.535392</td>\n",
              "      <td>5.037878</td>\n",
              "      <td>0.067797</td>\n",
              "      <td>00:20</td>\n",
              "    </tr>\n",
              "    <tr>\n",
              "      <td>2</td>\n",
              "      <td>1.298733</td>\n",
              "      <td>4.984995</td>\n",
              "      <td>0.508475</td>\n",
              "      <td>00:20</td>\n",
              "    </tr>\n",
              "    <tr>\n",
              "      <td>3</td>\n",
              "      <td>1.179129</td>\n",
              "      <td>2.505521</td>\n",
              "      <td>0.576271</td>\n",
              "      <td>00:21</td>\n",
              "    </tr>\n",
              "    <tr>\n",
              "      <td>4</td>\n",
              "      <td>1.092449</td>\n",
              "      <td>1.537899</td>\n",
              "      <td>0.542373</td>\n",
              "      <td>00:22</td>\n",
              "    </tr>\n",
              "    <tr>\n",
              "      <td>5</td>\n",
              "      <td>1.021349</td>\n",
              "      <td>1.193963</td>\n",
              "      <td>0.661017</td>\n",
              "      <td>00:21</td>\n",
              "    </tr>\n",
              "    <tr>\n",
              "      <td>6</td>\n",
              "      <td>0.973747</td>\n",
              "      <td>1.003391</td>\n",
              "      <td>0.711864</td>\n",
              "      <td>00:22</td>\n",
              "    </tr>\n",
              "    <tr>\n",
              "      <td>7</td>\n",
              "      <td>0.937718</td>\n",
              "      <td>0.967126</td>\n",
              "      <td>0.813559</td>\n",
              "      <td>00:23</td>\n",
              "    </tr>\n",
              "    <tr>\n",
              "      <td>8</td>\n",
              "      <td>0.895697</td>\n",
              "      <td>0.729126</td>\n",
              "      <td>0.881356</td>\n",
              "      <td>00:22</td>\n",
              "    </tr>\n",
              "    <tr>\n",
              "      <td>9</td>\n",
              "      <td>0.861687</td>\n",
              "      <td>0.759288</td>\n",
              "      <td>0.881356</td>\n",
              "      <td>00:21</td>\n",
              "    </tr>\n",
              "    <tr>\n",
              "      <td>10</td>\n",
              "      <td>0.827388</td>\n",
              "      <td>0.852280</td>\n",
              "      <td>0.830508</td>\n",
              "      <td>00:21</td>\n",
              "    </tr>\n",
              "    <tr>\n",
              "      <td>11</td>\n",
              "      <td>0.789309</td>\n",
              "      <td>0.872999</td>\n",
              "      <td>0.830508</td>\n",
              "      <td>00:20</td>\n",
              "    </tr>\n",
              "    <tr>\n",
              "      <td>12</td>\n",
              "      <td>0.759016</td>\n",
              "      <td>0.859426</td>\n",
              "      <td>0.762712</td>\n",
              "      <td>00:21</td>\n",
              "    </tr>\n",
              "    <tr>\n",
              "      <td>13</td>\n",
              "      <td>0.730249</td>\n",
              "      <td>0.862260</td>\n",
              "      <td>0.796610</td>\n",
              "      <td>00:20</td>\n",
              "    </tr>\n",
              "    <tr>\n",
              "      <td>14</td>\n",
              "      <td>0.706677</td>\n",
              "      <td>0.860269</td>\n",
              "      <td>0.796610</td>\n",
              "      <td>00:20</td>\n",
              "    </tr>\n",
              "    <tr>\n",
              "      <td>15</td>\n",
              "      <td>0.684868</td>\n",
              "      <td>0.858997</td>\n",
              "      <td>0.830508</td>\n",
              "      <td>00:20</td>\n",
              "    </tr>\n",
              "    <tr>\n",
              "      <td>16</td>\n",
              "      <td>0.663460</td>\n",
              "      <td>0.862549</td>\n",
              "      <td>0.796610</td>\n",
              "      <td>00:20</td>\n",
              "    </tr>\n",
              "    <tr>\n",
              "      <td>17</td>\n",
              "      <td>0.645386</td>\n",
              "      <td>0.862066</td>\n",
              "      <td>0.796610</td>\n",
              "      <td>00:20</td>\n",
              "    </tr>\n",
              "    <tr>\n",
              "      <td>18</td>\n",
              "      <td>0.627787</td>\n",
              "      <td>0.852008</td>\n",
              "      <td>0.813559</td>\n",
              "      <td>00:20</td>\n",
              "    </tr>\n",
              "    <tr>\n",
              "      <td>19</td>\n",
              "      <td>0.613930</td>\n",
              "      <td>0.851040</td>\n",
              "      <td>0.813559</td>\n",
              "      <td>00:21</td>\n",
              "    </tr>\n",
              "  </tbody>\n",
              "</table>"
            ]
          },
          "metadata": {}
        },
        {
          "output_type": "stream",
          "name": "stdout",
          "text": [
            "Better model found at epoch 0 with valid_loss value: 5.386377811431885.\n",
            "Better model found at epoch 1 with valid_loss value: 5.037877559661865.\n",
            "Better model found at epoch 2 with valid_loss value: 4.984995365142822.\n",
            "Better model found at epoch 3 with valid_loss value: 2.505521297454834.\n",
            "Better model found at epoch 4 with valid_loss value: 1.5378994941711426.\n",
            "Better model found at epoch 5 with valid_loss value: 1.1939626932144165.\n",
            "Better model found at epoch 6 with valid_loss value: 1.003390908241272.\n",
            "Better model found at epoch 7 with valid_loss value: 0.9671261310577393.\n",
            "Better model found at epoch 8 with valid_loss value: 0.7291259765625.\n"
          ]
        }
      ]
    },
    {
      "cell_type": "code",
      "source": [
        "interp = ClassificationInterpretation.from_learner(learn)\n",
        "interp.plot_confusion_matrix()"
      ],
      "metadata": {
        "colab": {
          "base_uri": "https://localhost:8080/",
          "height": 311
        },
        "id": "lAbA3LuwDN8D",
        "outputId": "4838374b-9c5a-4cd6-a322-3733b1ff9c8d"
      },
      "execution_count": 40,
      "outputs": [
        {
          "output_type": "display_data",
          "data": {
            "text/plain": [
              "<IPython.core.display.HTML object>"
            ],
            "text/html": [
              "\n",
              "<style>\n",
              "    /* Turns off some styling */\n",
              "    progress {\n",
              "        /* gets rid of default border in Firefox and Opera. */\n",
              "        border: none;\n",
              "        /* Needs to be in here for Safari polyfill so background images work as expected. */\n",
              "        background-size: auto;\n",
              "    }\n",
              "    .progress-bar-interrupted, .progress-bar-interrupted::-webkit-progress-bar {\n",
              "        background: #F44336;\n",
              "    }\n",
              "</style>\n"
            ]
          },
          "metadata": {}
        },
        {
          "output_type": "display_data",
          "data": {
            "text/plain": [
              "<IPython.core.display.HTML object>"
            ],
            "text/html": [
              ""
            ]
          },
          "metadata": {}
        },
        {
          "output_type": "display_data",
          "data": {
            "text/plain": [
              "<IPython.core.display.HTML object>"
            ],
            "text/html": [
              "\n",
              "<style>\n",
              "    /* Turns off some styling */\n",
              "    progress {\n",
              "        /* gets rid of default border in Firefox and Opera. */\n",
              "        border: none;\n",
              "        /* Needs to be in here for Safari polyfill so background images work as expected. */\n",
              "        background-size: auto;\n",
              "    }\n",
              "    .progress-bar-interrupted, .progress-bar-interrupted::-webkit-progress-bar {\n",
              "        background: #F44336;\n",
              "    }\n",
              "</style>\n"
            ]
          },
          "metadata": {}
        },
        {
          "output_type": "display_data",
          "data": {
            "text/plain": [
              "<IPython.core.display.HTML object>"
            ],
            "text/html": [
              ""
            ]
          },
          "metadata": {}
        },
        {
          "output_type": "display_data",
          "data": {
            "text/plain": [
              "<Figure size 432x288 with 1 Axes>"
            ],
            "image/png": "[encoded data removed]"
          },
          "metadata": {
            "needs_background": "light"
          }
        }
      ]
    },
    {
      "cell_type": "markdown",
      "source": [
        "## eyes-open vs memory"
      ],
      "metadata": {
        "id": "-ZaLNp1YCjJC"
      }
    },
    {
      "cell_type": "code",
      "source": [
        "df = pd.read_csv('approach2infos.csv')\n",
        "df = df[df['label'].isin(['task-eyes open', 'task-memory'])]\n",
        "dblock = DataBlock(blocks=(EEGBlock, CategoryBlock),\n",
        "                   get_x=ColReader('fns'),\n",
        "                   get_y=ColReader('label'),\n",
        "                   splitter=ColSplitter())\n",
        "\n",
        "dls = dblock.dataloaders(df)\n",
        "model = EEGInception(61)   \n",
        "apply_init(model, nn.init.kaiming_normal_)\n",
        "learn = Learner(dls, \n",
        "                model, \n",
        "                loss_func=LabelSmoothingCrossEntropyFlat(),\n",
        "                cbs=[GradientClip(),\n",
        "                    # EEGCallback(),\n",
        "                     SaveModelCallback(fname='chrononet')],\n",
        "                metrics=accuracy\n",
        "        ).to_fp16()"
      ],
      "metadata": {
        "id": "jAY9hLp2AueS"
      },
      "execution_count": 30,
      "outputs": []
    },
    {
      "cell_type": "code",
      "source": [
        "learn.fit_one_cycle(20, 1e-2)"
      ],
      "metadata": {
        "colab": {
          "base_uri": "https://localhost:8080/",
          "height": 822
        },
        "id": "mUSG0KwvC3f8",
        "outputId": "12e8b53e-f5b5-4e55-e2d3-2359e12afdbd"
      },
      "execution_count": 31,
      "outputs": [
        {
          "output_type": "display_data",
          "data": {
            "text/plain": [
              "<IPython.core.display.HTML object>"
            ],
            "text/html": [
              "\n",
              "<style>\n",
              "    /* Turns off some styling */\n",
              "    progress {\n",
              "        /* gets rid of default border in Firefox and Opera. */\n",
              "        border: none;\n",
              "        /* Needs to be in here for Safari polyfill so background images work as expected. */\n",
              "        background-size: auto;\n",
              "    }\n",
              "    .progress-bar-interrupted, .progress-bar-interrupted::-webkit-progress-bar {\n",
              "        background: #F44336;\n",
              "    }\n",
              "</style>\n"
            ]
          },
          "metadata": {}
        },
        {
          "output_type": "display_data",
          "data": {
            "text/plain": [
              "<IPython.core.display.HTML object>"
            ],
            "text/html": [
              "<table border=\"1\" class=\"dataframe\">\n",
              "  <thead>\n",
              "    <tr style=\"text-align: left;\">\n",
              "      <th>epoch</th>\n",
              "      <th>train_loss</th>\n",
              "      <th>valid_loss</th>\n",
              "      <th>accuracy</th>\n",
              "      <th>time</th>\n",
              "    </tr>\n",
              "  </thead>\n",
              "  <tbody>\n",
              "    <tr>\n",
              "      <td>0</td>\n",
              "      <td>1.618085</td>\n",
              "      <td>5.467658</td>\n",
              "      <td>0.508475</td>\n",
              "      <td>00:32</td>\n",
              "    </tr>\n",
              "    <tr>\n",
              "      <td>1</td>\n",
              "      <td>1.381185</td>\n",
              "      <td>5.887333</td>\n",
              "      <td>0.508475</td>\n",
              "      <td>00:20</td>\n",
              "    </tr>\n",
              "    <tr>\n",
              "      <td>2</td>\n",
              "      <td>1.209852</td>\n",
              "      <td>3.994577</td>\n",
              "      <td>0.542373</td>\n",
              "      <td>00:20</td>\n",
              "    </tr>\n",
              "    <tr>\n",
              "      <td>3</td>\n",
              "      <td>1.102028</td>\n",
              "      <td>2.900133</td>\n",
              "      <td>0.559322</td>\n",
              "      <td>00:20</td>\n",
              "    </tr>\n",
              "    <tr>\n",
              "      <td>4</td>\n",
              "      <td>1.017667</td>\n",
              "      <td>2.394521</td>\n",
              "      <td>0.559322</td>\n",
              "      <td>00:20</td>\n",
              "    </tr>\n",
              "    <tr>\n",
              "      <td>5</td>\n",
              "      <td>0.964918</td>\n",
              "      <td>1.703717</td>\n",
              "      <td>0.610169</td>\n",
              "      <td>00:20</td>\n",
              "    </tr>\n",
              "    <tr>\n",
              "      <td>6</td>\n",
              "      <td>0.920755</td>\n",
              "      <td>1.115254</td>\n",
              "      <td>0.711864</td>\n",
              "      <td>00:22</td>\n",
              "    </tr>\n",
              "    <tr>\n",
              "      <td>7</td>\n",
              "      <td>0.877245</td>\n",
              "      <td>1.132678</td>\n",
              "      <td>0.762712</td>\n",
              "      <td>00:20</td>\n",
              "    </tr>\n",
              "    <tr>\n",
              "      <td>8</td>\n",
              "      <td>0.848860</td>\n",
              "      <td>1.093619</td>\n",
              "      <td>0.830508</td>\n",
              "      <td>00:20</td>\n",
              "    </tr>\n",
              "    <tr>\n",
              "      <td>9</td>\n",
              "      <td>0.817148</td>\n",
              "      <td>1.036397</td>\n",
              "      <td>0.813559</td>\n",
              "      <td>00:20</td>\n",
              "    </tr>\n",
              "    <tr>\n",
              "      <td>10</td>\n",
              "      <td>0.789351</td>\n",
              "      <td>1.159986</td>\n",
              "      <td>0.728814</td>\n",
              "      <td>00:20</td>\n",
              "    </tr>\n",
              "    <tr>\n",
              "      <td>11</td>\n",
              "      <td>0.762824</td>\n",
              "      <td>1.137892</td>\n",
              "      <td>0.779661</td>\n",
              "      <td>00:20</td>\n",
              "    </tr>\n",
              "    <tr>\n",
              "      <td>12</td>\n",
              "      <td>0.732407</td>\n",
              "      <td>1.125722</td>\n",
              "      <td>0.762712</td>\n",
              "      <td>00:20</td>\n",
              "    </tr>\n",
              "    <tr>\n",
              "      <td>13</td>\n",
              "      <td>0.706601</td>\n",
              "      <td>1.115782</td>\n",
              "      <td>0.762712</td>\n",
              "      <td>00:20</td>\n",
              "    </tr>\n",
              "    <tr>\n",
              "      <td>14</td>\n",
              "      <td>0.685235</td>\n",
              "      <td>1.088997</td>\n",
              "      <td>0.779661</td>\n",
              "      <td>00:20</td>\n",
              "    </tr>\n",
              "    <tr>\n",
              "      <td>15</td>\n",
              "      <td>0.666726</td>\n",
              "      <td>1.076726</td>\n",
              "      <td>0.779661</td>\n",
              "      <td>00:20</td>\n",
              "    </tr>\n",
              "    <tr>\n",
              "      <td>16</td>\n",
              "      <td>0.646360</td>\n",
              "      <td>1.079056</td>\n",
              "      <td>0.762712</td>\n",
              "      <td>00:20</td>\n",
              "    </tr>\n",
              "    <tr>\n",
              "      <td>17</td>\n",
              "      <td>0.628512</td>\n",
              "      <td>1.091380</td>\n",
              "      <td>0.762712</td>\n",
              "      <td>00:20</td>\n",
              "    </tr>\n",
              "    <tr>\n",
              "      <td>18</td>\n",
              "      <td>0.613085</td>\n",
              "      <td>1.089534</td>\n",
              "      <td>0.762712</td>\n",
              "      <td>00:20</td>\n",
              "    </tr>\n",
              "    <tr>\n",
              "      <td>19</td>\n",
              "      <td>0.599695</td>\n",
              "      <td>1.084117</td>\n",
              "      <td>0.762712</td>\n",
              "      <td>00:20</td>\n",
              "    </tr>\n",
              "  </tbody>\n",
              "</table>"
            ]
          },
          "metadata": {}
        },
        {
          "output_type": "stream",
          "name": "stdout",
          "text": [
            "Better model found at epoch 0 with valid_loss value: 5.467657566070557.\n",
            "Better model found at epoch 2 with valid_loss value: 3.994576930999756.\n",
            "Better model found at epoch 3 with valid_loss value: 2.9001331329345703.\n",
            "Better model found at epoch 4 with valid_loss value: 2.3945207595825195.\n",
            "Better model found at epoch 5 with valid_loss value: 1.703716516494751.\n",
            "Better model found at epoch 6 with valid_loss value: 1.1152538061141968.\n",
            "Better model found at epoch 8 with valid_loss value: 1.0936192274093628.\n",
            "Better model found at epoch 9 with valid_loss value: 1.0363969802856445.\n"
          ]
        }
      ]
    },
    {
      "cell_type": "code",
      "source": [
        "interp = ClassificationInterpretation.from_learner(learn)\n",
        "interp.plot_confusion_matrix()"
      ],
      "metadata": {
        "colab": {
          "base_uri": "https://localhost:8080/",
          "height": 311
        },
        "id": "AgM4G2yWDPv5",
        "outputId": "85b2cfd9-7c1d-44b9-dd79-0e81cc6621cf"
      },
      "execution_count": 32,
      "outputs": [
        {
          "output_type": "display_data",
          "data": {
            "text/plain": [
              "<IPython.core.display.HTML object>"
            ],
            "text/html": [
              "\n",
              "<style>\n",
              "    /* Turns off some styling */\n",
              "    progress {\n",
              "        /* gets rid of default border in Firefox and Opera. */\n",
              "        border: none;\n",
              "        /* Needs to be in here for Safari polyfill so background images work as expected. */\n",
              "        background-size: auto;\n",
              "    }\n",
              "    .progress-bar-interrupted, .progress-bar-interrupted::-webkit-progress-bar {\n",
              "        background: #F44336;\n",
              "    }\n",
              "</style>\n"
            ]
          },
          "metadata": {}
        },
        {
          "output_type": "display_data",
          "data": {
            "text/plain": [
              "<IPython.core.display.HTML object>"
            ],
            "text/html": [
              ""
            ]
          },
          "metadata": {}
        },
        {
          "output_type": "display_data",
          "data": {
            "text/plain": [
              "<IPython.core.display.HTML object>"
            ],
            "text/html": [
              "\n",
              "<style>\n",
              "    /* Turns off some styling */\n",
              "    progress {\n",
              "        /* gets rid of default border in Firefox and Opera. */\n",
              "        border: none;\n",
              "        /* Needs to be in here for Safari polyfill so background images work as expected. */\n",
              "        background-size: auto;\n",
              "    }\n",
              "    .progress-bar-interrupted, .progress-bar-interrupted::-webkit-progress-bar {\n",
              "        background: #F44336;\n",
              "    }\n",
              "</style>\n"
            ]
          },
          "metadata": {}
        },
        {
          "output_type": "display_data",
          "data": {
            "text/plain": [
              "<IPython.core.display.HTML object>"
            ],
            "text/html": [
              ""
            ]
          },
          "metadata": {}
        },
        {
          "output_type": "display_data",
          "data": {
            "text/plain": [
              "<Figure size 432x288 with 1 Axes>"
            ],
            "image/png": "[encoded data removed]"
          },
          "metadata": {
            "needs_background": "light"
          }
        }
      ]
    },
    {
      "cell_type": "markdown",
      "source": [
        "## eyes-open vs music\n",
        "\n"
      ],
      "metadata": {
        "id": "S8edDYjHC5DY"
      }
    },
    {
      "cell_type": "code",
      "source": [
        "df = pd.read_csv('approach2infos.csv')\n",
        "df = df[df['label'].isin(['task-eyes open', 'task-music'])]\n",
        "dblock = DataBlock(blocks=(EEGBlock, CategoryBlock),\n",
        "                   get_x=ColReader('fns'),\n",
        "                   get_y=ColReader('label'),\n",
        "                   splitter=ColSplitter())\n",
        "\n",
        "dls = dblock.dataloaders(df)\n",
        "model = EEGInception(61)   \n",
        "apply_init(model, nn.init.kaiming_normal_)\n",
        "learn = Learner(dls, \n",
        "                model, \n",
        "                loss_func=LabelSmoothingCrossEntropyFlat(),\n",
        "                cbs=[GradientClip(),\n",
        "                    # EEGCallback(),\n",
        "                     SaveModelCallback(fname='chrononet')],\n",
        "                metrics=accuracy\n",
        "        ).to_fp16()"
      ],
      "metadata": {
        "id": "L97LYW6EC74l"
      },
      "execution_count": 33,
      "outputs": []
    },
    {
      "cell_type": "code",
      "source": [
        "learn.fit_one_cycle(20, 1e-2)"
      ],
      "metadata": {
        "colab": {
          "base_uri": "https://localhost:8080/",
          "height": 822
        },
        "id": "byCBSafhC-uV",
        "outputId": "b38e969a-b3b5-4443-afab-f86c5d033ed5"
      },
      "execution_count": 34,
      "outputs": [
        {
          "output_type": "display_data",
          "data": {
            "text/plain": [
              "<IPython.core.display.HTML object>"
            ],
            "text/html": [
              "\n",
              "<style>\n",
              "    /* Turns off some styling */\n",
              "    progress {\n",
              "        /* gets rid of default border in Firefox and Opera. */\n",
              "        border: none;\n",
              "        /* Needs to be in here for Safari polyfill so background images work as expected. */\n",
              "        background-size: auto;\n",
              "    }\n",
              "    .progress-bar-interrupted, .progress-bar-interrupted::-webkit-progress-bar {\n",
              "        background: #F44336;\n",
              "    }\n",
              "</style>\n"
            ]
          },
          "metadata": {}
        },
        {
          "output_type": "display_data",
          "data": {
            "text/plain": [
              "<IPython.core.display.HTML object>"
            ],
            "text/html": [
              "<table border=\"1\" class=\"dataframe\">\n",
              "  <thead>\n",
              "    <tr style=\"text-align: left;\">\n",
              "      <th>epoch</th>\n",
              "      <th>train_loss</th>\n",
              "      <th>valid_loss</th>\n",
              "      <th>accuracy</th>\n",
              "      <th>time</th>\n",
              "    </tr>\n",
              "  </thead>\n",
              "  <tbody>\n",
              "    <tr>\n",
              "      <td>0</td>\n",
              "      <td>1.814770</td>\n",
              "      <td>4.006254</td>\n",
              "      <td>0.482759</td>\n",
              "      <td>00:31</td>\n",
              "    </tr>\n",
              "    <tr>\n",
              "      <td>1</td>\n",
              "      <td>1.482821</td>\n",
              "      <td>3.472272</td>\n",
              "      <td>0.500000</td>\n",
              "      <td>00:20</td>\n",
              "    </tr>\n",
              "    <tr>\n",
              "      <td>2</td>\n",
              "      <td>1.281452</td>\n",
              "      <td>2.983400</td>\n",
              "      <td>0.551724</td>\n",
              "      <td>00:20</td>\n",
              "    </tr>\n",
              "    <tr>\n",
              "      <td>3</td>\n",
              "      <td>1.157207</td>\n",
              "      <td>1.536658</td>\n",
              "      <td>0.517241</td>\n",
              "      <td>00:20</td>\n",
              "    </tr>\n",
              "    <tr>\n",
              "      <td>4</td>\n",
              "      <td>1.065516</td>\n",
              "      <td>1.456523</td>\n",
              "      <td>0.586207</td>\n",
              "      <td>00:20</td>\n",
              "    </tr>\n",
              "    <tr>\n",
              "      <td>5</td>\n",
              "      <td>1.004785</td>\n",
              "      <td>1.206349</td>\n",
              "      <td>0.637931</td>\n",
              "      <td>00:20</td>\n",
              "    </tr>\n",
              "    <tr>\n",
              "      <td>6</td>\n",
              "      <td>0.942406</td>\n",
              "      <td>0.924775</td>\n",
              "      <td>0.810345</td>\n",
              "      <td>00:21</td>\n",
              "    </tr>\n",
              "    <tr>\n",
              "      <td>7</td>\n",
              "      <td>0.891234</td>\n",
              "      <td>0.896423</td>\n",
              "      <td>0.724138</td>\n",
              "      <td>00:21</td>\n",
              "    </tr>\n",
              "    <tr>\n",
              "      <td>8</td>\n",
              "      <td>0.840698</td>\n",
              "      <td>0.930692</td>\n",
              "      <td>0.775862</td>\n",
              "      <td>00:20</td>\n",
              "    </tr>\n",
              "    <tr>\n",
              "      <td>9</td>\n",
              "      <td>0.801127</td>\n",
              "      <td>0.975570</td>\n",
              "      <td>0.793103</td>\n",
              "      <td>00:20</td>\n",
              "    </tr>\n",
              "    <tr>\n",
              "      <td>10</td>\n",
              "      <td>0.762970</td>\n",
              "      <td>0.954712</td>\n",
              "      <td>0.810345</td>\n",
              "      <td>00:20</td>\n",
              "    </tr>\n",
              "    <tr>\n",
              "      <td>11</td>\n",
              "      <td>0.731744</td>\n",
              "      <td>0.916983</td>\n",
              "      <td>0.810345</td>\n",
              "      <td>00:21</td>\n",
              "    </tr>\n",
              "    <tr>\n",
              "      <td>12</td>\n",
              "      <td>0.704505</td>\n",
              "      <td>0.931180</td>\n",
              "      <td>0.758621</td>\n",
              "      <td>00:20</td>\n",
              "    </tr>\n",
              "    <tr>\n",
              "      <td>13</td>\n",
              "      <td>0.678454</td>\n",
              "      <td>0.951223</td>\n",
              "      <td>0.758621</td>\n",
              "      <td>00:21</td>\n",
              "    </tr>\n",
              "    <tr>\n",
              "      <td>14</td>\n",
              "      <td>0.656059</td>\n",
              "      <td>0.952779</td>\n",
              "      <td>0.758621</td>\n",
              "      <td>00:21</td>\n",
              "    </tr>\n",
              "    <tr>\n",
              "      <td>15</td>\n",
              "      <td>0.635266</td>\n",
              "      <td>0.941856</td>\n",
              "      <td>0.741379</td>\n",
              "      <td>00:20</td>\n",
              "    </tr>\n",
              "    <tr>\n",
              "      <td>16</td>\n",
              "      <td>0.618693</td>\n",
              "      <td>0.936868</td>\n",
              "      <td>0.775862</td>\n",
              "      <td>00:20</td>\n",
              "    </tr>\n",
              "    <tr>\n",
              "      <td>17</td>\n",
              "      <td>0.603008</td>\n",
              "      <td>0.933380</td>\n",
              "      <td>0.775862</td>\n",
              "      <td>00:20</td>\n",
              "    </tr>\n",
              "    <tr>\n",
              "      <td>18</td>\n",
              "      <td>0.588794</td>\n",
              "      <td>0.923577</td>\n",
              "      <td>0.775862</td>\n",
              "      <td>00:20</td>\n",
              "    </tr>\n",
              "    <tr>\n",
              "      <td>19</td>\n",
              "      <td>0.577263</td>\n",
              "      <td>0.919211</td>\n",
              "      <td>0.775862</td>\n",
              "      <td>00:20</td>\n",
              "    </tr>\n",
              "  </tbody>\n",
              "</table>"
            ]
          },
          "metadata": {}
        },
        {
          "output_type": "stream",
          "name": "stdout",
          "text": [
            "Better model found at epoch 0 with valid_loss value: 4.006253719329834.\n",
            "Better model found at epoch 1 with valid_loss value: 3.4722719192504883.\n",
            "Better model found at epoch 2 with valid_loss value: 2.9833998680114746.\n",
            "Better model found at epoch 3 with valid_loss value: 1.5366575717926025.\n",
            "Better model found at epoch 4 with valid_loss value: 1.4565234184265137.\n",
            "Better model found at epoch 5 with valid_loss value: 1.20634925365448.\n",
            "Better model found at epoch 6 with valid_loss value: 0.9247750639915466.\n",
            "Better model found at epoch 7 with valid_loss value: 0.8964233994483948.\n"
          ]
        }
      ]
    },
    {
      "cell_type": "code",
      "source": [
        "interp = ClassificationInterpretation.from_learner(learn)\n",
        "interp.plot_confusion_matrix()"
      ],
      "metadata": {
        "colab": {
          "base_uri": "https://localhost:8080/",
          "height": 311
        },
        "id": "f5gJkLUpDCM5",
        "outputId": "6ffd425c-1142-420a-cdad-d354a8ce4940"
      },
      "execution_count": 35,
      "outputs": [
        {
          "output_type": "display_data",
          "data": {
            "text/plain": [
              "<IPython.core.display.HTML object>"
            ],
            "text/html": [
              "\n",
              "<style>\n",
              "    /* Turns off some styling */\n",
              "    progress {\n",
              "        /* gets rid of default border in Firefox and Opera. */\n",
              "        border: none;\n",
              "        /* Needs to be in here for Safari polyfill so background images work as expected. */\n",
              "        background-size: auto;\n",
              "    }\n",
              "    .progress-bar-interrupted, .progress-bar-interrupted::-webkit-progress-bar {\n",
              "        background: #F44336;\n",
              "    }\n",
              "</style>\n"
            ]
          },
          "metadata": {}
        },
        {
          "output_type": "display_data",
          "data": {
            "text/plain": [
              "<IPython.core.display.HTML object>"
            ],
            "text/html": [
              ""
            ]
          },
          "metadata": {}
        },
        {
          "output_type": "display_data",
          "data": {
            "text/plain": [
              "<IPython.core.display.HTML object>"
            ],
            "text/html": [
              "\n",
              "<style>\n",
              "    /* Turns off some styling */\n",
              "    progress {\n",
              "        /* gets rid of default border in Firefox and Opera. */\n",
              "        border: none;\n",
              "        /* Needs to be in here for Safari polyfill so background images work as expected. */\n",
              "        background-size: auto;\n",
              "    }\n",
              "    .progress-bar-interrupted, .progress-bar-interrupted::-webkit-progress-bar {\n",
              "        background: #F44336;\n",
              "    }\n",
              "</style>\n"
            ]
          },
          "metadata": {}
        },
        {
          "output_type": "display_data",
          "data": {
            "text/plain": [
              "<IPython.core.display.HTML object>"
            ],
            "text/html": [
              ""
            ]
          },
          "metadata": {}
        },
        {
          "output_type": "display_data",
          "data": {
            "text/plain": [
              "<Figure size 432x288 with 1 Axes>"
            ],
            "image/png": "[encoded data removed]"
          },
          "metadata": {
            "needs_background": "light"
          }
        }
      ]
    },
    {
      "cell_type": "markdown",
      "source": [
        "## eyes-closed vs mathematic"
      ],
      "metadata": {
        "id": "5JXX4U8XLQvw"
      }
    },
    {
      "cell_type": "code",
      "source": [
        "df = pd.read_csv('approach2infos.csv')\n",
        "df = df[df['label'].isin(['task-eyes closed', 'task-mathematic'])]\n",
        "dblock = DataBlock(blocks=(EEGBlock, CategoryBlock),\n",
        "                   get_x=ColReader('fns'),\n",
        "                   get_y=ColReader('label'),\n",
        "                   splitter=ColSplitter())\n",
        "\n",
        "dls = dblock.dataloaders(df)\n",
        "model = EEGInception(61)   \n",
        "apply_init(model, nn.init.kaiming_normal_)\n",
        "learn = Learner(dls, \n",
        "                model, \n",
        "                loss_func=LabelSmoothingCrossEntropyFlat(),\n",
        "                cbs=[GradientClip(),\n",
        "                    # EEGCallback(),\n",
        "                     SaveModelCallback(fname='chrononet')],\n",
        "                metrics=accuracy\n",
        "        ).to_fp16()"
      ],
      "metadata": {
        "id": "trsVJ5rCLQUS"
      },
      "execution_count": 41,
      "outputs": []
    },
    {
      "cell_type": "code",
      "source": [
        "learn.fit_one_cycle(20, 1e-2)"
      ],
      "metadata": {
        "colab": {
          "base_uri": "https://localhost:8080/",
          "height": 749
        },
        "id": "Vpe0fmmFDrNc",
        "outputId": "d18c5cf1-5ba4-4a58-c420-3e507d6351cf"
      },
      "execution_count": 42,
      "outputs": [
        {
          "output_type": "display_data",
          "data": {
            "text/plain": [
              "<IPython.core.display.HTML object>"
            ],
            "text/html": [
              "\n",
              "<style>\n",
              "    /* Turns off some styling */\n",
              "    progress {\n",
              "        /* gets rid of default border in Firefox and Opera. */\n",
              "        border: none;\n",
              "        /* Needs to be in here for Safari polyfill so background images work as expected. */\n",
              "        background-size: auto;\n",
              "    }\n",
              "    .progress-bar-interrupted, .progress-bar-interrupted::-webkit-progress-bar {\n",
              "        background: #F44336;\n",
              "    }\n",
              "</style>\n"
            ]
          },
          "metadata": {}
        },
        {
          "output_type": "display_data",
          "data": {
            "text/plain": [
              "<IPython.core.display.HTML object>"
            ],
            "text/html": [
              "<table border=\"1\" class=\"dataframe\">\n",
              "  <thead>\n",
              "    <tr style=\"text-align: left;\">\n",
              "      <th>epoch</th>\n",
              "      <th>train_loss</th>\n",
              "      <th>valid_loss</th>\n",
              "      <th>accuracy</th>\n",
              "      <th>time</th>\n",
              "    </tr>\n",
              "  </thead>\n",
              "  <tbody>\n",
              "    <tr>\n",
              "      <td>0</td>\n",
              "      <td>1.897583</td>\n",
              "      <td>3.398403</td>\n",
              "      <td>0.169492</td>\n",
              "      <td>00:20</td>\n",
              "    </tr>\n",
              "    <tr>\n",
              "      <td>1</td>\n",
              "      <td>1.734272</td>\n",
              "      <td>4.238858</td>\n",
              "      <td>0.440678</td>\n",
              "      <td>00:20</td>\n",
              "    </tr>\n",
              "    <tr>\n",
              "      <td>2</td>\n",
              "      <td>1.573917</td>\n",
              "      <td>3.687991</td>\n",
              "      <td>0.457627</td>\n",
              "      <td>00:20</td>\n",
              "    </tr>\n",
              "    <tr>\n",
              "      <td>3</td>\n",
              "      <td>1.424992</td>\n",
              "      <td>1.376213</td>\n",
              "      <td>0.406780</td>\n",
              "      <td>00:20</td>\n",
              "    </tr>\n",
              "    <tr>\n",
              "      <td>4</td>\n",
              "      <td>1.321863</td>\n",
              "      <td>1.144835</td>\n",
              "      <td>0.474576</td>\n",
              "      <td>00:20</td>\n",
              "    </tr>\n",
              "    <tr>\n",
              "      <td>5</td>\n",
              "      <td>1.250598</td>\n",
              "      <td>1.106941</td>\n",
              "      <td>0.491525</td>\n",
              "      <td>00:20</td>\n",
              "    </tr>\n",
              "    <tr>\n",
              "      <td>6</td>\n",
              "      <td>1.201346</td>\n",
              "      <td>1.203202</td>\n",
              "      <td>0.491525</td>\n",
              "      <td>00:20</td>\n",
              "    </tr>\n",
              "    <tr>\n",
              "      <td>7</td>\n",
              "      <td>1.149017</td>\n",
              "      <td>1.427283</td>\n",
              "      <td>0.457627</td>\n",
              "      <td>00:20</td>\n",
              "    </tr>\n",
              "    <tr>\n",
              "      <td>8</td>\n",
              "      <td>1.099506</td>\n",
              "      <td>1.472576</td>\n",
              "      <td>0.474576</td>\n",
              "      <td>00:20</td>\n",
              "    </tr>\n",
              "    <tr>\n",
              "      <td>9</td>\n",
              "      <td>1.050078</td>\n",
              "      <td>1.612174</td>\n",
              "      <td>0.474576</td>\n",
              "      <td>00:20</td>\n",
              "    </tr>\n",
              "    <tr>\n",
              "      <td>10</td>\n",
              "      <td>0.996785</td>\n",
              "      <td>1.756673</td>\n",
              "      <td>0.389830</td>\n",
              "      <td>00:20</td>\n",
              "    </tr>\n",
              "    <tr>\n",
              "      <td>11</td>\n",
              "      <td>0.947146</td>\n",
              "      <td>1.868132</td>\n",
              "      <td>0.457627</td>\n",
              "      <td>00:20</td>\n",
              "    </tr>\n",
              "    <tr>\n",
              "      <td>12</td>\n",
              "      <td>0.902727</td>\n",
              "      <td>1.909143</td>\n",
              "      <td>0.440678</td>\n",
              "      <td>00:20</td>\n",
              "    </tr>\n",
              "    <tr>\n",
              "      <td>13</td>\n",
              "      <td>0.859471</td>\n",
              "      <td>1.896311</td>\n",
              "      <td>0.440678</td>\n",
              "      <td>00:20</td>\n",
              "    </tr>\n",
              "    <tr>\n",
              "      <td>14</td>\n",
              "      <td>0.822863</td>\n",
              "      <td>1.912381</td>\n",
              "      <td>0.406780</td>\n",
              "      <td>00:20</td>\n",
              "    </tr>\n",
              "    <tr>\n",
              "      <td>15</td>\n",
              "      <td>0.786994</td>\n",
              "      <td>1.957815</td>\n",
              "      <td>0.440678</td>\n",
              "      <td>00:20</td>\n",
              "    </tr>\n",
              "    <tr>\n",
              "      <td>16</td>\n",
              "      <td>0.755207</td>\n",
              "      <td>2.003471</td>\n",
              "      <td>0.440678</td>\n",
              "      <td>00:20</td>\n",
              "    </tr>\n",
              "    <tr>\n",
              "      <td>17</td>\n",
              "      <td>0.730366</td>\n",
              "      <td>2.021678</td>\n",
              "      <td>0.440678</td>\n",
              "      <td>00:20</td>\n",
              "    </tr>\n",
              "    <tr>\n",
              "      <td>18</td>\n",
              "      <td>0.705686</td>\n",
              "      <td>2.020402</td>\n",
              "      <td>0.440678</td>\n",
              "      <td>00:20</td>\n",
              "    </tr>\n",
              "    <tr>\n",
              "      <td>19</td>\n",
              "      <td>0.684973</td>\n",
              "      <td>2.009533</td>\n",
              "      <td>0.440678</td>\n",
              "      <td>00:20</td>\n",
              "    </tr>\n",
              "  </tbody>\n",
              "</table>"
            ]
          },
          "metadata": {}
        },
        {
          "output_type": "stream",
          "name": "stdout",
          "text": [
            "Better model found at epoch 0 with valid_loss value: 3.398402690887451.\n",
            "Better model found at epoch 3 with valid_loss value: 1.3762130737304688.\n",
            "Better model found at epoch 4 with valid_loss value: 1.1448348760604858.\n",
            "Better model found at epoch 5 with valid_loss value: 1.106940746307373.\n"
          ]
        }
      ]
    },
    {
      "cell_type": "code",
      "source": [
        "interp = ClassificationInterpretation.from_learner(learn)\n",
        "interp.plot_confusion_matrix()"
      ],
      "metadata": {
        "colab": {
          "base_uri": "https://localhost:8080/",
          "height": 311
        },
        "id": "kwqf2FyBLYZy",
        "outputId": "8af30554-bfaf-49c8-e3ca-34af78a86bce"
      },
      "execution_count": 43,
      "outputs": [
        {
          "output_type": "display_data",
          "data": {
            "text/plain": [
              "<IPython.core.display.HTML object>"
            ],
            "text/html": [
              "\n",
              "<style>\n",
              "    /* Turns off some styling */\n",
              "    progress {\n",
              "        /* gets rid of default border in Firefox and Opera. */\n",
              "        border: none;\n",
              "        /* Needs to be in here for Safari polyfill so background images work as expected. */\n",
              "        background-size: auto;\n",
              "    }\n",
              "    .progress-bar-interrupted, .progress-bar-interrupted::-webkit-progress-bar {\n",
              "        background: #F44336;\n",
              "    }\n",
              "</style>\n"
            ]
          },
          "metadata": {}
        },
        {
          "output_type": "display_data",
          "data": {
            "text/plain": [
              "<IPython.core.display.HTML object>"
            ],
            "text/html": [
              ""
            ]
          },
          "metadata": {}
        },
        {
          "output_type": "display_data",
          "data": {
            "text/plain": [
              "<IPython.core.display.HTML object>"
            ],
            "text/html": [
              "\n",
              "<style>\n",
              "    /* Turns off some styling */\n",
              "    progress {\n",
              "        /* gets rid of default border in Firefox and Opera. */\n",
              "        border: none;\n",
              "        /* Needs to be in here for Safari polyfill so background images work as expected. */\n",
              "        background-size: auto;\n",
              "    }\n",
              "    .progress-bar-interrupted, .progress-bar-interrupted::-webkit-progress-bar {\n",
              "        background: #F44336;\n",
              "    }\n",
              "</style>\n"
            ]
          },
          "metadata": {}
        },
        {
          "output_type": "display_data",
          "data": {
            "text/plain": [
              "<IPython.core.display.HTML object>"
            ],
            "text/html": [
              ""
            ]
          },
          "metadata": {}
        },
        {
          "output_type": "display_data",
          "data": {
            "text/plain": [
              "<Figure size 432x288 with 1 Axes>"
            ],
            "image/png": "[encoded data removed]"
          },
          "metadata": {
            "needs_background": "light"
          }
        }
      ]
    },
    {
      "cell_type": "markdown",
      "source": [
        "## eyes-closed vs memory"
      ],
      "metadata": {
        "id": "GPzHX6viLbED"
      }
    },
    {
      "cell_type": "code",
      "source": [
        "df = pd.read_csv('approach2infos.csv')\n",
        "df = df[df['label'].isin(['task-eyes closed', 'task-memory'])]\n",
        "dblock = DataBlock(blocks=(EEGBlock, CategoryBlock),\n",
        "                   get_x=ColReader('fns'),\n",
        "                   get_y=ColReader('label'),\n",
        "                   splitter=ColSplitter())\n",
        "\n",
        "dls = dblock.dataloaders(df)\n",
        "model = EEGInception(61)   \n",
        "apply_init(model, nn.init.kaiming_normal_)\n",
        "learn = Learner(dls, \n",
        "                model, \n",
        "                loss_func=LabelSmoothingCrossEntropyFlat(),\n",
        "                cbs=[GradientClip(),\n",
        "                    # EEGCallback(),\n",
        "                     SaveModelCallback(fname='chrononet')],\n",
        "                metrics=accuracy\n",
        "        ).to_fp16()"
      ],
      "metadata": {
        "id": "qmzK2o2KLfWh"
      },
      "execution_count": 44,
      "outputs": []
    },
    {
      "cell_type": "code",
      "source": [
        "learn.fit_one_cycle(20, 1e-2)"
      ],
      "metadata": {
        "colab": {
          "base_uri": "https://localhost:8080/",
          "height": 713
        },
        "id": "lwLxP3QxLfWk",
        "outputId": "e9452b96-0b73-4856-8781-de81f408fe9c"
      },
      "execution_count": 45,
      "outputs": [
        {
          "output_type": "display_data",
          "data": {
            "text/plain": [
              "<IPython.core.display.HTML object>"
            ],
            "text/html": [
              "\n",
              "<style>\n",
              "    /* Turns off some styling */\n",
              "    progress {\n",
              "        /* gets rid of default border in Firefox and Opera. */\n",
              "        border: none;\n",
              "        /* Needs to be in here for Safari polyfill so background images work as expected. */\n",
              "        background-size: auto;\n",
              "    }\n",
              "    .progress-bar-interrupted, .progress-bar-interrupted::-webkit-progress-bar {\n",
              "        background: #F44336;\n",
              "    }\n",
              "</style>\n"
            ]
          },
          "metadata": {}
        },
        {
          "output_type": "display_data",
          "data": {
            "text/plain": [
              "<IPython.core.display.HTML object>"
            ],
            "text/html": [
              "<table border=\"1\" class=\"dataframe\">\n",
              "  <thead>\n",
              "    <tr style=\"text-align: left;\">\n",
              "      <th>epoch</th>\n",
              "      <th>train_loss</th>\n",
              "      <th>valid_loss</th>\n",
              "      <th>accuracy</th>\n",
              "      <th>time</th>\n",
              "    </tr>\n",
              "  </thead>\n",
              "  <tbody>\n",
              "    <tr>\n",
              "      <td>0</td>\n",
              "      <td>1.859020</td>\n",
              "      <td>1.115289</td>\n",
              "      <td>0.542373</td>\n",
              "      <td>00:20</td>\n",
              "    </tr>\n",
              "    <tr>\n",
              "      <td>1</td>\n",
              "      <td>1.638484</td>\n",
              "      <td>1.401700</td>\n",
              "      <td>0.525424</td>\n",
              "      <td>00:20</td>\n",
              "    </tr>\n",
              "    <tr>\n",
              "      <td>2</td>\n",
              "      <td>1.476588</td>\n",
              "      <td>2.055891</td>\n",
              "      <td>0.474576</td>\n",
              "      <td>00:20</td>\n",
              "    </tr>\n",
              "    <tr>\n",
              "      <td>3</td>\n",
              "      <td>1.361039</td>\n",
              "      <td>1.159906</td>\n",
              "      <td>0.457627</td>\n",
              "      <td>00:20</td>\n",
              "    </tr>\n",
              "    <tr>\n",
              "      <td>4</td>\n",
              "      <td>1.277406</td>\n",
              "      <td>1.144265</td>\n",
              "      <td>0.474576</td>\n",
              "      <td>00:20</td>\n",
              "    </tr>\n",
              "    <tr>\n",
              "      <td>5</td>\n",
              "      <td>1.218240</td>\n",
              "      <td>1.209567</td>\n",
              "      <td>0.525424</td>\n",
              "      <td>00:20</td>\n",
              "    </tr>\n",
              "    <tr>\n",
              "      <td>6</td>\n",
              "      <td>1.159555</td>\n",
              "      <td>1.098498</td>\n",
              "      <td>0.372881</td>\n",
              "      <td>00:20</td>\n",
              "    </tr>\n",
              "    <tr>\n",
              "      <td>7</td>\n",
              "      <td>1.104983</td>\n",
              "      <td>1.150605</td>\n",
              "      <td>0.593220</td>\n",
              "      <td>00:20</td>\n",
              "    </tr>\n",
              "    <tr>\n",
              "      <td>8</td>\n",
              "      <td>1.050893</td>\n",
              "      <td>1.245628</td>\n",
              "      <td>0.440678</td>\n",
              "      <td>00:20</td>\n",
              "    </tr>\n",
              "    <tr>\n",
              "      <td>9</td>\n",
              "      <td>1.004399</td>\n",
              "      <td>1.338987</td>\n",
              "      <td>0.474576</td>\n",
              "      <td>00:20</td>\n",
              "    </tr>\n",
              "    <tr>\n",
              "      <td>10</td>\n",
              "      <td>0.954427</td>\n",
              "      <td>1.331456</td>\n",
              "      <td>0.542373</td>\n",
              "      <td>00:20</td>\n",
              "    </tr>\n",
              "    <tr>\n",
              "      <td>11</td>\n",
              "      <td>0.909704</td>\n",
              "      <td>1.377831</td>\n",
              "      <td>0.542373</td>\n",
              "      <td>00:20</td>\n",
              "    </tr>\n",
              "    <tr>\n",
              "      <td>12</td>\n",
              "      <td>0.869180</td>\n",
              "      <td>1.418877</td>\n",
              "      <td>0.491525</td>\n",
              "      <td>00:20</td>\n",
              "    </tr>\n",
              "    <tr>\n",
              "      <td>13</td>\n",
              "      <td>0.827693</td>\n",
              "      <td>1.507221</td>\n",
              "      <td>0.423729</td>\n",
              "      <td>00:20</td>\n",
              "    </tr>\n",
              "    <tr>\n",
              "      <td>14</td>\n",
              "      <td>0.793207</td>\n",
              "      <td>1.552433</td>\n",
              "      <td>0.440678</td>\n",
              "      <td>00:20</td>\n",
              "    </tr>\n",
              "    <tr>\n",
              "      <td>15</td>\n",
              "      <td>0.762280</td>\n",
              "      <td>1.557481</td>\n",
              "      <td>0.440678</td>\n",
              "      <td>00:20</td>\n",
              "    </tr>\n",
              "    <tr>\n",
              "      <td>16</td>\n",
              "      <td>0.736047</td>\n",
              "      <td>1.540867</td>\n",
              "      <td>0.440678</td>\n",
              "      <td>00:20</td>\n",
              "    </tr>\n",
              "    <tr>\n",
              "      <td>17</td>\n",
              "      <td>0.710893</td>\n",
              "      <td>1.521082</td>\n",
              "      <td>0.440678</td>\n",
              "      <td>00:20</td>\n",
              "    </tr>\n",
              "    <tr>\n",
              "      <td>18</td>\n",
              "      <td>0.689394</td>\n",
              "      <td>1.520753</td>\n",
              "      <td>0.440678</td>\n",
              "      <td>00:20</td>\n",
              "    </tr>\n",
              "    <tr>\n",
              "      <td>19</td>\n",
              "      <td>0.671164</td>\n",
              "      <td>1.511200</td>\n",
              "      <td>0.440678</td>\n",
              "      <td>00:20</td>\n",
              "    </tr>\n",
              "  </tbody>\n",
              "</table>"
            ]
          },
          "metadata": {}
        },
        {
          "output_type": "stream",
          "name": "stdout",
          "text": [
            "Better model found at epoch 0 with valid_loss value: 1.1152886152267456.\n",
            "Better model found at epoch 6 with valid_loss value: 1.0984984636306763.\n"
          ]
        }
      ]
    },
    {
      "cell_type": "code",
      "source": [
        "interp = ClassificationInterpretation.from_learner(learn)\n",
        "interp.plot_confusion_matrix()"
      ],
      "metadata": {
        "colab": {
          "base_uri": "https://localhost:8080/",
          "height": 311
        },
        "id": "1YXA69yALfWk",
        "outputId": "9d569b09-3ffc-4e31-ccb5-c33ed0db4d05"
      },
      "execution_count": 46,
      "outputs": [
        {
          "output_type": "display_data",
          "data": {
            "text/plain": [
              "<IPython.core.display.HTML object>"
            ],
            "text/html": [
              "\n",
              "<style>\n",
              "    /* Turns off some styling */\n",
              "    progress {\n",
              "        /* gets rid of default border in Firefox and Opera. */\n",
              "        border: none;\n",
              "        /* Needs to be in here for Safari polyfill so background images work as expected. */\n",
              "        background-size: auto;\n",
              "    }\n",
              "    .progress-bar-interrupted, .progress-bar-interrupted::-webkit-progress-bar {\n",
              "        background: #F44336;\n",
              "    }\n",
              "</style>\n"
            ]
          },
          "metadata": {}
        },
        {
          "output_type": "display_data",
          "data": {
            "text/plain": [
              "<IPython.core.display.HTML object>"
            ],
            "text/html": [
              ""
            ]
          },
          "metadata": {}
        },
        {
          "output_type": "display_data",
          "data": {
            "text/plain": [
              "<IPython.core.display.HTML object>"
            ],
            "text/html": [
              "\n",
              "<style>\n",
              "    /* Turns off some styling */\n",
              "    progress {\n",
              "        /* gets rid of default border in Firefox and Opera. */\n",
              "        border: none;\n",
              "        /* Needs to be in here for Safari polyfill so background images work as expected. */\n",
              "        background-size: auto;\n",
              "    }\n",
              "    .progress-bar-interrupted, .progress-bar-interrupted::-webkit-progress-bar {\n",
              "        background: #F44336;\n",
              "    }\n",
              "</style>\n"
            ]
          },
          "metadata": {}
        },
        {
          "output_type": "display_data",
          "data": {
            "text/plain": [
              "<IPython.core.display.HTML object>"
            ],
            "text/html": [
              ""
            ]
          },
          "metadata": {}
        },
        {
          "output_type": "display_data",
          "data": {
            "text/plain": [
              "<Figure size 432x288 with 1 Axes>"
            ],
            "image/png": "[encoded data removed]"
          },
          "metadata": {
            "needs_background": "light"
          }
        }
      ]
    },
    {
      "cell_type": "markdown",
      "source": [
        "## eyes-closed vs music"
      ],
      "metadata": {
        "id": "aetSo5nWLhxC"
      }
    },
    {
      "cell_type": "code",
      "source": [
        "df = pd.read_csv('approach2infos.csv')\n",
        "df = df[df['label'].isin(['task-eyes closed', 'task-music'])]\n",
        "dblock = DataBlock(blocks=(EEGBlock, CategoryBlock),\n",
        "                   get_x=ColReader('fns'),\n",
        "                   get_y=ColReader('label'),\n",
        "                   splitter=ColSplitter())\n",
        "\n",
        "dls = dblock.dataloaders(df)\n",
        "model = EEGInception(61)   \n",
        "apply_init(model, nn.init.kaiming_normal_)\n",
        "learn = Learner(dls, \n",
        "                model, \n",
        "                loss_func=LabelSmoothingCrossEntropyFlat(),\n",
        "                cbs=[GradientClip(),\n",
        "                    # EEGCallback(),\n",
        "                     SaveModelCallback(fname='chrononet')],\n",
        "                metrics=accuracy\n",
        "        ).to_fp16()"
      ],
      "metadata": {
        "id": "2gsr9G-nLkmD"
      },
      "execution_count": 47,
      "outputs": []
    },
    {
      "cell_type": "code",
      "source": [
        "learn.fit_one_cycle(20, 1e-2)"
      ],
      "metadata": {
        "colab": {
          "base_uri": "https://localhost:8080/",
          "height": 749
        },
        "id": "lsBLpRTOLkmD",
        "outputId": "6e8c178b-e7bb-420b-c603-cca46e0a45bd"
      },
      "execution_count": 48,
      "outputs": [
        {
          "output_type": "display_data",
          "data": {
            "text/plain": [
              "<IPython.core.display.HTML object>"
            ],
            "text/html": [
              "\n",
              "<style>\n",
              "    /* Turns off some styling */\n",
              "    progress {\n",
              "        /* gets rid of default border in Firefox and Opera. */\n",
              "        border: none;\n",
              "        /* Needs to be in here for Safari polyfill so background images work as expected. */\n",
              "        background-size: auto;\n",
              "    }\n",
              "    .progress-bar-interrupted, .progress-bar-interrupted::-webkit-progress-bar {\n",
              "        background: #F44336;\n",
              "    }\n",
              "</style>\n"
            ]
          },
          "metadata": {}
        },
        {
          "output_type": "display_data",
          "data": {
            "text/plain": [
              "<IPython.core.display.HTML object>"
            ],
            "text/html": [
              "<table border=\"1\" class=\"dataframe\">\n",
              "  <thead>\n",
              "    <tr style=\"text-align: left;\">\n",
              "      <th>epoch</th>\n",
              "      <th>train_loss</th>\n",
              "      <th>valid_loss</th>\n",
              "      <th>accuracy</th>\n",
              "      <th>time</th>\n",
              "    </tr>\n",
              "  </thead>\n",
              "  <tbody>\n",
              "    <tr>\n",
              "      <td>0</td>\n",
              "      <td>1.912173</td>\n",
              "      <td>1.637906</td>\n",
              "      <td>0.482759</td>\n",
              "      <td>00:20</td>\n",
              "    </tr>\n",
              "    <tr>\n",
              "      <td>1</td>\n",
              "      <td>1.641913</td>\n",
              "      <td>1.392662</td>\n",
              "      <td>0.517241</td>\n",
              "      <td>00:20</td>\n",
              "    </tr>\n",
              "    <tr>\n",
              "      <td>2</td>\n",
              "      <td>1.458509</td>\n",
              "      <td>1.187180</td>\n",
              "      <td>0.586207</td>\n",
              "      <td>00:20</td>\n",
              "    </tr>\n",
              "    <tr>\n",
              "      <td>3</td>\n",
              "      <td>1.326200</td>\n",
              "      <td>1.262233</td>\n",
              "      <td>0.568965</td>\n",
              "      <td>00:20</td>\n",
              "    </tr>\n",
              "    <tr>\n",
              "      <td>4</td>\n",
              "      <td>1.251698</td>\n",
              "      <td>1.311504</td>\n",
              "      <td>0.482759</td>\n",
              "      <td>00:20</td>\n",
              "    </tr>\n",
              "    <tr>\n",
              "      <td>5</td>\n",
              "      <td>1.180528</td>\n",
              "      <td>1.217193</td>\n",
              "      <td>0.534483</td>\n",
              "      <td>00:20</td>\n",
              "    </tr>\n",
              "    <tr>\n",
              "      <td>6</td>\n",
              "      <td>1.125715</td>\n",
              "      <td>1.145176</td>\n",
              "      <td>0.413793</td>\n",
              "      <td>00:20</td>\n",
              "    </tr>\n",
              "    <tr>\n",
              "      <td>7</td>\n",
              "      <td>1.067854</td>\n",
              "      <td>1.193813</td>\n",
              "      <td>0.500000</td>\n",
              "      <td>00:20</td>\n",
              "    </tr>\n",
              "    <tr>\n",
              "      <td>8</td>\n",
              "      <td>1.007046</td>\n",
              "      <td>1.257256</td>\n",
              "      <td>0.568965</td>\n",
              "      <td>00:20</td>\n",
              "    </tr>\n",
              "    <tr>\n",
              "      <td>9</td>\n",
              "      <td>0.951628</td>\n",
              "      <td>1.433079</td>\n",
              "      <td>0.534483</td>\n",
              "      <td>00:20</td>\n",
              "    </tr>\n",
              "    <tr>\n",
              "      <td>10</td>\n",
              "      <td>0.903645</td>\n",
              "      <td>1.363650</td>\n",
              "      <td>0.534483</td>\n",
              "      <td>00:20</td>\n",
              "    </tr>\n",
              "    <tr>\n",
              "      <td>11</td>\n",
              "      <td>0.858244</td>\n",
              "      <td>1.344131</td>\n",
              "      <td>0.517241</td>\n",
              "      <td>00:20</td>\n",
              "    </tr>\n",
              "    <tr>\n",
              "      <td>12</td>\n",
              "      <td>0.816891</td>\n",
              "      <td>1.428640</td>\n",
              "      <td>0.517241</td>\n",
              "      <td>00:20</td>\n",
              "    </tr>\n",
              "    <tr>\n",
              "      <td>13</td>\n",
              "      <td>0.783465</td>\n",
              "      <td>1.477442</td>\n",
              "      <td>0.448276</td>\n",
              "      <td>00:20</td>\n",
              "    </tr>\n",
              "    <tr>\n",
              "      <td>14</td>\n",
              "      <td>0.752356</td>\n",
              "      <td>1.483165</td>\n",
              "      <td>0.465517</td>\n",
              "      <td>00:20</td>\n",
              "    </tr>\n",
              "    <tr>\n",
              "      <td>15</td>\n",
              "      <td>0.723783</td>\n",
              "      <td>1.463141</td>\n",
              "      <td>0.465517</td>\n",
              "      <td>00:20</td>\n",
              "    </tr>\n",
              "    <tr>\n",
              "      <td>16</td>\n",
              "      <td>0.699968</td>\n",
              "      <td>1.445046</td>\n",
              "      <td>0.465517</td>\n",
              "      <td>00:20</td>\n",
              "    </tr>\n",
              "    <tr>\n",
              "      <td>17</td>\n",
              "      <td>0.676396</td>\n",
              "      <td>1.430429</td>\n",
              "      <td>0.482759</td>\n",
              "      <td>00:20</td>\n",
              "    </tr>\n",
              "    <tr>\n",
              "      <td>18</td>\n",
              "      <td>0.656668</td>\n",
              "      <td>1.422813</td>\n",
              "      <td>0.482759</td>\n",
              "      <td>00:20</td>\n",
              "    </tr>\n",
              "    <tr>\n",
              "      <td>19</td>\n",
              "      <td>0.638576</td>\n",
              "      <td>1.420148</td>\n",
              "      <td>0.500000</td>\n",
              "      <td>00:20</td>\n",
              "    </tr>\n",
              "  </tbody>\n",
              "</table>"
            ]
          },
          "metadata": {}
        },
        {
          "output_type": "stream",
          "name": "stdout",
          "text": [
            "Better model found at epoch 0 with valid_loss value: 1.6379058361053467.\n",
            "Better model found at epoch 1 with valid_loss value: 1.3926615715026855.\n",
            "Better model found at epoch 2 with valid_loss value: 1.1871802806854248.\n",
            "Better model found at epoch 6 with valid_loss value: 1.1451759338378906.\n"
          ]
        }
      ]
    },
    {
      "cell_type": "code",
      "source": [
        "interp = ClassificationInterpretation.from_learner(learn)\n",
        "interp.plot_confusion_matrix()"
      ],
      "metadata": {
        "colab": {
          "base_uri": "https://localhost:8080/",
          "height": 311
        },
        "id": "_3axoUaWLkmE",
        "outputId": "2ce6a41d-12c4-4601-c9fe-f116e3265066"
      },
      "execution_count": 49,
      "outputs": [
        {
          "output_type": "display_data",
          "data": {
            "text/plain": [
              "<IPython.core.display.HTML object>"
            ],
            "text/html": [
              "\n",
              "<style>\n",
              "    /* Turns off some styling */\n",
              "    progress {\n",
              "        /* gets rid of default border in Firefox and Opera. */\n",
              "        border: none;\n",
              "        /* Needs to be in here for Safari polyfill so background images work as expected. */\n",
              "        background-size: auto;\n",
              "    }\n",
              "    .progress-bar-interrupted, .progress-bar-interrupted::-webkit-progress-bar {\n",
              "        background: #F44336;\n",
              "    }\n",
              "</style>\n"
            ]
          },
          "metadata": {}
        },
        {
          "output_type": "display_data",
          "data": {
            "text/plain": [
              "<IPython.core.display.HTML object>"
            ],
            "text/html": [
              ""
            ]
          },
          "metadata": {}
        },
        {
          "output_type": "display_data",
          "data": {
            "text/plain": [
              "<IPython.core.display.HTML object>"
            ],
            "text/html": [
              "\n",
              "<style>\n",
              "    /* Turns off some styling */\n",
              "    progress {\n",
              "        /* gets rid of default border in Firefox and Opera. */\n",
              "        border: none;\n",
              "        /* Needs to be in here for Safari polyfill so background images work as expected. */\n",
              "        background-size: auto;\n",
              "    }\n",
              "    .progress-bar-interrupted, .progress-bar-interrupted::-webkit-progress-bar {\n",
              "        background: #F44336;\n",
              "    }\n",
              "</style>\n"
            ]
          },
          "metadata": {}
        },
        {
          "output_type": "display_data",
          "data": {
            "text/plain": [
              "<IPython.core.display.HTML object>"
            ],
            "text/html": [
              ""
            ]
          },
          "metadata": {}
        },
        {
          "output_type": "display_data",
          "data": {
            "text/plain": [
              "<Figure size 432x288 with 1 Axes>"
            ],
            "image/png": "[encoded data removed]"
          },
          "metadata": {
            "needs_background": "light"
          }
        }
      ]
    },
    {
      "cell_type": "code",
      "source": [
        ""
      ],
      "metadata": {
        "id": "FWKWOFLKLqqU"
      },
      "execution_count": null,
      "outputs": []
    }
  ]
}