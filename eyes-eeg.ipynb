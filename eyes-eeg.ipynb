{
 "cells": [
  {
   "cell_type": "code",
   "execution_count": null,
   "metadata": {},
   "outputs": [],
   "source": [
    "%pip install openneuro-py mne mne-bids -Uqq"
   ]
  },
  {
   "cell_type": "code",
   "execution_count": 1,
   "metadata": {},
   "outputs": [],
   "source": [
    "import os\n",
    "import os.path as op\n",
    "import openneuro\n",
    "\n",
    "from mne.datasets import sample\n",
    "from mne_bids import BIDSPath, read_raw_bids, print_dir_tree, make_report"
   ]
  },
  {
   "cell_type": "code",
   "execution_count": 2,
   "metadata": {},
   "outputs": [
    {
     "name": "stdout",
     "output_type": "stream",
     "text": [
      "\n",
      "👋 Hello! This is openneuro-py 2022.1.0. Great to see you! 🤗\n",
      "\n",
      "   👉 Please report problems 🤯 and bugs 🪲 at\n",
      "      https://github.com/hoechenberger/openneuro-py/issues\n",
      "\n",
      "🌍 Preparing to download ds003685 …\n",
      "👉 Retrieving up to 40 files (5 concurrent downloads).\n",
      "✅ Finished downloading ds003685.\n",
      "\n",
      "🧠 Please enjoy your brains.\n",
      "\n"
     ]
    }
   ],
   "source": [
    "dataset = 'ds003685'\n",
    "\n",
    "# Download one subject's data from each dataset\n",
    "bids_root = op.join(op.dirname(sample.data_path()), dataset)\n",
    "if not op.isdir(bids_root):\n",
    "    os.makedirs(bids_root)\n",
    "\n",
    "openneuro.download(dataset=dataset, target_dir=bids_root,\n",
    "                   include=['sub-01*eyes*'])"
   ]
  },
  {
   "cell_type": "code",
   "execution_count": 3,
   "metadata": {},
   "outputs": [
    {
     "name": "stdout",
     "output_type": "stream",
     "text": [
      "|ds003685/\n",
      "|--- CHANGES\n",
      "|--- README\n",
      "|--- dataset_description.json\n",
      "|--- participants.tsv\n",
      "|--- sub-01/\n",
      "|------ ses-session1/\n",
      "|--------- eeg/\n",
      "|------------ sub-01_ses-session1_task-eyes closed_run-1_channels.tsv\n",
      "|------------ sub-01_ses-session1_task-eyes closed_run-1_eeg.eeg\n",
      "|------------ sub-01_ses-session1_task-eyes closed_run-1_eeg.json\n",
      "|------------ sub-01_ses-session1_task-eyes closed_run-1_eeg.vhdr\n",
      "|------------ sub-01_ses-session1_task-eyes closed_run-1_eeg.vmrk\n",
      "|------------ sub-01_ses-session1_task-eyes closed_run-1_events.tsv\n",
      "|------------ sub-01_ses-session1_task-eyes open_run-2_channels.tsv\n",
      "|------------ sub-01_ses-session1_task-eyes open_run-2_eeg.eeg\n",
      "|------------ sub-01_ses-session1_task-eyes open_run-2_eeg.json\n",
      "|------------ sub-01_ses-session1_task-eyes open_run-2_eeg.vhdr\n",
      "|------------ sub-01_ses-session1_task-eyes open_run-2_eeg.vmrk\n",
      "|------------ sub-01_ses-session1_task-eyes open_run-2_events.tsv\n",
      "|------ ses-session2/\n",
      "|--------- eeg/\n",
      "|------------ sub-01_ses-session2_task-eyes closed_run-1_channels.tsv\n",
      "|------------ sub-01_ses-session2_task-eyes closed_run-1_eeg.eeg\n",
      "|------------ sub-01_ses-session2_task-eyes closed_run-1_eeg.json\n",
      "|------------ sub-01_ses-session2_task-eyes closed_run-1_eeg.vhdr\n",
      "|------------ sub-01_ses-session2_task-eyes closed_run-1_eeg.vmrk\n",
      "|------------ sub-01_ses-session2_task-eyes closed_run-1_events.tsv\n",
      "|------------ sub-01_ses-session2_task-eyes open_run-2_channels.tsv\n",
      "|------------ sub-01_ses-session2_task-eyes open_run-2_eeg.eeg\n",
      "|------------ sub-01_ses-session2_task-eyes open_run-2_eeg.json\n",
      "|------------ sub-01_ses-session2_task-eyes open_run-2_eeg.vhdr\n",
      "|------------ sub-01_ses-session2_task-eyes open_run-2_eeg.vmrk\n",
      "|------------ sub-01_ses-session2_task-eyes open_run-2_events.tsv\n",
      "|------ ses-session3/\n",
      "|--------- eeg/\n",
      "|------------ sub-01_ses-session3_task-eyes closed_run-1_channels.tsv\n",
      "|------------ sub-01_ses-session3_task-eyes closed_run-1_eeg.eeg\n",
      "|------------ sub-01_ses-session3_task-eyes closed_run-1_eeg.json\n",
      "|------------ sub-01_ses-session3_task-eyes closed_run-1_eeg.vhdr\n",
      "|------------ sub-01_ses-session3_task-eyes closed_run-1_eeg.vmrk\n",
      "|------------ sub-01_ses-session3_task-eyes closed_run-1_events.tsv\n",
      "|------------ sub-01_ses-session3_task-eyes open_run-2_channels.tsv\n",
      "|------------ sub-01_ses-session3_task-eyes open_run-2_eeg.eeg\n",
      "|------------ sub-01_ses-session3_task-eyes open_run-2_eeg.json\n",
      "|------------ sub-01_ses-session3_task-eyes open_run-2_eeg.vhdr\n",
      "|------------ sub-01_ses-session3_task-eyes open_run-2_eeg.vmrk\n",
      "|------------ sub-01_ses-session3_task-eyes open_run-2_events.tsv\n"
     ]
    }
   ],
   "source": [
    "print_dir_tree(bids_root, max_depth=4)"
   ]
  },
  {
   "cell_type": "code",
   "execution_count": 4,
   "metadata": {},
   "outputs": [
    {
     "name": "stdout",
     "output_type": "stream",
     "text": [
      "Summarizing participants.tsv /Users/ben/mne_data/ds003685/participants.tsv...\n",
      "The participant template found: comprised of 28 male and 32 female participants;\n",
      "handedness were all unknown;\n",
      "ages ranged from 18.0 to 28.0 (mean = 20.0, std = 1.89; 5 with unknown age)\n",
      " The A test-retest resting and cognitive state EEG dataset dataset was created\n",
      "by Yulin Wang, Wei Duan, Lihong Ding, Debo Dong, and Xu Lei and conforms to BIDS\n",
      "version 1.2. This report was generated with MNE-BIDS\n",
      "(https://doi.org/10.21105/joss.01896). The dataset consists of 1 participants\n",
      "(comprised of 28 male and 32 female participants; handedness were all unknown;\n",
      "ages ranged from 18.0 to 28.0 (mean = 20.0, std = 1.89; 5 with unknown age)) and\n",
      "3 recording sessions: session1, session2, and session3.\n"
     ]
    },
    {
     "name": "stderr",
     "output_type": "stream",
     "text": [
      "/var/folders/7b/xbwtz8m5467_89kxyf1qm6tw0000gp/T/ipykernel_11189/3390368180.py:1: RuntimeWarning: No *scans.tsv files found. Currently, we do not generate a report without the scans.tsv files.\n",
      "  print(make_report(bids_root))\n"
     ]
    }
   ],
   "source": [
    "print(make_report(bids_root))"
   ]
  },
  {
   "cell_type": "code",
   "execution_count": 5,
   "metadata": {},
   "outputs": [],
   "source": [
    "#fix files missing spaces\n",
    "\n",
    "import re, glob, os\n",
    "\n",
    "def renamer(files, pattern, replacement):\n",
    "    for pathname in glob.glob(files, recursive=True):\n",
    "        new_filename = re.sub(pattern, replacement, pathname)\n",
    "        if new_filename != pathname:\n",
    "            os.rename(\n",
    "              pathname,\n",
    "              os.path.join(os.path.dirname(pathname), new_filename))\n",
    "            print('renamed to {}'.format(os.path.join(os.path.dirname(pathname), new_filename)))\n",
    "\n",
    "renamer('{}/**/*'.format(bids_root), 'eyesopen', 'eyes open')\n",
    "renamer('{}/**/*'.format(bids_root), 'eyesclosed', 'eyes closed')"
   ]
  },
  {
   "cell_type": "code",
   "execution_count": 6,
   "metadata": {},
   "outputs": [
    {
     "name": "stdout",
     "output_type": "stream",
     "text": [
      "/Users/ben/mne_data/ds003685\n"
     ]
    }
   ],
   "source": [
    "print(bids_root)\n",
    "datatype = 'eeg'\n",
    "suffix = 'eeg'\n",
    "bids_paths = [ \n",
    "    BIDSPath(task='eyes open', suffix=suffix, datatype=datatype, root=bids_root),\n",
    "    BIDSPath(task='eyes closed', suffix=suffix, datatype=datatype, root=bids_root)]\n"
   ]
  },
  {
   "cell_type": "code",
   "execution_count": 7,
   "metadata": {},
   "outputs": [
    {
     "name": "stderr",
     "output_type": "stream",
     "text": [
      "100%|██████████| 9/9 [00:00<00:00, 61984.79it/s]\n",
      "100%|██████████| 9/9 [00:00<00:00, 62394.60it/s]\n"
     ]
    }
   ],
   "source": [
    "from tqdm import tqdm\n",
    "\n",
    "def get_vhdr_files(bids_path):\n",
    "    # get names of the .vhdr files\n",
    "    basenames = []\n",
    "    match = bids_path.match()\n",
    "    for i in tqdm(range(0, len(match))):\n",
    "        if match[i].basename[-4:] == 'vhdr':\n",
    "            basenames.append(match[i])\n",
    "    return basenames\n",
    "\n",
    "vhdr_files = []\n",
    "for bids_path in bids_paths:\n",
    "    vhdr_files.append(get_vhdr_files(bids_path))"
   ]
  },
  {
   "cell_type": "code",
   "execution_count": 8,
   "metadata": {},
   "outputs": [
    {
     "name": "stderr",
     "output_type": "stream",
     "text": [
      "  0%|          | 0/3 [00:00<?, ?it/s]"
     ]
    },
    {
     "name": "stdout",
     "output_type": "stream",
     "text": [
      "Reading 0 ... 149999  =      0.000 ...   299.998 secs...\n",
      "Filtering raw data in 1 contiguous segment\n",
      "Setting up band-pass filter from 1 - 40 Hz\n",
      "\n",
      "FIR filter parameters\n",
      "---------------------\n",
      "Designing a one-pass, zero-phase, non-causal bandpass filter:\n",
      "- Windowed time-domain design (firwin) method\n",
      "- Hamming window with 0.0194 passband ripple and 53 dB stopband attenuation\n",
      "- Lower passband edge: 1.00\n",
      "- Lower transition bandwidth: 1.00 Hz (-6 dB cutoff frequency: 0.50 Hz)\n",
      "- Upper passband edge: 40.00 Hz\n",
      "- Upper transition bandwidth: 10.00 Hz (-6 dB cutoff frequency: 45.00 Hz)\n",
      "- Filter length: 1651 samples (3.302 sec)\n",
      "\n"
     ]
    },
    {
     "name": "stderr",
     "output_type": "stream",
     "text": [
      " 33%|███▎      | 1/3 [00:00<00:01,  1.55it/s]"
     ]
    },
    {
     "name": "stdout",
     "output_type": "stream",
     "text": [
      "Reading 0 ... 149999  =      0.000 ...   299.998 secs...\n",
      "Filtering raw data in 1 contiguous segment\n",
      "Setting up band-pass filter from 1 - 40 Hz\n",
      "\n",
      "FIR filter parameters\n",
      "---------------------\n",
      "Designing a one-pass, zero-phase, non-causal bandpass filter:\n",
      "- Windowed time-domain design (firwin) method\n",
      "- Hamming window with 0.0194 passband ripple and 53 dB stopband attenuation\n",
      "- Lower passband edge: 1.00\n",
      "- Lower transition bandwidth: 1.00 Hz (-6 dB cutoff frequency: 0.50 Hz)\n",
      "- Upper passband edge: 40.00 Hz\n",
      "- Upper transition bandwidth: 10.00 Hz (-6 dB cutoff frequency: 45.00 Hz)\n",
      "- Filter length: 1651 samples (3.302 sec)\n",
      "\n"
     ]
    },
    {
     "name": "stderr",
     "output_type": "stream",
     "text": [
      " 67%|██████▋   | 2/3 [00:00<00:00,  2.39it/s]"
     ]
    },
    {
     "name": "stdout",
     "output_type": "stream",
     "text": [
      "Reading 0 ... 149999  =      0.000 ...   299.998 secs...\n",
      "Filtering raw data in 1 contiguous segment\n",
      "Setting up band-pass filter from 1 - 40 Hz\n",
      "\n",
      "FIR filter parameters\n",
      "---------------------\n",
      "Designing a one-pass, zero-phase, non-causal bandpass filter:\n",
      "- Windowed time-domain design (firwin) method\n",
      "- Hamming window with 0.0194 passband ripple and 53 dB stopband attenuation\n",
      "- Lower passband edge: 1.00\n",
      "- Lower transition bandwidth: 1.00 Hz (-6 dB cutoff frequency: 0.50 Hz)\n",
      "- Upper passband edge: 40.00 Hz\n",
      "- Upper transition bandwidth: 10.00 Hz (-6 dB cutoff frequency: 45.00 Hz)\n",
      "- Filter length: 1651 samples (3.302 sec)\n",
      "\n"
     ]
    },
    {
     "name": "stderr",
     "output_type": "stream",
     "text": [
      "100%|██████████| 3/3 [00:01<00:00,  2.58it/s]\n",
      "  0%|          | 0/3 [00:00<?, ?it/s]"
     ]
    },
    {
     "name": "stdout",
     "output_type": "stream",
     "text": [
      "Reading 0 ... 149999  =      0.000 ...   299.998 secs...\n",
      "Filtering raw data in 1 contiguous segment\n",
      "Setting up band-pass filter from 1 - 40 Hz\n",
      "\n",
      "FIR filter parameters\n",
      "---------------------\n",
      "Designing a one-pass, zero-phase, non-causal bandpass filter:\n",
      "- Windowed time-domain design (firwin) method\n",
      "- Hamming window with 0.0194 passband ripple and 53 dB stopband attenuation\n",
      "- Lower passband edge: 1.00\n",
      "- Lower transition bandwidth: 1.00 Hz (-6 dB cutoff frequency: 0.50 Hz)\n",
      "- Upper passband edge: 40.00 Hz\n",
      "- Upper transition bandwidth: 10.00 Hz (-6 dB cutoff frequency: 45.00 Hz)\n",
      "- Filter length: 1651 samples (3.302 sec)\n",
      "\n"
     ]
    },
    {
     "name": "stderr",
     "output_type": "stream",
     "text": [
      " 33%|███▎      | 1/3 [00:00<00:00,  3.74it/s]"
     ]
    },
    {
     "name": "stdout",
     "output_type": "stream",
     "text": [
      "Reading 0 ... 149999  =      0.000 ...   299.998 secs...\n",
      "Filtering raw data in 1 contiguous segment\n",
      "Setting up band-pass filter from 1 - 40 Hz\n",
      "\n",
      "FIR filter parameters\n",
      "---------------------\n",
      "Designing a one-pass, zero-phase, non-causal bandpass filter:\n",
      "- Windowed time-domain design (firwin) method\n",
      "- Hamming window with 0.0194 passband ripple and 53 dB stopband attenuation\n",
      "- Lower passband edge: 1.00\n",
      "- Lower transition bandwidth: 1.00 Hz (-6 dB cutoff frequency: 0.50 Hz)\n",
      "- Upper passband edge: 40.00 Hz\n",
      "- Upper transition bandwidth: 10.00 Hz (-6 dB cutoff frequency: 45.00 Hz)\n",
      "- Filter length: 1651 samples (3.302 sec)\n",
      "\n"
     ]
    },
    {
     "name": "stderr",
     "output_type": "stream",
     "text": [
      " 67%|██████▋   | 2/3 [00:00<00:00,  3.82it/s]"
     ]
    },
    {
     "name": "stdout",
     "output_type": "stream",
     "text": [
      "Reading 0 ... 149999  =      0.000 ...   299.998 secs...\n",
      "Filtering raw data in 1 contiguous segment\n",
      "Setting up band-pass filter from 1 - 40 Hz\n",
      "\n",
      "FIR filter parameters\n",
      "---------------------\n",
      "Designing a one-pass, zero-phase, non-causal bandpass filter:\n",
      "- Windowed time-domain design (firwin) method\n",
      "- Hamming window with 0.0194 passband ripple and 53 dB stopband attenuation\n",
      "- Lower passband edge: 1.00\n",
      "- Lower transition bandwidth: 1.00 Hz (-6 dB cutoff frequency: 0.50 Hz)\n",
      "- Upper passband edge: 40.00 Hz\n",
      "- Upper transition bandwidth: 10.00 Hz (-6 dB cutoff frequency: 45.00 Hz)\n",
      "- Filter length: 1651 samples (3.302 sec)\n",
      "\n"
     ]
    },
    {
     "name": "stderr",
     "output_type": "stream",
     "text": [
      "100%|██████████| 3/3 [00:00<00:00,  3.85it/s]\n"
     ]
    }
   ],
   "source": [
    "\n",
    "def get_raw_files(basenames):\n",
    "    raws = []\n",
    "    for basename in tqdm(basenames):\n",
    "        #print(basename)\n",
    "        raw = read_raw_bids(bids_path=basename, verbose=False)\n",
    "        raw.load_data()\n",
    "        #print(raw.ch_names)\n",
    "        raw = raw.pick_channels(['Oz'])\n",
    "        raw = raw.filter(1,40)\n",
    "        raw = raw.resample(100, npad=\"auto\")\n",
    "        raws.append(raw)\n",
    "    \n",
    "#print(vhdr_files)\n",
    "open_eyes = get_raw_files(vhdr_files[0])\n",
    "closed_eyes = get_raw_files(vhdr_files[1])\n"
   ]
  }
 ],
 "metadata": {
  "interpreter": {
   "hash": "22aeb7c88ad43e7f8d29df71af4839a433785d6a842837b5826dd947146c18d1"
  },
  "kernelspec": {
   "display_name": "Python 3.9.7 ('eeg-notebooks')",
   "language": "python",
   "name": "python3"
  },
  "language_info": {
   "codemirror_mode": {
    "name": "ipython",
    "version": 3
   },
   "file_extension": ".py",
   "mimetype": "text/x-python",
   "name": "python",
   "nbconvert_exporter": "python",
   "pygments_lexer": "ipython3",
   "version": "3.8.8"
  },
  "orig_nbformat": 4
 },
 "nbformat": 4,
 "nbformat_minor": 2
}
