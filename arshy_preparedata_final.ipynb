{
  "cells": [
    {
      "cell_type": "markdown",
      "metadata": {
        "id": "vLdQF_bMxiAM"
      },
      "source": [
        "In this notebook, we will see how we can preprocess the data that was downloaded from Open Neuro. \n",
        "\n",
        "The preproces we used \n",
        "- `filter` to filter the signals between desired Hz\n",
        "- `resample` to resample the eeg signal from acqusition frequency to a desired frequency\n",
        "- `ICA` to remove `ecg, eog` related artifacts \n",
        "- `fized length epochs` to break the continuous signal to number of samples"
      ]
    },
    {
      "cell_type": "markdown",
      "metadata": {
        "id": "_CdVHs4ugLLV"
      },
      "source": [
        "The following approaches were used to preproces that data\n",
        "\n",
        "Approach 1\n",
        "\n",
        "- filter between 1 and 40\n",
        "- resample from 500hz to 100 hz\n",
        "- remove artifacts based on ICA\n",
        "- epoch 50s\n",
        "\n",
        "Approach 2\n",
        "\n",
        "- filter between 1 and 40\n",
        "- resample from 500hz to 100 hz\n",
        "- remove artifacts based on ICA\n",
        "- epoch 50s and average\n",
        "\n",
        "Approach 3\n",
        "\n",
        "- filter between 1 and 20\n",
        "- resample from 500hz to 100 hz\n",
        "- remove artifacts based on ICA on epochs\n",
        "- epoch 50s\n",
        "\n",
        "Approach 4\n",
        "\n",
        "- filter between 1 and 20\n",
        "- resample from 500hz to 100 hz\n",
        "- remove artifacts based on ICA on epochs\n",
        "- epoch 50s and average\n"
      ]
    },
    {
      "cell_type": "code",
      "execution_count": 1,
      "metadata": {
        "id": "eZ9teOhqog_x"
      },
      "outputs": [],
      "source": [
        "!pip install fastcore mne[data] mne-bids PyQt5 -Uqq"
      ]
    },
    {
      "cell_type": "code",
      "execution_count": 13,
      "metadata": {
        "colab": {
          "base_uri": "https://localhost:8080/"
        },
        "id": "IlE0mMdeYRwe",
        "outputId": "7ac6f2ba-6cec-4acc-e3eb-45882707c571"
      },
      "outputs": [
        {
          "name": "stdout",
          "output_type": "stream",
          "text": [
            "Drive already mounted at /content/drive; to attempt to forcibly remount, call drive.mount(\"/content/drive\", force_remount=True).\n"
          ]
        }
      ],
      "source": [
        "from google.colab import drive\n",
        "drive.mount('/content/drive') "
      ]
    },
    {
      "cell_type": "code",
      "execution_count": 14,
      "metadata": {
        "colab": {
          "base_uri": "https://localhost:8080/"
        },
        "id": "hvqi41tWYXns",
        "outputId": "6e711d87-f579-445c-8be6-c4f5a4280bac"
      },
      "outputs": [
        {
          "name": "stdout",
          "output_type": "stream",
          "text": [
            "/content/drive/MyDrive/colab_notebooks/algovera/lynxhack\n"
          ]
        }
      ],
      "source": [
        "%cd /content/drive/MyDrive/colab_notebooks/algovera/lynxhack"
      ]
    },
    {
      "cell_type": "code",
      "execution_count": 15,
      "metadata": {
        "id": "RQqpi4AGYkYO"
      },
      "outputs": [],
      "source": [
        "import os\n",
        "import matplotlib\n",
        "from pathlib import Path\n",
        "import mne\n",
        "import mne_bids\n",
        "import numpy as np\n",
        "from glob import glob\n",
        "from fastcore.parallel import parallel\n",
        "import pandas as pd\n",
        "import pickle"
      ]
    },
    {
      "cell_type": "code",
      "execution_count": 16,
      "metadata": {
        "id": "ZV4m9Rr3veqA"
      },
      "outputs": [],
      "source": [
        "from sklearn.base import TransformerMixin,BaseEstimator\n",
        "from sklearn.preprocessing import StandardScaler"
      ]
    },
    {
      "cell_type": "code",
      "execution_count": 17,
      "metadata": {
        "id": "aCDNfYWkrjd9"
      },
      "outputs": [],
      "source": [
        "def prepare_approach12(fn):\n",
        "    '''\n",
        "    approach1\n",
        "    filter - 1 and 40\n",
        "    resample - 100hz\n",
        "    ica - 20 components\n",
        "    epoch - 50s\n",
        "\n",
        "    approach2\n",
        "    same but average all epochs to one   \n",
        "    '''\n",
        "    path = f\"processeddata/individuals/afterica\"\n",
        "    sub = str(fn).split('/')[-1].split('_')[0]\n",
        "    session = str(fn).split('/')[-1].split('_')[1]\n",
        "    label = str(fn).split('/')[-1].split('_')[2]\n",
        "\n",
        "    raw = mne.io.read_raw_brainvision(fn, preload=True)\n",
        "    raw = raw.resample(100).filter(l_freq=1, h_freq=40)\n",
        "\n",
        "    ica = mne.preprocessing.ICA(n_components=20, \n",
        "                                random_state=0)\n",
        "    ica.fit(raw)\n",
        "\n",
        "    bad_idx_ecg, scores_ecg = ica.find_bads_ecg(raw, 'Fp1', threshold=2)\n",
        "    bad_idx_eog, scores_eog = ica.find_bads_eog(raw, 'Fp1', threshold=2)\n",
        "    \n",
        "    ica.exclude = bad_idx_ecg + bad_idx_eog\n",
        "\n",
        "    raw_after = ica.apply(raw, \n",
        "                          exclude=ica.exclude)\n",
        "\n",
        "    epochs_after = mne.make_fixed_length_epochs(raw_after,  \n",
        "                                                duration=50,  \n",
        "                                                overlap=0)\n",
        "\n",
        "    fn1 = f\"{path}/{label}_{sub}_{session}_approach1.npy\"\n",
        "    fn2 = f\"{path}/{label}_{sub}_{session}_approach2.npy\"\n",
        "\n",
        "    np.save(fn1, epochs_after.get_data().astype(np.float16))\n",
        "    np.save(fn2, epochs_after.average().get_data().astype(np.float16))"
      ]
    },
    {
      "cell_type": "code",
      "execution_count": 18,
      "metadata": {
        "id": "sEZc7zM9hp0s"
      },
      "outputs": [],
      "source": [
        "def prepare_approach34(fn):\n",
        "    '''\n",
        "    approach1\n",
        "    filter - 1 and 20\n",
        "    resample - 100hz\n",
        "    ica - 20 components\n",
        "    epoch - 50s\n",
        "\n",
        "    approach2\n",
        "    same but average all epochs to one   \n",
        "    '''\n",
        "    path = f\"processeddata/individuals/afterica\"\n",
        "    sub = str(fn).split('/')[-1].split('_')[0]\n",
        "    session = str(fn).split('/')[-1].split('_')[1]\n",
        "    label = str(fn).split('/')[-1].split('_')[2]\n",
        "\n",
        "    raw = mne.io.read_raw_brainvision(fn, preload=True)\n",
        "    raw = raw.resample(100).filter(l_freq=1, h_freq=20)\n",
        "\n",
        "    ica = mne.preprocessing.ICA(n_components=20, \n",
        "                                random_state=0)\n",
        "    ica.fit(raw)\n",
        "    bad_idx_ecg, scores_ecg = ica.find_bads_ecg(raw, 'Fp1', threshold=2)\n",
        "    bad_idx_eog, scores_eog = ica.find_bads_eog(raw, 'Fp1', threshold=2)\n",
        "    ica.exclude = bad_idx_ecg + bad_idx_eog\n",
        "\n",
        "    raw_after = ica.apply(raw, \n",
        "                          exclude=ica.exclude)\n",
        "\n",
        "    epochs_after = mne.make_fixed_length_epochs(raw_after,  \n",
        "                                                duration=50,  \n",
        "                                                overlap=0)\n",
        "\n",
        "    fn1 = f\"{path}/{label}_{sub}_{session}_approach3.npy\"\n",
        "    fn2 = f\"{path}/{label}_{sub}_{session}_approach4.npy\"\n",
        "\n",
        "    np.save(fn1, epochs_after.get_data().astype(np.float16))\n",
        "    np.save(fn2, epochs_after.average().get_data().astype(np.float16))"
      ]
    },
    {
      "cell_type": "code",
      "execution_count": 19,
      "metadata": {
        "id": "ilub4vcmuj6x"
      },
      "outputs": [],
      "source": [
        "filenames = []\n",
        "for path in Path('hackdataset').rglob('*.vhdr'):\n",
        "    filenames.append(path)"
      ]
    },
    {
      "cell_type": "code",
      "execution_count": null,
      "metadata": {
        "id": "DMYn6EZAvvIl"
      },
      "outputs": [],
      "source": [
        "%%capture\n",
        "parallel(prepare_approach12, \n",
        "         filenames, \n",
        "         n_workers=8, \n",
        "         progress=True)"
      ]
    },
    {
      "cell_type": "code",
      "execution_count": null,
      "metadata": {
        "id": "4v5rjatSv7np"
      },
      "outputs": [],
      "source": [
        "%%capture\n",
        "parallel(prepare_approach34, \n",
        "         filenames, \n",
        "         n_workers=8, \n",
        "         progress=True)"
      ]
    },
    {
      "cell_type": "markdown",
      "metadata": {
        "id": "8I4kFn-rONB_"
      },
      "source": [
        "# Prepare df and Standard Scalar"
      ]
    },
    {
      "cell_type": "code",
      "execution_count": 17,
      "metadata": {
        "id": "cCpw_3huvhf5"
      },
      "outputs": [],
      "source": [
        "class SScaler3D(BaseEstimator,TransformerMixin):\n",
        "\n",
        "    def __init__(self):\n",
        "        self.scaler = StandardScaler()\n",
        "\n",
        "    def fit(self,X,y=None):\n",
        "        self.scaler.fit(X.reshape(X.shape[0], -1))\n",
        "        return self\n",
        "\n",
        "    def transform(self,X):\n",
        "        return self.scaler.transform(X.reshape(X.shape[0], -1)).reshape(X.shape)"
      ]
    },
    {
      "cell_type": "code",
      "execution_count": 18,
      "metadata": {
        "id": "EpFQzzmnOMQa"
      },
      "outputs": [],
      "source": [
        "def prepare_df_ss(approach):\n",
        "    fns = glob(f'processeddata/individuals/afterica/*{approach}.npy')\n",
        "\n",
        "    fns_2 = []\n",
        "    label = []\n",
        "    subject = []\n",
        "    session = []\n",
        "    for fn in fns:\n",
        "        fns_2.append(fn)\n",
        "        label.append(str(fn).split('/')[-1].split('_')[0])\n",
        "        subject.append(str(fn).split('/')[-1].split('_')[1])\n",
        "        session.append(str(fn).split('/')[-1].split('_')[2])\n",
        "\n",
        "    df = pd.DataFrame([fns_2, label, subject, session]).T\n",
        "    df.columns = ['fns', 'label', 'subject', 'session']\n",
        "\n",
        "    val_subs = ['sub-51', 'sub-52', 'sub-53', 'sub-54', 'sub-55', 'sub-56', 'sub-57', 'sub-58', 'sub-59', 'sub-60']\n",
        "    df['is_valid'] = False\n",
        "    df.loc[df[df['subject'].isin(val_subs)].index, 'is_valid'] = True\n",
        "\n",
        "    df.to_csv(f'{approach}infos.csv', index=False)\n",
        "\n",
        "    if approach in ['approach1', 'approach3']:\n",
        "        features = []\n",
        "        for fn in df[df['is_valid']==False].fns.values:\n",
        "            if np.load(fn).shape[0] == 6:\n",
        "                features.append(np.load(fn))\n",
        "        \n",
        "        features = np.stack(features, 0)\n",
        "        ss = SScaler3D()\n",
        "        ss.fit(features)\n",
        "\n",
        "        pickle.dump(ss, open(f'ss_{approach}.pkl', 'wb'))\n",
        "\n",
        "    else:\n",
        "      features = []\n",
        "      for fn in df[df['is_valid']==False].fns.values:\n",
        "          features.append(np.load(fn))\n",
        "      \n",
        "      features = np.stack(features, 0)\n",
        "      ss = StandardScaler()\n",
        "      ss.fit(features)\n",
        "\n",
        "      pickle.dump(ss, open(f'ss_{approach}.pkl', 'wb'))"
      ]
    },
    {
      "cell_type": "code",
      "execution_count": 8,
      "metadata": {
        "id": "Ru6QsKRazw2p"
      },
      "outputs": [],
      "source": [
        "fns = glob(f'processeddata/individuals/afterica/*approach1.npy')\n",
        "\n",
        "fns_2 = []\n",
        "label = []\n",
        "subject = []\n",
        "session = []\n",
        "for fn in fns:\n",
        "    fns_2.append(fn)\n",
        "    label.append(str(fn).split('/')[-1].split('_')[0])\n",
        "    subject.append(str(fn).split('/')[-1].split('_')[1])\n",
        "    session.append(str(fn).split('/')[-1].split('_')[2])\n",
        "\n",
        "df = pd.DataFrame([fns_2, label, subject, session]).T\n",
        "df.columns = ['fns', 'label', 'subject', 'session']\n",
        "\n",
        "val_subs = ['sub-51', 'sub-52', 'sub-53', 'sub-54', 'sub-55', 'sub-56', 'sub-57', 'sub-58', 'sub-59', 'sub-60']\n",
        "df['is_valid'] = False\n",
        "df.loc[df[df['subject'].isin(val_subs)].index, 'is_valid'] = True\n",
        "\n",
        "df.to_csv(f'approach1infos.csv', index=False)\n",
        "\n",
        "\n",
        "# features = np.stack(features, 0)\n",
        "# if approach in ['approach1', 'approach3']:\n",
        "#     ss = SScaler3D()\n",
        "#     ss.fit(features)\n",
        "\n",
        "#     pickle.dump(ss, open(f'ss_{approach}.pkl', 'wb'))\n",
        "\n",
        "# else:\n",
        "#   ss = StandardScaler()\n",
        "#   ss.fit(features)\n",
        "\n",
        "#   pickle.dump(ss, open(f'ss_{approach}.pkl', 'wb'))"
      ]
    },
    {
      "cell_type": "code",
      "execution_count": 9,
      "metadata": {
        "id": "2KQqLYeO0Ik8"
      },
      "outputs": [],
      "source": [
        "features = []\n",
        "for fn in df[df['is_valid']==False].fns.values:\n",
        "    if np.load(fn).shape[0] == 6:\n",
        "        features.append(np.load(fn))\n"
      ]
    },
    {
      "cell_type": "code",
      "execution_count": 10,
      "metadata": {
        "id": "n8h8Ql_i0Mc7"
      },
      "outputs": [],
      "source": [
        "features = np.stack(features, 0)"
      ]
    },
    {
      "cell_type": "code",
      "execution_count": 19,
      "metadata": {
        "colab": {
          "base_uri": "https://localhost:8080/",
          "height": 467
        },
        "id": "XCcdYsFAxAFM",
        "outputId": "1a8f7012-7082-4a2f-968b-65feb503b4eb"
      },
      "outputs": [
        {
          "ename": "ValueError",
          "evalue": "ignored",
          "output_type": "error",
          "traceback": [
            "\u001b[0;31m---------------------------------------------------------------------------\u001b[0m",
            "\u001b[0;31mValueError\u001b[0m                                Traceback (most recent call last)",
            "\u001b[0;32m<ipython-input-19-d2fd72cf9fc1>\u001b[0m in \u001b[0;36m<module>\u001b[0;34m()\u001b[0m\n\u001b[0;32m----> 1\u001b[0;31m \u001b[0mprepare_df_ss\u001b[0m\u001b[0;34m(\u001b[0m\u001b[0;34m'approach1'\u001b[0m\u001b[0;34m)\u001b[0m\u001b[0;34m\u001b[0m\u001b[0;34m\u001b[0m\u001b[0m\n\u001b[0m",
            "\u001b[0;32m<ipython-input-18-323c882e7ec9>\u001b[0m in \u001b[0;36mprepare_df_ss\u001b[0;34m(approach)\u001b[0m\n\u001b[1;32m     27\u001b[0m         \u001b[0mfeatures\u001b[0m\u001b[0;34m.\u001b[0m\u001b[0mappend\u001b[0m\u001b[0;34m(\u001b[0m\u001b[0mnp\u001b[0m\u001b[0;34m.\u001b[0m\u001b[0mload\u001b[0m\u001b[0;34m(\u001b[0m\u001b[0mfn\u001b[0m\u001b[0;34m)\u001b[0m\u001b[0;34m)\u001b[0m\u001b[0;34m\u001b[0m\u001b[0;34m\u001b[0m\u001b[0m\n\u001b[1;32m     28\u001b[0m \u001b[0;34m\u001b[0m\u001b[0m\n\u001b[0;32m---> 29\u001b[0;31m     \u001b[0mfeatures\u001b[0m \u001b[0;34m=\u001b[0m \u001b[0mnp\u001b[0m\u001b[0;34m.\u001b[0m\u001b[0mstack\u001b[0m\u001b[0;34m(\u001b[0m\u001b[0mfeatures\u001b[0m\u001b[0;34m,\u001b[0m \u001b[0;36m0\u001b[0m\u001b[0;34m)\u001b[0m\u001b[0;34m\u001b[0m\u001b[0;34m\u001b[0m\u001b[0m\n\u001b[0m\u001b[1;32m     30\u001b[0m     \u001b[0;32mif\u001b[0m \u001b[0mapproach\u001b[0m \u001b[0;32min\u001b[0m \u001b[0;34m[\u001b[0m\u001b[0;34m'approach1'\u001b[0m\u001b[0;34m,\u001b[0m \u001b[0;34m'approach3'\u001b[0m\u001b[0;34m]\u001b[0m\u001b[0;34m:\u001b[0m\u001b[0;34m\u001b[0m\u001b[0;34m\u001b[0m\u001b[0m\n\u001b[1;32m     31\u001b[0m         \u001b[0mss\u001b[0m \u001b[0;34m=\u001b[0m \u001b[0mSScaler3D\u001b[0m\u001b[0;34m(\u001b[0m\u001b[0;34m)\u001b[0m\u001b[0;34m\u001b[0m\u001b[0;34m\u001b[0m\u001b[0m\n",
            "\u001b[0;32m<__array_function__ internals>\u001b[0m in \u001b[0;36mstack\u001b[0;34m(*args, **kwargs)\u001b[0m\n",
            "\u001b[0;32m/usr/local/lib/python3.7/dist-packages/numpy/core/shape_base.py\u001b[0m in \u001b[0;36mstack\u001b[0;34m(arrays, axis, out)\u001b[0m\n\u001b[1;32m    424\u001b[0m     \u001b[0mshapes\u001b[0m \u001b[0;34m=\u001b[0m \u001b[0;34m{\u001b[0m\u001b[0marr\u001b[0m\u001b[0;34m.\u001b[0m\u001b[0mshape\u001b[0m \u001b[0;32mfor\u001b[0m \u001b[0marr\u001b[0m \u001b[0;32min\u001b[0m \u001b[0marrays\u001b[0m\u001b[0;34m}\u001b[0m\u001b[0;34m\u001b[0m\u001b[0;34m\u001b[0m\u001b[0m\n\u001b[1;32m    425\u001b[0m     \u001b[0;32mif\u001b[0m \u001b[0mlen\u001b[0m\u001b[0;34m(\u001b[0m\u001b[0mshapes\u001b[0m\u001b[0;34m)\u001b[0m \u001b[0;34m!=\u001b[0m \u001b[0;36m1\u001b[0m\u001b[0;34m:\u001b[0m\u001b[0;34m\u001b[0m\u001b[0;34m\u001b[0m\u001b[0m\n\u001b[0;32m--> 426\u001b[0;31m         \u001b[0;32mraise\u001b[0m \u001b[0mValueError\u001b[0m\u001b[0;34m(\u001b[0m\u001b[0;34m'all input arrays must have the same shape'\u001b[0m\u001b[0;34m)\u001b[0m\u001b[0;34m\u001b[0m\u001b[0;34m\u001b[0m\u001b[0m\n\u001b[0m\u001b[1;32m    427\u001b[0m \u001b[0;34m\u001b[0m\u001b[0m\n\u001b[1;32m    428\u001b[0m     \u001b[0mresult_ndim\u001b[0m \u001b[0;34m=\u001b[0m \u001b[0marrays\u001b[0m\u001b[0;34m[\u001b[0m\u001b[0;36m0\u001b[0m\u001b[0;34m]\u001b[0m\u001b[0;34m.\u001b[0m\u001b[0mndim\u001b[0m \u001b[0;34m+\u001b[0m \u001b[0;36m1\u001b[0m\u001b[0;34m\u001b[0m\u001b[0;34m\u001b[0m\u001b[0m\n",
            "\u001b[0;31mValueError\u001b[0m: all input arrays must have the same shape"
          ]
        }
      ],
      "source": [
        "prepare_df_ss('approach1')"
      ]
    },
    {
      "cell_type": "code",
      "execution_count": 21,
      "metadata": {
        "colab": {
          "base_uri": "https://localhost:8080/",
          "height": 328
        },
        "id": "y0OSyDCNxHoL",
        "outputId": "ff8399a3-375a-4ca5-f54f-bc9c8789072f"
      },
      "outputs": [
        {
          "ename": "ValueError",
          "evalue": "ignored",
          "output_type": "error",
          "traceback": [
            "\u001b[0;31m---------------------------------------------------------------------------\u001b[0m",
            "\u001b[0;31mValueError\u001b[0m                                Traceback (most recent call last)",
            "\u001b[0;32m<ipython-input-21-fe88339fe7f4>\u001b[0m in \u001b[0;36m<module>\u001b[0;34m()\u001b[0m\n\u001b[0;32m----> 1\u001b[0;31m \u001b[0mprepare_df_ss\u001b[0m\u001b[0;34m(\u001b[0m\u001b[0;34m'approach2'\u001b[0m\u001b[0;34m)\u001b[0m\u001b[0;34m\u001b[0m\u001b[0;34m\u001b[0m\u001b[0m\n\u001b[0m",
            "\u001b[0;32m<ipython-input-18-323c882e7ec9>\u001b[0m in \u001b[0;36mprepare_df_ss\u001b[0;34m(approach)\u001b[0m\n\u001b[1;32m     36\u001b[0m     \u001b[0;32melse\u001b[0m\u001b[0;34m:\u001b[0m\u001b[0;34m\u001b[0m\u001b[0;34m\u001b[0m\u001b[0m\n\u001b[1;32m     37\u001b[0m       \u001b[0mss\u001b[0m \u001b[0;34m=\u001b[0m \u001b[0mStandardScaler\u001b[0m\u001b[0;34m(\u001b[0m\u001b[0;34m)\u001b[0m\u001b[0;34m\u001b[0m\u001b[0;34m\u001b[0m\u001b[0m\n\u001b[0;32m---> 38\u001b[0;31m       \u001b[0mss\u001b[0m\u001b[0;34m.\u001b[0m\u001b[0mfit\u001b[0m\u001b[0;34m(\u001b[0m\u001b[0mfeatures\u001b[0m\u001b[0;34m)\u001b[0m\u001b[0;34m\u001b[0m\u001b[0;34m\u001b[0m\u001b[0m\n\u001b[0m\u001b[1;32m     39\u001b[0m \u001b[0;34m\u001b[0m\u001b[0m\n\u001b[1;32m     40\u001b[0m       \u001b[0mpickle\u001b[0m\u001b[0;34m.\u001b[0m\u001b[0mdump\u001b[0m\u001b[0;34m(\u001b[0m\u001b[0mss\u001b[0m\u001b[0;34m,\u001b[0m \u001b[0mopen\u001b[0m\u001b[0;34m(\u001b[0m\u001b[0;34mf'ss_{approach}.pkl'\u001b[0m\u001b[0;34m,\u001b[0m \u001b[0;34m'wb'\u001b[0m\u001b[0;34m)\u001b[0m\u001b[0;34m)\u001b[0m\u001b[0;34m\u001b[0m\u001b[0;34m\u001b[0m\u001b[0m\n",
            "\u001b[0;32m/usr/local/lib/python3.7/dist-packages/sklearn/preprocessing/_data.py\u001b[0m in \u001b[0;36mfit\u001b[0;34m(self, X, y, sample_weight)\u001b[0m\n\u001b[1;32m    804\u001b[0m         \u001b[0;31m# Reset internal state before fitting\u001b[0m\u001b[0;34m\u001b[0m\u001b[0;34m\u001b[0m\u001b[0;34m\u001b[0m\u001b[0m\n\u001b[1;32m    805\u001b[0m         \u001b[0mself\u001b[0m\u001b[0;34m.\u001b[0m\u001b[0m_reset\u001b[0m\u001b[0;34m(\u001b[0m\u001b[0;34m)\u001b[0m\u001b[0;34m\u001b[0m\u001b[0;34m\u001b[0m\u001b[0m\n\u001b[0;32m--> 806\u001b[0;31m         \u001b[0;32mreturn\u001b[0m \u001b[0mself\u001b[0m\u001b[0;34m.\u001b[0m\u001b[0mpartial_fit\u001b[0m\u001b[0;34m(\u001b[0m\u001b[0mX\u001b[0m\u001b[0;34m,\u001b[0m \u001b[0my\u001b[0m\u001b[0;34m,\u001b[0m \u001b[0msample_weight\u001b[0m\u001b[0;34m)\u001b[0m\u001b[0;34m\u001b[0m\u001b[0;34m\u001b[0m\u001b[0m\n\u001b[0m\u001b[1;32m    807\u001b[0m \u001b[0;34m\u001b[0m\u001b[0m\n\u001b[1;32m    808\u001b[0m     \u001b[0;32mdef\u001b[0m \u001b[0mpartial_fit\u001b[0m\u001b[0;34m(\u001b[0m\u001b[0mself\u001b[0m\u001b[0;34m,\u001b[0m \u001b[0mX\u001b[0m\u001b[0;34m,\u001b[0m \u001b[0my\u001b[0m\u001b[0;34m=\u001b[0m\u001b[0;32mNone\u001b[0m\u001b[0;34m,\u001b[0m \u001b[0msample_weight\u001b[0m\u001b[0;34m=\u001b[0m\u001b[0;32mNone\u001b[0m\u001b[0;34m)\u001b[0m\u001b[0;34m:\u001b[0m\u001b[0;34m\u001b[0m\u001b[0;34m\u001b[0m\u001b[0m\n",
            "\u001b[0;32m/usr/local/lib/python3.7/dist-packages/sklearn/preprocessing/_data.py\u001b[0m in \u001b[0;36mpartial_fit\u001b[0;34m(self, X, y, sample_weight)\u001b[0m\n\u001b[1;32m    845\u001b[0m             \u001b[0mdtype\u001b[0m\u001b[0;34m=\u001b[0m\u001b[0mFLOAT_DTYPES\u001b[0m\u001b[0;34m,\u001b[0m\u001b[0;34m\u001b[0m\u001b[0;34m\u001b[0m\u001b[0m\n\u001b[1;32m    846\u001b[0m             \u001b[0mforce_all_finite\u001b[0m\u001b[0;34m=\u001b[0m\u001b[0;34m\"allow-nan\"\u001b[0m\u001b[0;34m,\u001b[0m\u001b[0;34m\u001b[0m\u001b[0;34m\u001b[0m\u001b[0m\n\u001b[0;32m--> 847\u001b[0;31m             \u001b[0mreset\u001b[0m\u001b[0;34m=\u001b[0m\u001b[0mfirst_call\u001b[0m\u001b[0;34m,\u001b[0m\u001b[0;34m\u001b[0m\u001b[0;34m\u001b[0m\u001b[0m\n\u001b[0m\u001b[1;32m    848\u001b[0m         )\n\u001b[1;32m    849\u001b[0m         \u001b[0mn_features\u001b[0m \u001b[0;34m=\u001b[0m \u001b[0mX\u001b[0m\u001b[0;34m.\u001b[0m\u001b[0mshape\u001b[0m\u001b[0;34m[\u001b[0m\u001b[0;36m1\u001b[0m\u001b[0;34m]\u001b[0m\u001b[0;34m\u001b[0m\u001b[0;34m\u001b[0m\u001b[0m\n",
            "\u001b[0;32m/usr/local/lib/python3.7/dist-packages/sklearn/base.py\u001b[0m in \u001b[0;36m_validate_data\u001b[0;34m(self, X, y, reset, validate_separately, **check_params)\u001b[0m\n\u001b[1;32m    564\u001b[0m             \u001b[0;32mraise\u001b[0m \u001b[0mValueError\u001b[0m\u001b[0;34m(\u001b[0m\u001b[0;34m\"Validation should be done on X, y or both.\"\u001b[0m\u001b[0;34m)\u001b[0m\u001b[0;34m\u001b[0m\u001b[0;34m\u001b[0m\u001b[0m\n\u001b[1;32m    565\u001b[0m         \u001b[0;32melif\u001b[0m \u001b[0;32mnot\u001b[0m \u001b[0mno_val_X\u001b[0m \u001b[0;32mand\u001b[0m \u001b[0mno_val_y\u001b[0m\u001b[0;34m:\u001b[0m\u001b[0;34m\u001b[0m\u001b[0;34m\u001b[0m\u001b[0m\n\u001b[0;32m--> 566\u001b[0;31m             \u001b[0mX\u001b[0m \u001b[0;34m=\u001b[0m \u001b[0mcheck_array\u001b[0m\u001b[0;34m(\u001b[0m\u001b[0mX\u001b[0m\u001b[0;34m,\u001b[0m \u001b[0;34m**\u001b[0m\u001b[0mcheck_params\u001b[0m\u001b[0;34m)\u001b[0m\u001b[0;34m\u001b[0m\u001b[0;34m\u001b[0m\u001b[0m\n\u001b[0m\u001b[1;32m    567\u001b[0m             \u001b[0mout\u001b[0m \u001b[0;34m=\u001b[0m \u001b[0mX\u001b[0m\u001b[0;34m\u001b[0m\u001b[0;34m\u001b[0m\u001b[0m\n\u001b[1;32m    568\u001b[0m         \u001b[0;32melif\u001b[0m \u001b[0mno_val_X\u001b[0m \u001b[0;32mand\u001b[0m \u001b[0;32mnot\u001b[0m \u001b[0mno_val_y\u001b[0m\u001b[0;34m:\u001b[0m\u001b[0;34m\u001b[0m\u001b[0;34m\u001b[0m\u001b[0m\n",
            "\u001b[0;32m/usr/local/lib/python3.7/dist-packages/sklearn/utils/validation.py\u001b[0m in \u001b[0;36mcheck_array\u001b[0;34m(array, accept_sparse, accept_large_sparse, dtype, order, copy, force_all_finite, ensure_2d, allow_nd, ensure_min_samples, ensure_min_features, estimator)\u001b[0m\n\u001b[1;32m    794\u001b[0m             raise ValueError(\n\u001b[1;32m    795\u001b[0m                 \u001b[0;34m\"Found array with dim %d. %s expected <= 2.\"\u001b[0m\u001b[0;34m\u001b[0m\u001b[0;34m\u001b[0m\u001b[0m\n\u001b[0;32m--> 796\u001b[0;31m                 \u001b[0;34m%\u001b[0m \u001b[0;34m(\u001b[0m\u001b[0marray\u001b[0m\u001b[0;34m.\u001b[0m\u001b[0mndim\u001b[0m\u001b[0;34m,\u001b[0m \u001b[0mestimator_name\u001b[0m\u001b[0;34m)\u001b[0m\u001b[0;34m\u001b[0m\u001b[0;34m\u001b[0m\u001b[0m\n\u001b[0m\u001b[1;32m    797\u001b[0m             )\n\u001b[1;32m    798\u001b[0m \u001b[0;34m\u001b[0m\u001b[0m\n",
            "\u001b[0;31mValueError\u001b[0m: Found array with dim 3. StandardScaler expected <= 2."
          ]
        }
      ],
      "source": [
        "prepare_df_ss('approach2')"
      ]
    },
    {
      "cell_type": "code",
      "execution_count": null,
      "metadata": {
        "id": "v068lSxFxKnB"
      },
      "outputs": [],
      "source": [
        "prepare_df_ss('approach3')"
      ]
    },
    {
      "cell_type": "code",
      "execution_count": null,
      "metadata": {
        "id": "t1dLkdE5xLmI"
      },
      "outputs": [],
      "source": [
        "prepare_df_ss('approach4')"
      ]
    },
    {
      "cell_type": "code",
      "execution_count": 11,
      "metadata": {
        "colab": {
          "base_uri": "https://localhost:8080/",
          "height": 424
        },
        "id": "KGQh6dnQxRcj",
        "outputId": "2f5d0623-481c-4dae-8db2-bca390420ae8"
      },
      "outputs": [
        {
          "data": {
            "text/html": [
              "\n",
              "  <div id=\"df-25ba3273-7da3-438f-915b-5e087d920ef0\">\n",
              "    <div class=\"colab-df-container\">\n",
              "      <div>\n",
              "<style scoped>\n",
              "    .dataframe tbody tr th:only-of-type {\n",
              "        vertical-align: middle;\n",
              "    }\n",
              "\n",
              "    .dataframe tbody tr th {\n",
              "        vertical-align: top;\n",
              "    }\n",
              "\n",
              "    .dataframe thead th {\n",
              "        text-align: right;\n",
              "    }\n",
              "</style>\n",
              "<table border=\"1\" class=\"dataframe\">\n",
              "  <thead>\n",
              "    <tr style=\"text-align: right;\">\n",
              "      <th></th>\n",
              "      <th>fns</th>\n",
              "      <th>label</th>\n",
              "      <th>subject</th>\n",
              "      <th>session</th>\n",
              "      <th>is_valid</th>\n",
              "    </tr>\n",
              "  </thead>\n",
              "  <tbody>\n",
              "    <tr>\n",
              "      <th>0</th>\n",
              "      <td>processeddata/individuals/afterica/task-eyes c...</td>\n",
              "      <td>task-eyes closed</td>\n",
              "      <td>sub-53</td>\n",
              "      <td>ses-session3</td>\n",
              "      <td>True</td>\n",
              "    </tr>\n",
              "    <tr>\n",
              "      <th>1</th>\n",
              "      <td>processeddata/individuals/afterica/task-eyes o...</td>\n",
              "      <td>task-eyes open</td>\n",
              "      <td>sub-53</td>\n",
              "      <td>ses-session3</td>\n",
              "      <td>True</td>\n",
              "    </tr>\n",
              "    <tr>\n",
              "      <th>2</th>\n",
              "      <td>processeddata/individuals/afterica/task-memory...</td>\n",
              "      <td>task-memory</td>\n",
              "      <td>sub-54</td>\n",
              "      <td>ses-session1</td>\n",
              "      <td>True</td>\n",
              "    </tr>\n",
              "    <tr>\n",
              "      <th>3</th>\n",
              "      <td>processeddata/individuals/afterica/task-mathem...</td>\n",
              "      <td>task-mathematic</td>\n",
              "      <td>sub-54</td>\n",
              "      <td>ses-session1</td>\n",
              "      <td>True</td>\n",
              "    </tr>\n",
              "    <tr>\n",
              "      <th>4</th>\n",
              "      <td>processeddata/individuals/afterica/task-music_...</td>\n",
              "      <td>task-music</td>\n",
              "      <td>sub-54</td>\n",
              "      <td>ses-session1</td>\n",
              "      <td>True</td>\n",
              "    </tr>\n",
              "    <tr>\n",
              "      <th>...</th>\n",
              "      <td>...</td>\n",
              "      <td>...</td>\n",
              "      <td>...</td>\n",
              "      <td>...</td>\n",
              "      <td>...</td>\n",
              "    </tr>\n",
              "    <tr>\n",
              "      <th>891</th>\n",
              "      <td>processeddata/individuals/afterica/task-eyes o...</td>\n",
              "      <td>task-eyes open</td>\n",
              "      <td>sub-20</td>\n",
              "      <td>ses-session1</td>\n",
              "      <td>False</td>\n",
              "    </tr>\n",
              "    <tr>\n",
              "      <th>892</th>\n",
              "      <td>processeddata/individuals/afterica/task-eyes o...</td>\n",
              "      <td>task-eyes open</td>\n",
              "      <td>sub-19</td>\n",
              "      <td>ses-session1</td>\n",
              "      <td>False</td>\n",
              "    </tr>\n",
              "    <tr>\n",
              "      <th>893</th>\n",
              "      <td>processeddata/individuals/afterica/task-mathem...</td>\n",
              "      <td>task-mathematic</td>\n",
              "      <td>sub-20</td>\n",
              "      <td>ses-session2</td>\n",
              "      <td>False</td>\n",
              "    </tr>\n",
              "    <tr>\n",
              "      <th>894</th>\n",
              "      <td>processeddata/individuals/afterica/task-music_...</td>\n",
              "      <td>task-music</td>\n",
              "      <td>sub-20</td>\n",
              "      <td>ses-session2</td>\n",
              "      <td>False</td>\n",
              "    </tr>\n",
              "    <tr>\n",
              "      <th>895</th>\n",
              "      <td>processeddata/individuals/afterica/task-eyes c...</td>\n",
              "      <td>task-eyes closed</td>\n",
              "      <td>sub-20</td>\n",
              "      <td>ses-session2</td>\n",
              "      <td>False</td>\n",
              "    </tr>\n",
              "  </tbody>\n",
              "</table>\n",
              "<p>896 rows × 5 columns</p>\n",
              "</div>\n",
              "      <button class=\"colab-df-convert\" onclick=\"convertToInteractive('df-25ba3273-7da3-438f-915b-5e087d920ef0')\"\n",
              "              title=\"Convert this dataframe to an interactive table.\"\n",
              "              style=\"display:none;\">\n",
              "        \n",
              "  <svg xmlns=\"http://www.w3.org/2000/svg\" height=\"24px\"viewBox=\"0 0 24 24\"\n",
              "       width=\"24px\">\n",
              "    <path d=\"M0 0h24v24H0V0z\" fill=\"none\"/>\n",
              "    <path d=\"M18.56 5.44l.94 2.06.94-2.06 2.06-.94-2.06-.94-.94-2.06-.94 2.06-2.06.94zm-11 1L8.5 8.5l.94-2.06 2.06-.94-2.06-.94L8.5 2.5l-.94 2.06-2.06.94zm10 10l.94 2.06.94-2.06 2.06-.94-2.06-.94-.94-2.06-.94 2.06-2.06.94z\"/><path d=\"M17.41 7.96l-1.37-1.37c-.4-.4-.92-.59-1.43-.59-.52 0-1.04.2-1.43.59L10.3 9.45l-7.72 7.72c-.78.78-.78 2.05 0 2.83L4 21.41c.39.39.9.59 1.41.59.51 0 1.02-.2 1.41-.59l7.78-7.78 2.81-2.81c.8-.78.8-2.07 0-2.86zM5.41 20L4 18.59l7.72-7.72 1.47 1.35L5.41 20z\"/>\n",
              "  </svg>\n",
              "      </button>\n",
              "      \n",
              "  <style>\n",
              "    .colab-df-container {\n",
              "      display:flex;\n",
              "      flex-wrap:wrap;\n",
              "      gap: 12px;\n",
              "    }\n",
              "\n",
              "    .colab-df-convert {\n",
              "      background-color: #E8F0FE;\n",
              "      border: none;\n",
              "      border-radius: 50%;\n",
              "      cursor: pointer;\n",
              "      display: none;\n",
              "      fill: #1967D2;\n",
              "      height: 32px;\n",
              "      padding: 0 0 0 0;\n",
              "      width: 32px;\n",
              "    }\n",
              "\n",
              "    .colab-df-convert:hover {\n",
              "      background-color: #E2EBFA;\n",
              "      box-shadow: 0px 1px 2px rgba(60, 64, 67, 0.3), 0px 1px 3px 1px rgba(60, 64, 67, 0.15);\n",
              "      fill: #174EA6;\n",
              "    }\n",
              "\n",
              "    [theme=dark] .colab-df-convert {\n",
              "      background-color: #3B4455;\n",
              "      fill: #D2E3FC;\n",
              "    }\n",
              "\n",
              "    [theme=dark] .colab-df-convert:hover {\n",
              "      background-color: #434B5C;\n",
              "      box-shadow: 0px 1px 3px 1px rgba(0, 0, 0, 0.15);\n",
              "      filter: drop-shadow(0px 1px 2px rgba(0, 0, 0, 0.3));\n",
              "      fill: #FFFFFF;\n",
              "    }\n",
              "  </style>\n",
              "\n",
              "      <script>\n",
              "        const buttonEl =\n",
              "          document.querySelector('#df-25ba3273-7da3-438f-915b-5e087d920ef0 button.colab-df-convert');\n",
              "        buttonEl.style.display =\n",
              "          google.colab.kernel.accessAllowed ? 'block' : 'none';\n",
              "\n",
              "        async function convertToInteractive(key) {\n",
              "          const element = document.querySelector('#df-25ba3273-7da3-438f-915b-5e087d920ef0');\n",
              "          const dataTable =\n",
              "            await google.colab.kernel.invokeFunction('convertToInteractive',\n",
              "                                                     [key], {});\n",
              "          if (!dataTable) return;\n",
              "\n",
              "          const docLinkHtml = 'Like what you see? Visit the ' +\n",
              "            '<a target=\"_blank\" href=https://colab.research.google.com/notebooks/data_table.ipynb>data table notebook</a>'\n",
              "            + ' to learn more about interactive tables.';\n",
              "          element.innerHTML = '';\n",
              "          dataTable['output_type'] = 'display_data';\n",
              "          await google.colab.output.renderOutput(dataTable, element);\n",
              "          const docLink = document.createElement('div');\n",
              "          docLink.innerHTML = docLinkHtml;\n",
              "          element.appendChild(docLink);\n",
              "        }\n",
              "      </script>\n",
              "    </div>\n",
              "  </div>\n",
              "  "
            ],
            "text/plain": [
              "                                                   fns             label  \\\n",
              "0    processeddata/individuals/afterica/task-eyes c...  task-eyes closed   \n",
              "1    processeddata/individuals/afterica/task-eyes o...    task-eyes open   \n",
              "2    processeddata/individuals/afterica/task-memory...       task-memory   \n",
              "3    processeddata/individuals/afterica/task-mathem...   task-mathematic   \n",
              "4    processeddata/individuals/afterica/task-music_...        task-music   \n",
              "..                                                 ...               ...   \n",
              "891  processeddata/individuals/afterica/task-eyes o...    task-eyes open   \n",
              "892  processeddata/individuals/afterica/task-eyes o...    task-eyes open   \n",
              "893  processeddata/individuals/afterica/task-mathem...   task-mathematic   \n",
              "894  processeddata/individuals/afterica/task-music_...        task-music   \n",
              "895  processeddata/individuals/afterica/task-eyes c...  task-eyes closed   \n",
              "\n",
              "    subject       session  is_valid  \n",
              "0    sub-53  ses-session3      True  \n",
              "1    sub-53  ses-session3      True  \n",
              "2    sub-54  ses-session1      True  \n",
              "3    sub-54  ses-session1      True  \n",
              "4    sub-54  ses-session1      True  \n",
              "..      ...           ...       ...  \n",
              "891  sub-20  ses-session1     False  \n",
              "892  sub-19  ses-session1     False  \n",
              "893  sub-20  ses-session2     False  \n",
              "894  sub-20  ses-session2     False  \n",
              "895  sub-20  ses-session2     False  \n",
              "\n",
              "[896 rows x 5 columns]"
            ]
          },
          "execution_count": 11,
          "metadata": {},
          "output_type": "execute_result"
        }
      ],
      "source": [
        "df"
      ]
    },
    {
      "cell_type": "code",
      "execution_count": 12,
      "metadata": {
        "colab": {
          "base_uri": "https://localhost:8080/"
        },
        "id": "gFTgwp1s2PKO",
        "outputId": "0852b016-746b-49c0-ed8a-0868832f9221"
      },
      "outputs": [
        {
          "data": {
            "text/plain": [
              "(745, 6, 61, 5000)"
            ]
          },
          "execution_count": 12,
          "metadata": {},
          "output_type": "execute_result"
        }
      ],
      "source": [
        "features.shape"
      ]
    },
    {
      "cell_type": "code",
      "execution_count": null,
      "metadata": {
        "id": "3Rw946Ub2Wdp"
      },
      "outputs": [],
      "source": []
    }
  ],
  "metadata": {
    "colab": {
      "collapsed_sections": [],
      "name": "arshy_preparedata_final.ipynb",
      "provenance": []
    },
    "kernelspec": {
      "display_name": "Python 3",
      "name": "python3"
    },
    "language_info": {
      "name": "python"
    }
  },
  "nbformat": 4,
  "nbformat_minor": 0
}
